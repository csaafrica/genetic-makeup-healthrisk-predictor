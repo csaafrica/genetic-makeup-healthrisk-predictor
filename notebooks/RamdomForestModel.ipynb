{
 "cells": [
  {
   "cell_type": "markdown",
   "id": "8455e77a",
   "metadata": {},
   "source": []
  },
  {
   "cell_type": "code",
   "execution_count": null,
   "id": "a4228cf6",
   "metadata": {},
   "outputs": [],
   "source": [
    "import numpy as np\n",
    "import pandas as pd\n",
    "import matplotlib.pyplot as plt\n",
    "import seaborn as sns\n",
    "from sklearn.preprocessing import OneHotEncoder\n",
    "from sklearn.preprocessing import StandardScaler\n"
   ]
  },
  {
   "cell_type": "code",
   "execution_count": 4,
   "id": "fb8d7756",
   "metadata": {},
   "outputs": [
    {
     "data": {
      "application/vnd.microsoft.datawrangler.viewer.v0+json": {
       "columns": [
        {
         "name": "index",
         "rawType": "int64",
         "type": "integer"
        },
        {
         "name": "age",
         "rawType": "float64",
         "type": "float"
        },
        {
         "name": "systolic_BP",
         "rawType": "float64",
         "type": "float"
        },
        {
         "name": "diastolic_BP",
         "rawType": "float64",
         "type": "float"
        },
        {
         "name": "LDL_cholesterol",
         "rawType": "float64",
         "type": "float"
        },
        {
         "name": "HDL_cholesterol",
         "rawType": "float64",
         "type": "float"
        },
        {
         "name": "height",
         "rawType": "float64",
         "type": "float"
        },
        {
         "name": "weight",
         "rawType": "float64",
         "type": "float"
        },
        {
         "name": "BMI",
         "rawType": "float64",
         "type": "float"
        },
        {
         "name": "waist_circumference",
         "rawType": "float64",
         "type": "float"
        },
        {
         "name": "hip_circumference",
         "rawType": "float64",
         "type": "float"
        },
        {
         "name": "WHR",
         "rawType": "float64",
         "type": "float"
        },
        {
         "name": "SNP_1",
         "rawType": "int64",
         "type": "integer"
        },
        {
         "name": "SNP_2",
         "rawType": "int64",
         "type": "integer"
        },
        {
         "name": "SNP_3",
         "rawType": "int64",
         "type": "integer"
        },
        {
         "name": "SNP_4",
         "rawType": "int64",
         "type": "integer"
        },
        {
         "name": "SNP_5",
         "rawType": "int64",
         "type": "integer"
        },
        {
         "name": "SNP_6",
         "rawType": "int64",
         "type": "integer"
        },
        {
         "name": "SNP_7",
         "rawType": "int64",
         "type": "integer"
        },
        {
         "name": "SNP_8",
         "rawType": "int64",
         "type": "integer"
        },
        {
         "name": "SNP_9",
         "rawType": "int64",
         "type": "integer"
        },
        {
         "name": "SNP_10",
         "rawType": "int64",
         "type": "integer"
        },
        {
         "name": "SNP_11",
         "rawType": "int64",
         "type": "integer"
        },
        {
         "name": "SNP_12",
         "rawType": "int64",
         "type": "integer"
        },
        {
         "name": "SNP_13",
         "rawType": "int64",
         "type": "integer"
        },
        {
         "name": "SNP_14",
         "rawType": "int64",
         "type": "integer"
        },
        {
         "name": "SNP_15",
         "rawType": "int64",
         "type": "integer"
        },
        {
         "name": "SNP_16",
         "rawType": "int64",
         "type": "integer"
        },
        {
         "name": "SNP_17",
         "rawType": "int64",
         "type": "integer"
        },
        {
         "name": "SNP_18",
         "rawType": "int64",
         "type": "integer"
        },
        {
         "name": "SNP_19",
         "rawType": "int64",
         "type": "integer"
        },
        {
         "name": "SNP_20",
         "rawType": "int64",
         "type": "integer"
        },
        {
         "name": "SNP_21",
         "rawType": "int64",
         "type": "integer"
        },
        {
         "name": "SNP_22",
         "rawType": "int64",
         "type": "integer"
        },
        {
         "name": "SNP_23",
         "rawType": "int64",
         "type": "integer"
        },
        {
         "name": "SNP_24",
         "rawType": "int64",
         "type": "integer"
        },
        {
         "name": "SNP_25",
         "rawType": "int64",
         "type": "integer"
        },
        {
         "name": "SNP_26",
         "rawType": "int64",
         "type": "integer"
        },
        {
         "name": "SNP_27",
         "rawType": "int64",
         "type": "integer"
        },
        {
         "name": "SNP_28",
         "rawType": "int64",
         "type": "integer"
        },
        {
         "name": "SNP_29",
         "rawType": "int64",
         "type": "integer"
        },
        {
         "name": "SNP_30",
         "rawType": "int64",
         "type": "integer"
        },
        {
         "name": "SNP_31",
         "rawType": "int64",
         "type": "integer"
        },
        {
         "name": "SNP_32",
         "rawType": "int64",
         "type": "integer"
        },
        {
         "name": "SNP_33",
         "rawType": "int64",
         "type": "integer"
        },
        {
         "name": "SNP_34",
         "rawType": "int64",
         "type": "integer"
        },
        {
         "name": "SNP_35",
         "rawType": "int64",
         "type": "integer"
        },
        {
         "name": "SNP_36",
         "rawType": "int64",
         "type": "integer"
        },
        {
         "name": "SNP_37",
         "rawType": "int64",
         "type": "integer"
        },
        {
         "name": "SNP_38",
         "rawType": "int64",
         "type": "integer"
        },
        {
         "name": "SNP_39",
         "rawType": "int64",
         "type": "integer"
        },
        {
         "name": "SNP_40",
         "rawType": "int64",
         "type": "integer"
        },
        {
         "name": "SNP_41",
         "rawType": "int64",
         "type": "integer"
        },
        {
         "name": "SNP_42",
         "rawType": "int64",
         "type": "integer"
        },
        {
         "name": "SNP_43",
         "rawType": "int64",
         "type": "integer"
        },
        {
         "name": "SNP_44",
         "rawType": "int64",
         "type": "integer"
        },
        {
         "name": "SNP_45",
         "rawType": "int64",
         "type": "integer"
        },
        {
         "name": "SNP_46",
         "rawType": "int64",
         "type": "integer"
        },
        {
         "name": "SNP_47",
         "rawType": "int64",
         "type": "integer"
        },
        {
         "name": "SNP_48",
         "rawType": "int64",
         "type": "integer"
        },
        {
         "name": "SNP_49",
         "rawType": "int64",
         "type": "integer"
        },
        {
         "name": "SNP_50",
         "rawType": "int64",
         "type": "integer"
        },
        {
         "name": "SNP_51",
         "rawType": "int64",
         "type": "integer"
        },
        {
         "name": "SNP_52",
         "rawType": "int64",
         "type": "integer"
        },
        {
         "name": "SNP_53",
         "rawType": "int64",
         "type": "integer"
        },
        {
         "name": "SNP_54",
         "rawType": "int64",
         "type": "integer"
        },
        {
         "name": "SNP_55",
         "rawType": "int64",
         "type": "integer"
        },
        {
         "name": "SNP_56",
         "rawType": "int64",
         "type": "integer"
        },
        {
         "name": "SNP_57",
         "rawType": "int64",
         "type": "integer"
        },
        {
         "name": "SNP_58",
         "rawType": "int64",
         "type": "integer"
        },
        {
         "name": "SNP_59",
         "rawType": "int64",
         "type": "integer"
        },
        {
         "name": "SNP_60",
         "rawType": "int64",
         "type": "integer"
        },
        {
         "name": "SNP_61",
         "rawType": "int64",
         "type": "integer"
        },
        {
         "name": "SNP_62",
         "rawType": "int64",
         "type": "integer"
        },
        {
         "name": "SNP_63",
         "rawType": "int64",
         "type": "integer"
        },
        {
         "name": "SNP_64",
         "rawType": "int64",
         "type": "integer"
        },
        {
         "name": "SNP_65",
         "rawType": "int64",
         "type": "integer"
        },
        {
         "name": "SNP_66",
         "rawType": "int64",
         "type": "integer"
        },
        {
         "name": "SNP_67",
         "rawType": "int64",
         "type": "integer"
        },
        {
         "name": "SNP_68",
         "rawType": "int64",
         "type": "integer"
        },
        {
         "name": "SNP_69",
         "rawType": "int64",
         "type": "integer"
        },
        {
         "name": "SNP_70",
         "rawType": "int64",
         "type": "integer"
        },
        {
         "name": "SNP_71",
         "rawType": "int64",
         "type": "integer"
        },
        {
         "name": "SNP_72",
         "rawType": "int64",
         "type": "integer"
        },
        {
         "name": "SNP_73",
         "rawType": "int64",
         "type": "integer"
        },
        {
         "name": "SNP_74",
         "rawType": "int64",
         "type": "integer"
        },
        {
         "name": "SNP_75",
         "rawType": "int64",
         "type": "integer"
        },
        {
         "name": "SNP_76",
         "rawType": "int64",
         "type": "integer"
        },
        {
         "name": "SNP_77",
         "rawType": "int64",
         "type": "integer"
        },
        {
         "name": "SNP_78",
         "rawType": "int64",
         "type": "integer"
        },
        {
         "name": "SNP_79",
         "rawType": "int64",
         "type": "integer"
        },
        {
         "name": "SNP_80",
         "rawType": "int64",
         "type": "integer"
        },
        {
         "name": "SNP_81",
         "rawType": "int64",
         "type": "integer"
        },
        {
         "name": "SNP_82",
         "rawType": "int64",
         "type": "integer"
        },
        {
         "name": "SNP_83",
         "rawType": "int64",
         "type": "integer"
        },
        {
         "name": "SNP_84",
         "rawType": "int64",
         "type": "integer"
        },
        {
         "name": "SNP_85",
         "rawType": "int64",
         "type": "integer"
        },
        {
         "name": "SNP_86",
         "rawType": "int64",
         "type": "integer"
        },
        {
         "name": "SNP_87",
         "rawType": "int64",
         "type": "integer"
        },
        {
         "name": "SNP_88",
         "rawType": "int64",
         "type": "integer"
        },
        {
         "name": "SNP_89",
         "rawType": "int64",
         "type": "integer"
        },
        {
         "name": "SNP_90",
         "rawType": "int64",
         "type": "integer"
        },
        {
         "name": "SNP_91",
         "rawType": "int64",
         "type": "integer"
        },
        {
         "name": "SNP_92",
         "rawType": "int64",
         "type": "integer"
        },
        {
         "name": "SNP_93",
         "rawType": "int64",
         "type": "integer"
        },
        {
         "name": "SNP_94",
         "rawType": "int64",
         "type": "integer"
        },
        {
         "name": "SNP_95",
         "rawType": "int64",
         "type": "integer"
        },
        {
         "name": "SNP_96",
         "rawType": "int64",
         "type": "integer"
        },
        {
         "name": "SNP_97",
         "rawType": "int64",
         "type": "integer"
        },
        {
         "name": "SNP_98",
         "rawType": "int64",
         "type": "integer"
        },
        {
         "name": "SNP_99",
         "rawType": "int64",
         "type": "integer"
        },
        {
         "name": "SNP_100",
         "rawType": "int64",
         "type": "integer"
        },
        {
         "name": "SNP_101",
         "rawType": "int64",
         "type": "integer"
        },
        {
         "name": "SNP_102",
         "rawType": "int64",
         "type": "integer"
        },
        {
         "name": "SNP_103",
         "rawType": "int64",
         "type": "integer"
        },
        {
         "name": "SNP_104",
         "rawType": "int64",
         "type": "integer"
        },
        {
         "name": "SNP_105",
         "rawType": "int64",
         "type": "integer"
        },
        {
         "name": "SNP_106",
         "rawType": "int64",
         "type": "integer"
        },
        {
         "name": "SNP_107",
         "rawType": "int64",
         "type": "integer"
        },
        {
         "name": "SNP_108",
         "rawType": "int64",
         "type": "integer"
        },
        {
         "name": "SNP_109",
         "rawType": "int64",
         "type": "integer"
        },
        {
         "name": "SNP_110",
         "rawType": "int64",
         "type": "integer"
        },
        {
         "name": "SNP_111",
         "rawType": "int64",
         "type": "integer"
        },
        {
         "name": "SNP_112",
         "rawType": "int64",
         "type": "integer"
        },
        {
         "name": "SNP_113",
         "rawType": "int64",
         "type": "integer"
        },
        {
         "name": "SNP_114",
         "rawType": "int64",
         "type": "integer"
        },
        {
         "name": "SNP_115",
         "rawType": "int64",
         "type": "integer"
        },
        {
         "name": "SNP_116",
         "rawType": "int64",
         "type": "integer"
        },
        {
         "name": "SNP_117",
         "rawType": "int64",
         "type": "integer"
        },
        {
         "name": "SNP_118",
         "rawType": "int64",
         "type": "integer"
        },
        {
         "name": "SNP_119",
         "rawType": "int64",
         "type": "integer"
        },
        {
         "name": "SNP_120",
         "rawType": "int64",
         "type": "integer"
        },
        {
         "name": "SNP_121",
         "rawType": "int64",
         "type": "integer"
        },
        {
         "name": "SNP_122",
         "rawType": "int64",
         "type": "integer"
        },
        {
         "name": "SNP_123",
         "rawType": "int64",
         "type": "integer"
        },
        {
         "name": "SNP_124",
         "rawType": "int64",
         "type": "integer"
        },
        {
         "name": "SNP_125",
         "rawType": "int64",
         "type": "integer"
        },
        {
         "name": "SNP_126",
         "rawType": "int64",
         "type": "integer"
        },
        {
         "name": "SNP_127",
         "rawType": "int64",
         "type": "integer"
        },
        {
         "name": "SNP_128",
         "rawType": "int64",
         "type": "integer"
        },
        {
         "name": "SNP_129",
         "rawType": "int64",
         "type": "integer"
        },
        {
         "name": "SNP_130",
         "rawType": "int64",
         "type": "integer"
        },
        {
         "name": "SNP_131",
         "rawType": "int64",
         "type": "integer"
        },
        {
         "name": "SNP_132",
         "rawType": "int64",
         "type": "integer"
        },
        {
         "name": "SNP_133",
         "rawType": "int64",
         "type": "integer"
        },
        {
         "name": "SNP_134",
         "rawType": "int64",
         "type": "integer"
        },
        {
         "name": "SNP_135",
         "rawType": "int64",
         "type": "integer"
        },
        {
         "name": "SNP_136",
         "rawType": "int64",
         "type": "integer"
        },
        {
         "name": "SNP_137",
         "rawType": "int64",
         "type": "integer"
        },
        {
         "name": "SNP_138",
         "rawType": "int64",
         "type": "integer"
        },
        {
         "name": "SNP_139",
         "rawType": "int64",
         "type": "integer"
        },
        {
         "name": "SNP_140",
         "rawType": "int64",
         "type": "integer"
        },
        {
         "name": "SNP_141",
         "rawType": "int64",
         "type": "integer"
        },
        {
         "name": "SNP_142",
         "rawType": "int64",
         "type": "integer"
        },
        {
         "name": "SNP_143",
         "rawType": "int64",
         "type": "integer"
        },
        {
         "name": "SNP_144",
         "rawType": "int64",
         "type": "integer"
        },
        {
         "name": "SNP_145",
         "rawType": "int64",
         "type": "integer"
        },
        {
         "name": "SNP_146",
         "rawType": "int64",
         "type": "integer"
        },
        {
         "name": "SNP_147",
         "rawType": "int64",
         "type": "integer"
        },
        {
         "name": "SNP_148",
         "rawType": "int64",
         "type": "integer"
        },
        {
         "name": "SNP_149",
         "rawType": "int64",
         "type": "integer"
        },
        {
         "name": "SNP_150",
         "rawType": "int64",
         "type": "integer"
        },
        {
         "name": "SNP_151",
         "rawType": "int64",
         "type": "integer"
        },
        {
         "name": "SNP_152",
         "rawType": "int64",
         "type": "integer"
        },
        {
         "name": "SNP_153",
         "rawType": "int64",
         "type": "integer"
        },
        {
         "name": "SNP_154",
         "rawType": "int64",
         "type": "integer"
        },
        {
         "name": "SNP_155",
         "rawType": "int64",
         "type": "integer"
        },
        {
         "name": "SNP_156",
         "rawType": "int64",
         "type": "integer"
        },
        {
         "name": "SNP_157",
         "rawType": "int64",
         "type": "integer"
        },
        {
         "name": "SNP_158",
         "rawType": "int64",
         "type": "integer"
        },
        {
         "name": "SNP_159",
         "rawType": "int64",
         "type": "integer"
        },
        {
         "name": "SNP_160",
         "rawType": "int64",
         "type": "integer"
        },
        {
         "name": "SNP_161",
         "rawType": "int64",
         "type": "integer"
        },
        {
         "name": "SNP_162",
         "rawType": "int64",
         "type": "integer"
        },
        {
         "name": "SNP_163",
         "rawType": "int64",
         "type": "integer"
        },
        {
         "name": "SNP_164",
         "rawType": "int64",
         "type": "integer"
        },
        {
         "name": "SNP_165",
         "rawType": "int64",
         "type": "integer"
        },
        {
         "name": "SNP_166",
         "rawType": "int64",
         "type": "integer"
        },
        {
         "name": "SNP_167",
         "rawType": "int64",
         "type": "integer"
        },
        {
         "name": "SNP_168",
         "rawType": "int64",
         "type": "integer"
        },
        {
         "name": "SNP_169",
         "rawType": "int64",
         "type": "integer"
        },
        {
         "name": "SNP_170",
         "rawType": "int64",
         "type": "integer"
        },
        {
         "name": "SNP_171",
         "rawType": "int64",
         "type": "integer"
        },
        {
         "name": "SNP_172",
         "rawType": "int64",
         "type": "integer"
        },
        {
         "name": "SNP_173",
         "rawType": "int64",
         "type": "integer"
        },
        {
         "name": "SNP_174",
         "rawType": "int64",
         "type": "integer"
        },
        {
         "name": "SNP_175",
         "rawType": "int64",
         "type": "integer"
        },
        {
         "name": "SNP_176",
         "rawType": "int64",
         "type": "integer"
        },
        {
         "name": "SNP_177",
         "rawType": "int64",
         "type": "integer"
        },
        {
         "name": "SNP_178",
         "rawType": "int64",
         "type": "integer"
        },
        {
         "name": "SNP_179",
         "rawType": "int64",
         "type": "integer"
        },
        {
         "name": "SNP_180",
         "rawType": "int64",
         "type": "integer"
        },
        {
         "name": "SNP_181",
         "rawType": "int64",
         "type": "integer"
        },
        {
         "name": "SNP_182",
         "rawType": "int64",
         "type": "integer"
        },
        {
         "name": "SNP_183",
         "rawType": "int64",
         "type": "integer"
        },
        {
         "name": "SNP_184",
         "rawType": "int64",
         "type": "integer"
        },
        {
         "name": "SNP_185",
         "rawType": "int64",
         "type": "integer"
        },
        {
         "name": "SNP_186",
         "rawType": "int64",
         "type": "integer"
        },
        {
         "name": "SNP_187",
         "rawType": "int64",
         "type": "integer"
        },
        {
         "name": "SNP_188",
         "rawType": "int64",
         "type": "integer"
        },
        {
         "name": "SNP_189",
         "rawType": "int64",
         "type": "integer"
        },
        {
         "name": "SNP_190",
         "rawType": "int64",
         "type": "integer"
        },
        {
         "name": "SNP_191",
         "rawType": "int64",
         "type": "integer"
        },
        {
         "name": "SNP_192",
         "rawType": "int64",
         "type": "integer"
        },
        {
         "name": "SNP_193",
         "rawType": "int64",
         "type": "integer"
        },
        {
         "name": "SNP_194",
         "rawType": "int64",
         "type": "integer"
        },
        {
         "name": "SNP_195",
         "rawType": "int64",
         "type": "integer"
        },
        {
         "name": "SNP_196",
         "rawType": "int64",
         "type": "integer"
        },
        {
         "name": "SNP_197",
         "rawType": "int64",
         "type": "integer"
        },
        {
         "name": "SNP_198",
         "rawType": "int64",
         "type": "integer"
        },
        {
         "name": "SNP_199",
         "rawType": "int64",
         "type": "integer"
        },
        {
         "name": "SNP_200",
         "rawType": "int64",
         "type": "integer"
        },
        {
         "name": "SNP_201",
         "rawType": "int64",
         "type": "integer"
        },
        {
         "name": "SNP_202",
         "rawType": "int64",
         "type": "integer"
        },
        {
         "name": "SNP_203",
         "rawType": "int64",
         "type": "integer"
        },
        {
         "name": "SNP_204",
         "rawType": "int64",
         "type": "integer"
        },
        {
         "name": "SNP_205",
         "rawType": "int64",
         "type": "integer"
        },
        {
         "name": "SNP_206",
         "rawType": "int64",
         "type": "integer"
        },
        {
         "name": "SNP_207",
         "rawType": "int64",
         "type": "integer"
        },
        {
         "name": "SNP_208",
         "rawType": "int64",
         "type": "integer"
        },
        {
         "name": "SNP_209",
         "rawType": "int64",
         "type": "integer"
        },
        {
         "name": "SNP_210",
         "rawType": "int64",
         "type": "integer"
        },
        {
         "name": "SNP_211",
         "rawType": "int64",
         "type": "integer"
        },
        {
         "name": "SNP_212",
         "rawType": "int64",
         "type": "integer"
        },
        {
         "name": "SNP_213",
         "rawType": "int64",
         "type": "integer"
        },
        {
         "name": "SNP_214",
         "rawType": "int64",
         "type": "integer"
        },
        {
         "name": "SNP_215",
         "rawType": "int64",
         "type": "integer"
        },
        {
         "name": "SNP_216",
         "rawType": "int64",
         "type": "integer"
        },
        {
         "name": "SNP_217",
         "rawType": "int64",
         "type": "integer"
        },
        {
         "name": "SNP_218",
         "rawType": "int64",
         "type": "integer"
        },
        {
         "name": "SNP_219",
         "rawType": "int64",
         "type": "integer"
        },
        {
         "name": "SNP_220",
         "rawType": "int64",
         "type": "integer"
        },
        {
         "name": "SNP_221",
         "rawType": "int64",
         "type": "integer"
        },
        {
         "name": "SNP_222",
         "rawType": "int64",
         "type": "integer"
        },
        {
         "name": "SNP_223",
         "rawType": "int64",
         "type": "integer"
        },
        {
         "name": "SNP_224",
         "rawType": "int64",
         "type": "integer"
        },
        {
         "name": "SNP_225",
         "rawType": "int64",
         "type": "integer"
        },
        {
         "name": "SNP_226",
         "rawType": "int64",
         "type": "integer"
        },
        {
         "name": "SNP_227",
         "rawType": "int64",
         "type": "integer"
        },
        {
         "name": "SNP_228",
         "rawType": "int64",
         "type": "integer"
        },
        {
         "name": "SNP_229",
         "rawType": "int64",
         "type": "integer"
        },
        {
         "name": "SNP_230",
         "rawType": "int64",
         "type": "integer"
        },
        {
         "name": "SNP_231",
         "rawType": "int64",
         "type": "integer"
        },
        {
         "name": "SNP_232",
         "rawType": "int64",
         "type": "integer"
        },
        {
         "name": "SNP_233",
         "rawType": "int64",
         "type": "integer"
        },
        {
         "name": "SNP_234",
         "rawType": "int64",
         "type": "integer"
        },
        {
         "name": "SNP_235",
         "rawType": "int64",
         "type": "integer"
        },
        {
         "name": "SNP_236",
         "rawType": "int64",
         "type": "integer"
        },
        {
         "name": "SNP_237",
         "rawType": "int64",
         "type": "integer"
        },
        {
         "name": "SNP_238",
         "rawType": "int64",
         "type": "integer"
        },
        {
         "name": "SNP_239",
         "rawType": "int64",
         "type": "integer"
        },
        {
         "name": "SNP_240",
         "rawType": "int64",
         "type": "integer"
        },
        {
         "name": "SNP_241",
         "rawType": "int64",
         "type": "integer"
        },
        {
         "name": "SNP_242",
         "rawType": "int64",
         "type": "integer"
        },
        {
         "name": "SNP_243",
         "rawType": "int64",
         "type": "integer"
        },
        {
         "name": "SNP_244",
         "rawType": "int64",
         "type": "integer"
        },
        {
         "name": "SNP_245",
         "rawType": "int64",
         "type": "integer"
        },
        {
         "name": "SNP_246",
         "rawType": "int64",
         "type": "integer"
        },
        {
         "name": "SNP_247",
         "rawType": "int64",
         "type": "integer"
        },
        {
         "name": "SNP_248",
         "rawType": "int64",
         "type": "integer"
        },
        {
         "name": "SNP_249",
         "rawType": "int64",
         "type": "integer"
        },
        {
         "name": "SNP_250",
         "rawType": "int64",
         "type": "integer"
        },
        {
         "name": "SNP_251",
         "rawType": "int64",
         "type": "integer"
        },
        {
         "name": "SNP_252",
         "rawType": "int64",
         "type": "integer"
        },
        {
         "name": "SNP_253",
         "rawType": "int64",
         "type": "integer"
        },
        {
         "name": "SNP_254",
         "rawType": "int64",
         "type": "integer"
        },
        {
         "name": "SNP_255",
         "rawType": "int64",
         "type": "integer"
        },
        {
         "name": "SNP_256",
         "rawType": "int64",
         "type": "integer"
        },
        {
         "name": "SNP_257",
         "rawType": "int64",
         "type": "integer"
        },
        {
         "name": "SNP_258",
         "rawType": "int64",
         "type": "integer"
        },
        {
         "name": "SNP_259",
         "rawType": "int64",
         "type": "integer"
        },
        {
         "name": "SNP_260",
         "rawType": "int64",
         "type": "integer"
        },
        {
         "name": "SNP_261",
         "rawType": "int64",
         "type": "integer"
        },
        {
         "name": "SNP_262",
         "rawType": "int64",
         "type": "integer"
        },
        {
         "name": "SNP_263",
         "rawType": "int64",
         "type": "integer"
        },
        {
         "name": "SNP_264",
         "rawType": "int64",
         "type": "integer"
        },
        {
         "name": "SNP_265",
         "rawType": "int64",
         "type": "integer"
        },
        {
         "name": "SNP_266",
         "rawType": "int64",
         "type": "integer"
        },
        {
         "name": "SNP_267",
         "rawType": "int64",
         "type": "integer"
        },
        {
         "name": "SNP_268",
         "rawType": "int64",
         "type": "integer"
        },
        {
         "name": "SNP_269",
         "rawType": "int64",
         "type": "integer"
        },
        {
         "name": "SNP_270",
         "rawType": "int64",
         "type": "integer"
        },
        {
         "name": "SNP_271",
         "rawType": "int64",
         "type": "integer"
        },
        {
         "name": "SNP_272",
         "rawType": "int64",
         "type": "integer"
        },
        {
         "name": "SNP_273",
         "rawType": "int64",
         "type": "integer"
        },
        {
         "name": "SNP_274",
         "rawType": "int64",
         "type": "integer"
        },
        {
         "name": "SNP_275",
         "rawType": "int64",
         "type": "integer"
        },
        {
         "name": "SNP_276",
         "rawType": "int64",
         "type": "integer"
        },
        {
         "name": "SNP_277",
         "rawType": "int64",
         "type": "integer"
        },
        {
         "name": "SNP_278",
         "rawType": "int64",
         "type": "integer"
        },
        {
         "name": "SNP_279",
         "rawType": "int64",
         "type": "integer"
        },
        {
         "name": "SNP_280",
         "rawType": "int64",
         "type": "integer"
        },
        {
         "name": "SNP_281",
         "rawType": "int64",
         "type": "integer"
        },
        {
         "name": "SNP_282",
         "rawType": "int64",
         "type": "integer"
        },
        {
         "name": "SNP_283",
         "rawType": "int64",
         "type": "integer"
        },
        {
         "name": "SNP_284",
         "rawType": "int64",
         "type": "integer"
        },
        {
         "name": "SNP_285",
         "rawType": "int64",
         "type": "integer"
        },
        {
         "name": "SNP_286",
         "rawType": "int64",
         "type": "integer"
        },
        {
         "name": "SNP_287",
         "rawType": "int64",
         "type": "integer"
        },
        {
         "name": "SNP_288",
         "rawType": "int64",
         "type": "integer"
        },
        {
         "name": "SNP_289",
         "rawType": "int64",
         "type": "integer"
        },
        {
         "name": "SNP_290",
         "rawType": "int64",
         "type": "integer"
        },
        {
         "name": "SNP_291",
         "rawType": "int64",
         "type": "integer"
        },
        {
         "name": "SNP_292",
         "rawType": "int64",
         "type": "integer"
        },
        {
         "name": "SNP_293",
         "rawType": "int64",
         "type": "integer"
        },
        {
         "name": "SNP_294",
         "rawType": "int64",
         "type": "integer"
        },
        {
         "name": "SNP_295",
         "rawType": "int64",
         "type": "integer"
        },
        {
         "name": "SNP_296",
         "rawType": "int64",
         "type": "integer"
        },
        {
         "name": "SNP_297",
         "rawType": "int64",
         "type": "integer"
        },
        {
         "name": "SNP_298",
         "rawType": "int64",
         "type": "integer"
        },
        {
         "name": "SNP_299",
         "rawType": "int64",
         "type": "integer"
        },
        {
         "name": "SNP_300",
         "rawType": "int64",
         "type": "integer"
        },
        {
         "name": "SNP_301",
         "rawType": "int64",
         "type": "integer"
        },
        {
         "name": "SNP_302",
         "rawType": "int64",
         "type": "integer"
        },
        {
         "name": "SNP_303",
         "rawType": "int64",
         "type": "integer"
        },
        {
         "name": "SNP_304",
         "rawType": "int64",
         "type": "integer"
        },
        {
         "name": "SNP_305",
         "rawType": "int64",
         "type": "integer"
        },
        {
         "name": "SNP_306",
         "rawType": "int64",
         "type": "integer"
        },
        {
         "name": "SNP_307",
         "rawType": "int64",
         "type": "integer"
        },
        {
         "name": "SNP_308",
         "rawType": "int64",
         "type": "integer"
        },
        {
         "name": "SNP_309",
         "rawType": "int64",
         "type": "integer"
        },
        {
         "name": "SNP_310",
         "rawType": "int64",
         "type": "integer"
        },
        {
         "name": "SNP_311",
         "rawType": "int64",
         "type": "integer"
        },
        {
         "name": "SNP_312",
         "rawType": "int64",
         "type": "integer"
        },
        {
         "name": "SNP_313",
         "rawType": "int64",
         "type": "integer"
        },
        {
         "name": "SNP_314",
         "rawType": "int64",
         "type": "integer"
        },
        {
         "name": "SNP_315",
         "rawType": "int64",
         "type": "integer"
        },
        {
         "name": "SNP_316",
         "rawType": "int64",
         "type": "integer"
        },
        {
         "name": "SNP_317",
         "rawType": "int64",
         "type": "integer"
        },
        {
         "name": "SNP_318",
         "rawType": "int64",
         "type": "integer"
        },
        {
         "name": "SNP_319",
         "rawType": "int64",
         "type": "integer"
        },
        {
         "name": "SNP_320",
         "rawType": "int64",
         "type": "integer"
        },
        {
         "name": "SNP_321",
         "rawType": "int64",
         "type": "integer"
        },
        {
         "name": "SNP_322",
         "rawType": "int64",
         "type": "integer"
        },
        {
         "name": "SNP_323",
         "rawType": "int64",
         "type": "integer"
        },
        {
         "name": "SNP_324",
         "rawType": "int64",
         "type": "integer"
        },
        {
         "name": "SNP_325",
         "rawType": "int64",
         "type": "integer"
        },
        {
         "name": "SNP_326",
         "rawType": "int64",
         "type": "integer"
        },
        {
         "name": "SNP_327",
         "rawType": "int64",
         "type": "integer"
        },
        {
         "name": "SNP_328",
         "rawType": "int64",
         "type": "integer"
        },
        {
         "name": "SNP_329",
         "rawType": "int64",
         "type": "integer"
        },
        {
         "name": "SNP_330",
         "rawType": "int64",
         "type": "integer"
        },
        {
         "name": "SNP_331",
         "rawType": "int64",
         "type": "integer"
        },
        {
         "name": "SNP_332",
         "rawType": "int64",
         "type": "integer"
        },
        {
         "name": "SNP_333",
         "rawType": "int64",
         "type": "integer"
        },
        {
         "name": "SNP_334",
         "rawType": "int64",
         "type": "integer"
        },
        {
         "name": "SNP_335",
         "rawType": "int64",
         "type": "integer"
        },
        {
         "name": "SNP_336",
         "rawType": "int64",
         "type": "integer"
        },
        {
         "name": "SNP_337",
         "rawType": "int64",
         "type": "integer"
        },
        {
         "name": "SNP_338",
         "rawType": "int64",
         "type": "integer"
        },
        {
         "name": "SNP_339",
         "rawType": "int64",
         "type": "integer"
        },
        {
         "name": "SNP_340",
         "rawType": "int64",
         "type": "integer"
        },
        {
         "name": "SNP_341",
         "rawType": "int64",
         "type": "integer"
        },
        {
         "name": "SNP_342",
         "rawType": "int64",
         "type": "integer"
        },
        {
         "name": "SNP_343",
         "rawType": "int64",
         "type": "integer"
        },
        {
         "name": "SNP_344",
         "rawType": "int64",
         "type": "integer"
        },
        {
         "name": "SNP_345",
         "rawType": "int64",
         "type": "integer"
        },
        {
         "name": "SNP_346",
         "rawType": "int64",
         "type": "integer"
        },
        {
         "name": "SNP_347",
         "rawType": "int64",
         "type": "integer"
        },
        {
         "name": "SNP_348",
         "rawType": "int64",
         "type": "integer"
        },
        {
         "name": "SNP_349",
         "rawType": "int64",
         "type": "integer"
        },
        {
         "name": "SNP_350",
         "rawType": "int64",
         "type": "integer"
        },
        {
         "name": "SNP_351",
         "rawType": "int64",
         "type": "integer"
        },
        {
         "name": "SNP_352",
         "rawType": "int64",
         "type": "integer"
        },
        {
         "name": "SNP_353",
         "rawType": "int64",
         "type": "integer"
        },
        {
         "name": "SNP_354",
         "rawType": "int64",
         "type": "integer"
        },
        {
         "name": "SNP_355",
         "rawType": "int64",
         "type": "integer"
        },
        {
         "name": "SNP_356",
         "rawType": "int64",
         "type": "integer"
        },
        {
         "name": "SNP_357",
         "rawType": "int64",
         "type": "integer"
        },
        {
         "name": "SNP_358",
         "rawType": "int64",
         "type": "integer"
        },
        {
         "name": "SNP_359",
         "rawType": "int64",
         "type": "integer"
        },
        {
         "name": "SNP_360",
         "rawType": "int64",
         "type": "integer"
        },
        {
         "name": "SNP_361",
         "rawType": "int64",
         "type": "integer"
        },
        {
         "name": "SNP_362",
         "rawType": "int64",
         "type": "integer"
        },
        {
         "name": "SNP_363",
         "rawType": "int64",
         "type": "integer"
        },
        {
         "name": "SNP_364",
         "rawType": "int64",
         "type": "integer"
        },
        {
         "name": "SNP_365",
         "rawType": "int64",
         "type": "integer"
        },
        {
         "name": "SNP_366",
         "rawType": "int64",
         "type": "integer"
        },
        {
         "name": "SNP_367",
         "rawType": "int64",
         "type": "integer"
        },
        {
         "name": "SNP_368",
         "rawType": "int64",
         "type": "integer"
        },
        {
         "name": "SNP_369",
         "rawType": "int64",
         "type": "integer"
        },
        {
         "name": "SNP_370",
         "rawType": "int64",
         "type": "integer"
        },
        {
         "name": "SNP_371",
         "rawType": "int64",
         "type": "integer"
        },
        {
         "name": "SNP_372",
         "rawType": "int64",
         "type": "integer"
        },
        {
         "name": "SNP_373",
         "rawType": "int64",
         "type": "integer"
        },
        {
         "name": "SNP_374",
         "rawType": "int64",
         "type": "integer"
        },
        {
         "name": "SNP_375",
         "rawType": "int64",
         "type": "integer"
        },
        {
         "name": "SNP_376",
         "rawType": "int64",
         "type": "integer"
        },
        {
         "name": "SNP_377",
         "rawType": "int64",
         "type": "integer"
        },
        {
         "name": "SNP_378",
         "rawType": "int64",
         "type": "integer"
        },
        {
         "name": "SNP_379",
         "rawType": "int64",
         "type": "integer"
        },
        {
         "name": "SNP_380",
         "rawType": "int64",
         "type": "integer"
        },
        {
         "name": "SNP_381",
         "rawType": "int64",
         "type": "integer"
        },
        {
         "name": "SNP_382",
         "rawType": "int64",
         "type": "integer"
        },
        {
         "name": "SNP_383",
         "rawType": "int64",
         "type": "integer"
        },
        {
         "name": "SNP_384",
         "rawType": "int64",
         "type": "integer"
        },
        {
         "name": "SNP_385",
         "rawType": "int64",
         "type": "integer"
        },
        {
         "name": "SNP_386",
         "rawType": "int64",
         "type": "integer"
        },
        {
         "name": "SNP_387",
         "rawType": "int64",
         "type": "integer"
        },
        {
         "name": "SNP_388",
         "rawType": "int64",
         "type": "integer"
        },
        {
         "name": "SNP_389",
         "rawType": "int64",
         "type": "integer"
        },
        {
         "name": "SNP_390",
         "rawType": "int64",
         "type": "integer"
        },
        {
         "name": "SNP_391",
         "rawType": "int64",
         "type": "integer"
        },
        {
         "name": "SNP_392",
         "rawType": "int64",
         "type": "integer"
        },
        {
         "name": "SNP_393",
         "rawType": "int64",
         "type": "integer"
        },
        {
         "name": "SNP_394",
         "rawType": "int64",
         "type": "integer"
        },
        {
         "name": "SNP_395",
         "rawType": "int64",
         "type": "integer"
        },
        {
         "name": "SNP_396",
         "rawType": "int64",
         "type": "integer"
        },
        {
         "name": "SNP_397",
         "rawType": "int64",
         "type": "integer"
        },
        {
         "name": "SNP_398",
         "rawType": "int64",
         "type": "integer"
        },
        {
         "name": "SNP_399",
         "rawType": "int64",
         "type": "integer"
        },
        {
         "name": "SNP_400",
         "rawType": "int64",
         "type": "integer"
        },
        {
         "name": "SNP_401",
         "rawType": "int64",
         "type": "integer"
        },
        {
         "name": "SNP_402",
         "rawType": "int64",
         "type": "integer"
        },
        {
         "name": "SNP_403",
         "rawType": "int64",
         "type": "integer"
        },
        {
         "name": "SNP_404",
         "rawType": "int64",
         "type": "integer"
        },
        {
         "name": "SNP_405",
         "rawType": "int64",
         "type": "integer"
        },
        {
         "name": "SNP_406",
         "rawType": "int64",
         "type": "integer"
        },
        {
         "name": "SNP_407",
         "rawType": "int64",
         "type": "integer"
        },
        {
         "name": "SNP_408",
         "rawType": "int64",
         "type": "integer"
        },
        {
         "name": "SNP_409",
         "rawType": "int64",
         "type": "integer"
        },
        {
         "name": "SNP_410",
         "rawType": "int64",
         "type": "integer"
        },
        {
         "name": "SNP_411",
         "rawType": "int64",
         "type": "integer"
        },
        {
         "name": "SNP_412",
         "rawType": "int64",
         "type": "integer"
        },
        {
         "name": "SNP_413",
         "rawType": "int64",
         "type": "integer"
        },
        {
         "name": "SNP_414",
         "rawType": "int64",
         "type": "integer"
        },
        {
         "name": "SNP_415",
         "rawType": "int64",
         "type": "integer"
        },
        {
         "name": "SNP_416",
         "rawType": "int64",
         "type": "integer"
        },
        {
         "name": "SNP_417",
         "rawType": "int64",
         "type": "integer"
        },
        {
         "name": "SNP_418",
         "rawType": "int64",
         "type": "integer"
        },
        {
         "name": "SNP_419",
         "rawType": "int64",
         "type": "integer"
        },
        {
         "name": "SNP_420",
         "rawType": "int64",
         "type": "integer"
        },
        {
         "name": "SNP_421",
         "rawType": "int64",
         "type": "integer"
        },
        {
         "name": "SNP_422",
         "rawType": "int64",
         "type": "integer"
        },
        {
         "name": "SNP_423",
         "rawType": "int64",
         "type": "integer"
        },
        {
         "name": "SNP_424",
         "rawType": "int64",
         "type": "integer"
        },
        {
         "name": "SNP_425",
         "rawType": "int64",
         "type": "integer"
        },
        {
         "name": "SNP_426",
         "rawType": "int64",
         "type": "integer"
        },
        {
         "name": "SNP_427",
         "rawType": "int64",
         "type": "integer"
        },
        {
         "name": "SNP_428",
         "rawType": "int64",
         "type": "integer"
        },
        {
         "name": "SNP_429",
         "rawType": "int64",
         "type": "integer"
        },
        {
         "name": "SNP_430",
         "rawType": "int64",
         "type": "integer"
        },
        {
         "name": "SNP_431",
         "rawType": "int64",
         "type": "integer"
        },
        {
         "name": "SNP_432",
         "rawType": "int64",
         "type": "integer"
        },
        {
         "name": "SNP_433",
         "rawType": "int64",
         "type": "integer"
        },
        {
         "name": "SNP_434",
         "rawType": "int64",
         "type": "integer"
        },
        {
         "name": "SNP_435",
         "rawType": "int64",
         "type": "integer"
        },
        {
         "name": "SNP_436",
         "rawType": "int64",
         "type": "integer"
        },
        {
         "name": "SNP_437",
         "rawType": "int64",
         "type": "integer"
        },
        {
         "name": "SNP_438",
         "rawType": "int64",
         "type": "integer"
        },
        {
         "name": "SNP_439",
         "rawType": "int64",
         "type": "integer"
        },
        {
         "name": "SNP_440",
         "rawType": "int64",
         "type": "integer"
        },
        {
         "name": "SNP_441",
         "rawType": "int64",
         "type": "integer"
        },
        {
         "name": "SNP_442",
         "rawType": "int64",
         "type": "integer"
        },
        {
         "name": "SNP_443",
         "rawType": "int64",
         "type": "integer"
        },
        {
         "name": "SNP_444",
         "rawType": "int64",
         "type": "integer"
        },
        {
         "name": "SNP_445",
         "rawType": "int64",
         "type": "integer"
        },
        {
         "name": "SNP_446",
         "rawType": "int64",
         "type": "integer"
        },
        {
         "name": "SNP_447",
         "rawType": "int64",
         "type": "integer"
        },
        {
         "name": "SNP_448",
         "rawType": "int64",
         "type": "integer"
        },
        {
         "name": "SNP_449",
         "rawType": "int64",
         "type": "integer"
        },
        {
         "name": "SNP_450",
         "rawType": "int64",
         "type": "integer"
        },
        {
         "name": "SNP_451",
         "rawType": "int64",
         "type": "integer"
        },
        {
         "name": "SNP_452",
         "rawType": "int64",
         "type": "integer"
        },
        {
         "name": "SNP_453",
         "rawType": "int64",
         "type": "integer"
        },
        {
         "name": "SNP_454",
         "rawType": "int64",
         "type": "integer"
        },
        {
         "name": "SNP_455",
         "rawType": "int64",
         "type": "integer"
        },
        {
         "name": "SNP_456",
         "rawType": "int64",
         "type": "integer"
        },
        {
         "name": "SNP_457",
         "rawType": "int64",
         "type": "integer"
        },
        {
         "name": "SNP_458",
         "rawType": "int64",
         "type": "integer"
        },
        {
         "name": "SNP_459",
         "rawType": "int64",
         "type": "integer"
        },
        {
         "name": "SNP_460",
         "rawType": "int64",
         "type": "integer"
        },
        {
         "name": "SNP_461",
         "rawType": "int64",
         "type": "integer"
        },
        {
         "name": "SNP_462",
         "rawType": "int64",
         "type": "integer"
        },
        {
         "name": "SNP_463",
         "rawType": "int64",
         "type": "integer"
        },
        {
         "name": "SNP_464",
         "rawType": "int64",
         "type": "integer"
        },
        {
         "name": "SNP_465",
         "rawType": "int64",
         "type": "integer"
        },
        {
         "name": "SNP_466",
         "rawType": "int64",
         "type": "integer"
        },
        {
         "name": "SNP_467",
         "rawType": "int64",
         "type": "integer"
        },
        {
         "name": "SNP_468",
         "rawType": "int64",
         "type": "integer"
        },
        {
         "name": "SNP_469",
         "rawType": "int64",
         "type": "integer"
        },
        {
         "name": "SNP_470",
         "rawType": "int64",
         "type": "integer"
        },
        {
         "name": "SNP_471",
         "rawType": "int64",
         "type": "integer"
        },
        {
         "name": "SNP_472",
         "rawType": "int64",
         "type": "integer"
        },
        {
         "name": "SNP_473",
         "rawType": "int64",
         "type": "integer"
        },
        {
         "name": "SNP_474",
         "rawType": "int64",
         "type": "integer"
        },
        {
         "name": "SNP_475",
         "rawType": "int64",
         "type": "integer"
        },
        {
         "name": "SNP_476",
         "rawType": "int64",
         "type": "integer"
        },
        {
         "name": "SNP_477",
         "rawType": "int64",
         "type": "integer"
        },
        {
         "name": "SNP_478",
         "rawType": "int64",
         "type": "integer"
        },
        {
         "name": "SNP_479",
         "rawType": "int64",
         "type": "integer"
        },
        {
         "name": "SNP_480",
         "rawType": "int64",
         "type": "integer"
        },
        {
         "name": "SNP_481",
         "rawType": "int64",
         "type": "integer"
        },
        {
         "name": "SNP_482",
         "rawType": "int64",
         "type": "integer"
        },
        {
         "name": "SNP_483",
         "rawType": "int64",
         "type": "integer"
        },
        {
         "name": "SNP_484",
         "rawType": "int64",
         "type": "integer"
        },
        {
         "name": "SNP_485",
         "rawType": "int64",
         "type": "integer"
        },
        {
         "name": "SNP_486",
         "rawType": "int64",
         "type": "integer"
        },
        {
         "name": "SNP_487",
         "rawType": "int64",
         "type": "integer"
        },
        {
         "name": "SNP_488",
         "rawType": "int64",
         "type": "integer"
        },
        {
         "name": "SNP_489",
         "rawType": "int64",
         "type": "integer"
        },
        {
         "name": "SNP_490",
         "rawType": "int64",
         "type": "integer"
        },
        {
         "name": "SNP_491",
         "rawType": "int64",
         "type": "integer"
        },
        {
         "name": "SNP_492",
         "rawType": "int64",
         "type": "integer"
        },
        {
         "name": "SNP_493",
         "rawType": "int64",
         "type": "integer"
        },
        {
         "name": "SNP_494",
         "rawType": "int64",
         "type": "integer"
        },
        {
         "name": "SNP_495",
         "rawType": "int64",
         "type": "integer"
        },
        {
         "name": "SNP_496",
         "rawType": "int64",
         "type": "integer"
        },
        {
         "name": "SNP_497",
         "rawType": "int64",
         "type": "integer"
        },
        {
         "name": "SNP_498",
         "rawType": "int64",
         "type": "integer"
        },
        {
         "name": "SNP_499",
         "rawType": "int64",
         "type": "integer"
        },
        {
         "name": "SNP_500",
         "rawType": "int64",
         "type": "integer"
        },
        {
         "name": "SNP_501",
         "rawType": "int64",
         "type": "integer"
        },
        {
         "name": "SNP_502",
         "rawType": "int64",
         "type": "integer"
        },
        {
         "name": "SNP_503",
         "rawType": "int64",
         "type": "integer"
        },
        {
         "name": "SNP_504",
         "rawType": "int64",
         "type": "integer"
        },
        {
         "name": "SNP_505",
         "rawType": "int64",
         "type": "integer"
        },
        {
         "name": "SNP_506",
         "rawType": "int64",
         "type": "integer"
        },
        {
         "name": "SNP_507",
         "rawType": "int64",
         "type": "integer"
        },
        {
         "name": "SNP_508",
         "rawType": "int64",
         "type": "integer"
        },
        {
         "name": "SNP_509",
         "rawType": "int64",
         "type": "integer"
        },
        {
         "name": "SNP_510",
         "rawType": "int64",
         "type": "integer"
        },
        {
         "name": "SNP_511",
         "rawType": "int64",
         "type": "integer"
        },
        {
         "name": "SNP_512",
         "rawType": "int64",
         "type": "integer"
        },
        {
         "name": "SNP_513",
         "rawType": "int64",
         "type": "integer"
        },
        {
         "name": "SNP_514",
         "rawType": "int64",
         "type": "integer"
        },
        {
         "name": "SNP_515",
         "rawType": "int64",
         "type": "integer"
        },
        {
         "name": "SNP_516",
         "rawType": "int64",
         "type": "integer"
        },
        {
         "name": "SNP_517",
         "rawType": "int64",
         "type": "integer"
        },
        {
         "name": "SNP_518",
         "rawType": "int64",
         "type": "integer"
        },
        {
         "name": "SNP_519",
         "rawType": "int64",
         "type": "integer"
        },
        {
         "name": "SNP_520",
         "rawType": "int64",
         "type": "integer"
        },
        {
         "name": "SNP_521",
         "rawType": "int64",
         "type": "integer"
        },
        {
         "name": "SNP_522",
         "rawType": "int64",
         "type": "integer"
        },
        {
         "name": "SNP_523",
         "rawType": "int64",
         "type": "integer"
        },
        {
         "name": "SNP_524",
         "rawType": "int64",
         "type": "integer"
        },
        {
         "name": "SNP_525",
         "rawType": "int64",
         "type": "integer"
        },
        {
         "name": "SNP_526",
         "rawType": "int64",
         "type": "integer"
        },
        {
         "name": "SNP_527",
         "rawType": "int64",
         "type": "integer"
        },
        {
         "name": "SNP_528",
         "rawType": "int64",
         "type": "integer"
        },
        {
         "name": "SNP_529",
         "rawType": "int64",
         "type": "integer"
        },
        {
         "name": "SNP_530",
         "rawType": "int64",
         "type": "integer"
        },
        {
         "name": "SNP_531",
         "rawType": "int64",
         "type": "integer"
        },
        {
         "name": "SNP_532",
         "rawType": "int64",
         "type": "integer"
        },
        {
         "name": "SNP_533",
         "rawType": "int64",
         "type": "integer"
        },
        {
         "name": "SNP_534",
         "rawType": "int64",
         "type": "integer"
        },
        {
         "name": "SNP_535",
         "rawType": "int64",
         "type": "integer"
        },
        {
         "name": "SNP_536",
         "rawType": "int64",
         "type": "integer"
        },
        {
         "name": "SNP_537",
         "rawType": "int64",
         "type": "integer"
        },
        {
         "name": "SNP_538",
         "rawType": "int64",
         "type": "integer"
        },
        {
         "name": "SNP_539",
         "rawType": "int64",
         "type": "integer"
        },
        {
         "name": "SNP_540",
         "rawType": "int64",
         "type": "integer"
        },
        {
         "name": "SNP_541",
         "rawType": "int64",
         "type": "integer"
        },
        {
         "name": "SNP_542",
         "rawType": "int64",
         "type": "integer"
        },
        {
         "name": "SNP_543",
         "rawType": "int64",
         "type": "integer"
        },
        {
         "name": "SNP_544",
         "rawType": "int64",
         "type": "integer"
        },
        {
         "name": "SNP_545",
         "rawType": "int64",
         "type": "integer"
        },
        {
         "name": "SNP_546",
         "rawType": "int64",
         "type": "integer"
        },
        {
         "name": "SNP_547",
         "rawType": "int64",
         "type": "integer"
        },
        {
         "name": "SNP_548",
         "rawType": "int64",
         "type": "integer"
        },
        {
         "name": "SNP_549",
         "rawType": "int64",
         "type": "integer"
        },
        {
         "name": "SNP_550",
         "rawType": "int64",
         "type": "integer"
        },
        {
         "name": "SNP_551",
         "rawType": "int64",
         "type": "integer"
        },
        {
         "name": "SNP_552",
         "rawType": "int64",
         "type": "integer"
        },
        {
         "name": "SNP_553",
         "rawType": "int64",
         "type": "integer"
        },
        {
         "name": "SNP_554",
         "rawType": "int64",
         "type": "integer"
        },
        {
         "name": "SNP_555",
         "rawType": "int64",
         "type": "integer"
        },
        {
         "name": "SNP_556",
         "rawType": "int64",
         "type": "integer"
        },
        {
         "name": "SNP_557",
         "rawType": "int64",
         "type": "integer"
        },
        {
         "name": "SNP_558",
         "rawType": "int64",
         "type": "integer"
        },
        {
         "name": "SNP_559",
         "rawType": "int64",
         "type": "integer"
        },
        {
         "name": "SNP_560",
         "rawType": "int64",
         "type": "integer"
        },
        {
         "name": "SNP_561",
         "rawType": "int64",
         "type": "integer"
        },
        {
         "name": "SNP_562",
         "rawType": "int64",
         "type": "integer"
        },
        {
         "name": "SNP_563",
         "rawType": "int64",
         "type": "integer"
        },
        {
         "name": "SNP_564",
         "rawType": "int64",
         "type": "integer"
        },
        {
         "name": "SNP_565",
         "rawType": "int64",
         "type": "integer"
        },
        {
         "name": "SNP_566",
         "rawType": "int64",
         "type": "integer"
        },
        {
         "name": "SNP_567",
         "rawType": "int64",
         "type": "integer"
        },
        {
         "name": "SNP_568",
         "rawType": "int64",
         "type": "integer"
        },
        {
         "name": "SNP_569",
         "rawType": "int64",
         "type": "integer"
        },
        {
         "name": "SNP_570",
         "rawType": "int64",
         "type": "integer"
        },
        {
         "name": "SNP_571",
         "rawType": "int64",
         "type": "integer"
        },
        {
         "name": "SNP_572",
         "rawType": "int64",
         "type": "integer"
        },
        {
         "name": "SNP_573",
         "rawType": "int64",
         "type": "integer"
        },
        {
         "name": "SNP_574",
         "rawType": "int64",
         "type": "integer"
        },
        {
         "name": "SNP_575",
         "rawType": "int64",
         "type": "integer"
        },
        {
         "name": "SNP_576",
         "rawType": "int64",
         "type": "integer"
        },
        {
         "name": "SNP_577",
         "rawType": "int64",
         "type": "integer"
        },
        {
         "name": "SNP_578",
         "rawType": "int64",
         "type": "integer"
        },
        {
         "name": "SNP_579",
         "rawType": "int64",
         "type": "integer"
        },
        {
         "name": "SNP_580",
         "rawType": "int64",
         "type": "integer"
        },
        {
         "name": "SNP_581",
         "rawType": "int64",
         "type": "integer"
        },
        {
         "name": "SNP_582",
         "rawType": "int64",
         "type": "integer"
        },
        {
         "name": "SNP_583",
         "rawType": "int64",
         "type": "integer"
        },
        {
         "name": "SNP_584",
         "rawType": "int64",
         "type": "integer"
        },
        {
         "name": "SNP_585",
         "rawType": "int64",
         "type": "integer"
        },
        {
         "name": "SNP_586",
         "rawType": "int64",
         "type": "integer"
        },
        {
         "name": "SNP_587",
         "rawType": "int64",
         "type": "integer"
        },
        {
         "name": "SNP_588",
         "rawType": "int64",
         "type": "integer"
        },
        {
         "name": "SNP_589",
         "rawType": "int64",
         "type": "integer"
        },
        {
         "name": "SNP_590",
         "rawType": "int64",
         "type": "integer"
        },
        {
         "name": "SNP_591",
         "rawType": "int64",
         "type": "integer"
        },
        {
         "name": "SNP_592",
         "rawType": "int64",
         "type": "integer"
        },
        {
         "name": "SNP_593",
         "rawType": "int64",
         "type": "integer"
        },
        {
         "name": "SNP_594",
         "rawType": "int64",
         "type": "integer"
        },
        {
         "name": "SNP_595",
         "rawType": "int64",
         "type": "integer"
        },
        {
         "name": "SNP_596",
         "rawType": "int64",
         "type": "integer"
        },
        {
         "name": "SNP_597",
         "rawType": "int64",
         "type": "integer"
        },
        {
         "name": "SNP_598",
         "rawType": "int64",
         "type": "integer"
        },
        {
         "name": "SNP_599",
         "rawType": "int64",
         "type": "integer"
        },
        {
         "name": "SNP_600",
         "rawType": "int64",
         "type": "integer"
        },
        {
         "name": "SNP_601",
         "rawType": "int64",
         "type": "integer"
        },
        {
         "name": "SNP_602",
         "rawType": "int64",
         "type": "integer"
        },
        {
         "name": "SNP_603",
         "rawType": "int64",
         "type": "integer"
        },
        {
         "name": "SNP_604",
         "rawType": "int64",
         "type": "integer"
        },
        {
         "name": "SNP_605",
         "rawType": "int64",
         "type": "integer"
        },
        {
         "name": "SNP_606",
         "rawType": "int64",
         "type": "integer"
        },
        {
         "name": "SNP_607",
         "rawType": "int64",
         "type": "integer"
        },
        {
         "name": "SNP_608",
         "rawType": "int64",
         "type": "integer"
        },
        {
         "name": "SNP_609",
         "rawType": "int64",
         "type": "integer"
        },
        {
         "name": "SNP_610",
         "rawType": "int64",
         "type": "integer"
        },
        {
         "name": "SNP_611",
         "rawType": "int64",
         "type": "integer"
        },
        {
         "name": "SNP_612",
         "rawType": "int64",
         "type": "integer"
        },
        {
         "name": "SNP_613",
         "rawType": "int64",
         "type": "integer"
        },
        {
         "name": "SNP_614",
         "rawType": "int64",
         "type": "integer"
        },
        {
         "name": "SNP_615",
         "rawType": "int64",
         "type": "integer"
        },
        {
         "name": "SNP_616",
         "rawType": "int64",
         "type": "integer"
        },
        {
         "name": "SNP_617",
         "rawType": "int64",
         "type": "integer"
        },
        {
         "name": "SNP_618",
         "rawType": "int64",
         "type": "integer"
        },
        {
         "name": "SNP_619",
         "rawType": "int64",
         "type": "integer"
        },
        {
         "name": "SNP_620",
         "rawType": "int64",
         "type": "integer"
        },
        {
         "name": "SNP_621",
         "rawType": "int64",
         "type": "integer"
        },
        {
         "name": "SNP_622",
         "rawType": "int64",
         "type": "integer"
        },
        {
         "name": "SNP_623",
         "rawType": "int64",
         "type": "integer"
        },
        {
         "name": "SNP_624",
         "rawType": "int64",
         "type": "integer"
        },
        {
         "name": "SNP_625",
         "rawType": "int64",
         "type": "integer"
        },
        {
         "name": "SNP_626",
         "rawType": "int64",
         "type": "integer"
        },
        {
         "name": "SNP_627",
         "rawType": "int64",
         "type": "integer"
        },
        {
         "name": "SNP_628",
         "rawType": "int64",
         "type": "integer"
        },
        {
         "name": "SNP_629",
         "rawType": "int64",
         "type": "integer"
        },
        {
         "name": "SNP_630",
         "rawType": "int64",
         "type": "integer"
        },
        {
         "name": "SNP_631",
         "rawType": "int64",
         "type": "integer"
        },
        {
         "name": "SNP_632",
         "rawType": "int64",
         "type": "integer"
        },
        {
         "name": "SNP_633",
         "rawType": "int64",
         "type": "integer"
        },
        {
         "name": "SNP_634",
         "rawType": "int64",
         "type": "integer"
        },
        {
         "name": "SNP_635",
         "rawType": "int64",
         "type": "integer"
        },
        {
         "name": "SNP_636",
         "rawType": "int64",
         "type": "integer"
        },
        {
         "name": "SNP_637",
         "rawType": "int64",
         "type": "integer"
        },
        {
         "name": "SNP_638",
         "rawType": "int64",
         "type": "integer"
        },
        {
         "name": "SNP_639",
         "rawType": "int64",
         "type": "integer"
        },
        {
         "name": "SNP_640",
         "rawType": "int64",
         "type": "integer"
        },
        {
         "name": "SNP_641",
         "rawType": "int64",
         "type": "integer"
        },
        {
         "name": "SNP_642",
         "rawType": "int64",
         "type": "integer"
        },
        {
         "name": "SNP_643",
         "rawType": "int64",
         "type": "integer"
        },
        {
         "name": "SNP_644",
         "rawType": "int64",
         "type": "integer"
        },
        {
         "name": "SNP_645",
         "rawType": "int64",
         "type": "integer"
        },
        {
         "name": "SNP_646",
         "rawType": "int64",
         "type": "integer"
        },
        {
         "name": "SNP_647",
         "rawType": "int64",
         "type": "integer"
        },
        {
         "name": "SNP_648",
         "rawType": "int64",
         "type": "integer"
        },
        {
         "name": "SNP_649",
         "rawType": "int64",
         "type": "integer"
        },
        {
         "name": "SNP_650",
         "rawType": "int64",
         "type": "integer"
        },
        {
         "name": "SNP_651",
         "rawType": "int64",
         "type": "integer"
        },
        {
         "name": "SNP_652",
         "rawType": "int64",
         "type": "integer"
        },
        {
         "name": "SNP_653",
         "rawType": "int64",
         "type": "integer"
        },
        {
         "name": "SNP_654",
         "rawType": "int64",
         "type": "integer"
        },
        {
         "name": "SNP_655",
         "rawType": "int64",
         "type": "integer"
        },
        {
         "name": "SNP_656",
         "rawType": "int64",
         "type": "integer"
        },
        {
         "name": "SNP_657",
         "rawType": "int64",
         "type": "integer"
        },
        {
         "name": "SNP_658",
         "rawType": "int64",
         "type": "integer"
        },
        {
         "name": "SNP_659",
         "rawType": "int64",
         "type": "integer"
        },
        {
         "name": "SNP_660",
         "rawType": "int64",
         "type": "integer"
        },
        {
         "name": "SNP_661",
         "rawType": "int64",
         "type": "integer"
        },
        {
         "name": "SNP_662",
         "rawType": "int64",
         "type": "integer"
        },
        {
         "name": "SNP_663",
         "rawType": "int64",
         "type": "integer"
        },
        {
         "name": "SNP_664",
         "rawType": "int64",
         "type": "integer"
        },
        {
         "name": "SNP_665",
         "rawType": "int64",
         "type": "integer"
        },
        {
         "name": "SNP_666",
         "rawType": "int64",
         "type": "integer"
        },
        {
         "name": "SNP_667",
         "rawType": "int64",
         "type": "integer"
        },
        {
         "name": "SNP_668",
         "rawType": "int64",
         "type": "integer"
        },
        {
         "name": "SNP_669",
         "rawType": "int64",
         "type": "integer"
        },
        {
         "name": "SNP_670",
         "rawType": "int64",
         "type": "integer"
        },
        {
         "name": "SNP_671",
         "rawType": "int64",
         "type": "integer"
        },
        {
         "name": "SNP_672",
         "rawType": "int64",
         "type": "integer"
        },
        {
         "name": "SNP_673",
         "rawType": "int64",
         "type": "integer"
        },
        {
         "name": "SNP_674",
         "rawType": "int64",
         "type": "integer"
        },
        {
         "name": "SNP_675",
         "rawType": "int64",
         "type": "integer"
        },
        {
         "name": "SNP_676",
         "rawType": "int64",
         "type": "integer"
        },
        {
         "name": "SNP_677",
         "rawType": "int64",
         "type": "integer"
        },
        {
         "name": "SNP_678",
         "rawType": "int64",
         "type": "integer"
        },
        {
         "name": "SNP_679",
         "rawType": "int64",
         "type": "integer"
        },
        {
         "name": "SNP_680",
         "rawType": "int64",
         "type": "integer"
        },
        {
         "name": "SNP_681",
         "rawType": "int64",
         "type": "integer"
        },
        {
         "name": "SNP_682",
         "rawType": "int64",
         "type": "integer"
        },
        {
         "name": "SNP_683",
         "rawType": "int64",
         "type": "integer"
        },
        {
         "name": "SNP_684",
         "rawType": "int64",
         "type": "integer"
        },
        {
         "name": "SNP_685",
         "rawType": "int64",
         "type": "integer"
        },
        {
         "name": "SNP_686",
         "rawType": "int64",
         "type": "integer"
        },
        {
         "name": "SNP_687",
         "rawType": "int64",
         "type": "integer"
        },
        {
         "name": "SNP_688",
         "rawType": "int64",
         "type": "integer"
        },
        {
         "name": "SNP_689",
         "rawType": "int64",
         "type": "integer"
        },
        {
         "name": "SNP_690",
         "rawType": "int64",
         "type": "integer"
        },
        {
         "name": "SNP_691",
         "rawType": "int64",
         "type": "integer"
        },
        {
         "name": "SNP_692",
         "rawType": "int64",
         "type": "integer"
        },
        {
         "name": "SNP_693",
         "rawType": "int64",
         "type": "integer"
        },
        {
         "name": "SNP_694",
         "rawType": "int64",
         "type": "integer"
        },
        {
         "name": "SNP_695",
         "rawType": "int64",
         "type": "integer"
        },
        {
         "name": "SNP_696",
         "rawType": "int64",
         "type": "integer"
        },
        {
         "name": "SNP_697",
         "rawType": "int64",
         "type": "integer"
        },
        {
         "name": "SNP_698",
         "rawType": "int64",
         "type": "integer"
        },
        {
         "name": "SNP_699",
         "rawType": "int64",
         "type": "integer"
        },
        {
         "name": "SNP_700",
         "rawType": "int64",
         "type": "integer"
        },
        {
         "name": "SNP_701",
         "rawType": "int64",
         "type": "integer"
        },
        {
         "name": "SNP_702",
         "rawType": "int64",
         "type": "integer"
        },
        {
         "name": "SNP_703",
         "rawType": "int64",
         "type": "integer"
        },
        {
         "name": "SNP_704",
         "rawType": "int64",
         "type": "integer"
        },
        {
         "name": "SNP_705",
         "rawType": "int64",
         "type": "integer"
        },
        {
         "name": "SNP_706",
         "rawType": "int64",
         "type": "integer"
        },
        {
         "name": "SNP_707",
         "rawType": "int64",
         "type": "integer"
        },
        {
         "name": "SNP_708",
         "rawType": "int64",
         "type": "integer"
        },
        {
         "name": "SNP_709",
         "rawType": "int64",
         "type": "integer"
        },
        {
         "name": "SNP_710",
         "rawType": "int64",
         "type": "integer"
        },
        {
         "name": "SNP_711",
         "rawType": "int64",
         "type": "integer"
        },
        {
         "name": "SNP_712",
         "rawType": "int64",
         "type": "integer"
        },
        {
         "name": "SNP_713",
         "rawType": "int64",
         "type": "integer"
        },
        {
         "name": "SNP_714",
         "rawType": "int64",
         "type": "integer"
        },
        {
         "name": "SNP_715",
         "rawType": "int64",
         "type": "integer"
        },
        {
         "name": "SNP_716",
         "rawType": "int64",
         "type": "integer"
        },
        {
         "name": "SNP_717",
         "rawType": "int64",
         "type": "integer"
        },
        {
         "name": "SNP_718",
         "rawType": "int64",
         "type": "integer"
        },
        {
         "name": "SNP_719",
         "rawType": "int64",
         "type": "integer"
        },
        {
         "name": "SNP_720",
         "rawType": "int64",
         "type": "integer"
        },
        {
         "name": "SNP_721",
         "rawType": "int64",
         "type": "integer"
        },
        {
         "name": "SNP_722",
         "rawType": "int64",
         "type": "integer"
        },
        {
         "name": "SNP_723",
         "rawType": "int64",
         "type": "integer"
        },
        {
         "name": "SNP_724",
         "rawType": "int64",
         "type": "integer"
        },
        {
         "name": "SNP_725",
         "rawType": "int64",
         "type": "integer"
        },
        {
         "name": "SNP_726",
         "rawType": "int64",
         "type": "integer"
        },
        {
         "name": "SNP_727",
         "rawType": "int64",
         "type": "integer"
        },
        {
         "name": "SNP_728",
         "rawType": "int64",
         "type": "integer"
        },
        {
         "name": "SNP_729",
         "rawType": "int64",
         "type": "integer"
        },
        {
         "name": "SNP_730",
         "rawType": "int64",
         "type": "integer"
        },
        {
         "name": "SNP_731",
         "rawType": "int64",
         "type": "integer"
        },
        {
         "name": "SNP_732",
         "rawType": "int64",
         "type": "integer"
        },
        {
         "name": "SNP_733",
         "rawType": "int64",
         "type": "integer"
        },
        {
         "name": "SNP_734",
         "rawType": "int64",
         "type": "integer"
        },
        {
         "name": "SNP_735",
         "rawType": "int64",
         "type": "integer"
        },
        {
         "name": "SNP_736",
         "rawType": "int64",
         "type": "integer"
        },
        {
         "name": "SNP_737",
         "rawType": "int64",
         "type": "integer"
        },
        {
         "name": "SNP_738",
         "rawType": "int64",
         "type": "integer"
        },
        {
         "name": "SNP_739",
         "rawType": "int64",
         "type": "integer"
        },
        {
         "name": "SNP_740",
         "rawType": "int64",
         "type": "integer"
        },
        {
         "name": "SNP_741",
         "rawType": "int64",
         "type": "integer"
        },
        {
         "name": "SNP_742",
         "rawType": "int64",
         "type": "integer"
        },
        {
         "name": "SNP_743",
         "rawType": "int64",
         "type": "integer"
        },
        {
         "name": "SNP_744",
         "rawType": "int64",
         "type": "integer"
        },
        {
         "name": "SNP_745",
         "rawType": "int64",
         "type": "integer"
        },
        {
         "name": "SNP_746",
         "rawType": "int64",
         "type": "integer"
        },
        {
         "name": "SNP_747",
         "rawType": "int64",
         "type": "integer"
        },
        {
         "name": "SNP_748",
         "rawType": "int64",
         "type": "integer"
        },
        {
         "name": "SNP_749",
         "rawType": "int64",
         "type": "integer"
        },
        {
         "name": "SNP_750",
         "rawType": "int64",
         "type": "integer"
        },
        {
         "name": "SNP_751",
         "rawType": "int64",
         "type": "integer"
        },
        {
         "name": "SNP_752",
         "rawType": "int64",
         "type": "integer"
        },
        {
         "name": "SNP_753",
         "rawType": "int64",
         "type": "integer"
        },
        {
         "name": "SNP_754",
         "rawType": "int64",
         "type": "integer"
        },
        {
         "name": "SNP_755",
         "rawType": "int64",
         "type": "integer"
        },
        {
         "name": "SNP_756",
         "rawType": "int64",
         "type": "integer"
        },
        {
         "name": "SNP_757",
         "rawType": "int64",
         "type": "integer"
        },
        {
         "name": "SNP_758",
         "rawType": "int64",
         "type": "integer"
        },
        {
         "name": "SNP_759",
         "rawType": "int64",
         "type": "integer"
        },
        {
         "name": "SNP_760",
         "rawType": "int64",
         "type": "integer"
        },
        {
         "name": "SNP_761",
         "rawType": "int64",
         "type": "integer"
        },
        {
         "name": "SNP_762",
         "rawType": "int64",
         "type": "integer"
        },
        {
         "name": "SNP_763",
         "rawType": "int64",
         "type": "integer"
        },
        {
         "name": "SNP_764",
         "rawType": "int64",
         "type": "integer"
        },
        {
         "name": "SNP_765",
         "rawType": "int64",
         "type": "integer"
        },
        {
         "name": "SNP_766",
         "rawType": "int64",
         "type": "integer"
        },
        {
         "name": "SNP_767",
         "rawType": "int64",
         "type": "integer"
        },
        {
         "name": "SNP_768",
         "rawType": "int64",
         "type": "integer"
        },
        {
         "name": "SNP_769",
         "rawType": "int64",
         "type": "integer"
        },
        {
         "name": "SNP_770",
         "rawType": "int64",
         "type": "integer"
        },
        {
         "name": "SNP_771",
         "rawType": "int64",
         "type": "integer"
        },
        {
         "name": "SNP_772",
         "rawType": "int64",
         "type": "integer"
        },
        {
         "name": "SNP_773",
         "rawType": "int64",
         "type": "integer"
        },
        {
         "name": "SNP_774",
         "rawType": "int64",
         "type": "integer"
        },
        {
         "name": "SNP_775",
         "rawType": "int64",
         "type": "integer"
        },
        {
         "name": "SNP_776",
         "rawType": "int64",
         "type": "integer"
        },
        {
         "name": "SNP_777",
         "rawType": "int64",
         "type": "integer"
        },
        {
         "name": "SNP_778",
         "rawType": "int64",
         "type": "integer"
        },
        {
         "name": "SNP_779",
         "rawType": "int64",
         "type": "integer"
        },
        {
         "name": "SNP_780",
         "rawType": "int64",
         "type": "integer"
        },
        {
         "name": "SNP_781",
         "rawType": "int64",
         "type": "integer"
        },
        {
         "name": "SNP_782",
         "rawType": "int64",
         "type": "integer"
        },
        {
         "name": "SNP_783",
         "rawType": "int64",
         "type": "integer"
        },
        {
         "name": "SNP_784",
         "rawType": "int64",
         "type": "integer"
        },
        {
         "name": "SNP_785",
         "rawType": "int64",
         "type": "integer"
        },
        {
         "name": "SNP_786",
         "rawType": "int64",
         "type": "integer"
        },
        {
         "name": "SNP_787",
         "rawType": "int64",
         "type": "integer"
        },
        {
         "name": "SNP_788",
         "rawType": "int64",
         "type": "integer"
        },
        {
         "name": "SNP_789",
         "rawType": "int64",
         "type": "integer"
        },
        {
         "name": "SNP_790",
         "rawType": "int64",
         "type": "integer"
        },
        {
         "name": "SNP_791",
         "rawType": "int64",
         "type": "integer"
        },
        {
         "name": "SNP_792",
         "rawType": "int64",
         "type": "integer"
        },
        {
         "name": "SNP_793",
         "rawType": "int64",
         "type": "integer"
        },
        {
         "name": "SNP_794",
         "rawType": "int64",
         "type": "integer"
        },
        {
         "name": "SNP_795",
         "rawType": "int64",
         "type": "integer"
        },
        {
         "name": "SNP_796",
         "rawType": "int64",
         "type": "integer"
        },
        {
         "name": "SNP_797",
         "rawType": "int64",
         "type": "integer"
        },
        {
         "name": "SNP_798",
         "rawType": "int64",
         "type": "integer"
        },
        {
         "name": "SNP_799",
         "rawType": "int64",
         "type": "integer"
        },
        {
         "name": "SNP_800",
         "rawType": "int64",
         "type": "integer"
        },
        {
         "name": "SNP_801",
         "rawType": "int64",
         "type": "integer"
        },
        {
         "name": "SNP_802",
         "rawType": "int64",
         "type": "integer"
        },
        {
         "name": "SNP_803",
         "rawType": "int64",
         "type": "integer"
        },
        {
         "name": "SNP_804",
         "rawType": "int64",
         "type": "integer"
        },
        {
         "name": "SNP_805",
         "rawType": "int64",
         "type": "integer"
        },
        {
         "name": "SNP_806",
         "rawType": "int64",
         "type": "integer"
        },
        {
         "name": "SNP_807",
         "rawType": "int64",
         "type": "integer"
        },
        {
         "name": "SNP_808",
         "rawType": "int64",
         "type": "integer"
        },
        {
         "name": "SNP_809",
         "rawType": "int64",
         "type": "integer"
        },
        {
         "name": "SNP_810",
         "rawType": "int64",
         "type": "integer"
        },
        {
         "name": "SNP_811",
         "rawType": "int64",
         "type": "integer"
        },
        {
         "name": "SNP_812",
         "rawType": "int64",
         "type": "integer"
        },
        {
         "name": "SNP_813",
         "rawType": "int64",
         "type": "integer"
        },
        {
         "name": "SNP_814",
         "rawType": "int64",
         "type": "integer"
        },
        {
         "name": "SNP_815",
         "rawType": "int64",
         "type": "integer"
        },
        {
         "name": "SNP_816",
         "rawType": "int64",
         "type": "integer"
        },
        {
         "name": "SNP_817",
         "rawType": "int64",
         "type": "integer"
        },
        {
         "name": "SNP_818",
         "rawType": "int64",
         "type": "integer"
        },
        {
         "name": "SNP_819",
         "rawType": "int64",
         "type": "integer"
        },
        {
         "name": "SNP_820",
         "rawType": "int64",
         "type": "integer"
        },
        {
         "name": "SNP_821",
         "rawType": "int64",
         "type": "integer"
        },
        {
         "name": "SNP_822",
         "rawType": "int64",
         "type": "integer"
        },
        {
         "name": "SNP_823",
         "rawType": "int64",
         "type": "integer"
        },
        {
         "name": "SNP_824",
         "rawType": "int64",
         "type": "integer"
        },
        {
         "name": "SNP_825",
         "rawType": "int64",
         "type": "integer"
        },
        {
         "name": "SNP_826",
         "rawType": "int64",
         "type": "integer"
        },
        {
         "name": "SNP_827",
         "rawType": "int64",
         "type": "integer"
        },
        {
         "name": "SNP_828",
         "rawType": "int64",
         "type": "integer"
        },
        {
         "name": "SNP_829",
         "rawType": "int64",
         "type": "integer"
        },
        {
         "name": "SNP_830",
         "rawType": "int64",
         "type": "integer"
        },
        {
         "name": "SNP_831",
         "rawType": "int64",
         "type": "integer"
        },
        {
         "name": "SNP_832",
         "rawType": "int64",
         "type": "integer"
        },
        {
         "name": "SNP_833",
         "rawType": "int64",
         "type": "integer"
        },
        {
         "name": "SNP_834",
         "rawType": "int64",
         "type": "integer"
        },
        {
         "name": "SNP_835",
         "rawType": "int64",
         "type": "integer"
        },
        {
         "name": "SNP_836",
         "rawType": "int64",
         "type": "integer"
        },
        {
         "name": "SNP_837",
         "rawType": "int64",
         "type": "integer"
        },
        {
         "name": "SNP_838",
         "rawType": "int64",
         "type": "integer"
        },
        {
         "name": "SNP_839",
         "rawType": "int64",
         "type": "integer"
        },
        {
         "name": "SNP_840",
         "rawType": "int64",
         "type": "integer"
        },
        {
         "name": "SNP_841",
         "rawType": "int64",
         "type": "integer"
        },
        {
         "name": "SNP_842",
         "rawType": "int64",
         "type": "integer"
        },
        {
         "name": "SNP_843",
         "rawType": "int64",
         "type": "integer"
        },
        {
         "name": "SNP_844",
         "rawType": "int64",
         "type": "integer"
        },
        {
         "name": "SNP_845",
         "rawType": "int64",
         "type": "integer"
        },
        {
         "name": "SNP_846",
         "rawType": "int64",
         "type": "integer"
        },
        {
         "name": "SNP_847",
         "rawType": "int64",
         "type": "integer"
        },
        {
         "name": "SNP_848",
         "rawType": "int64",
         "type": "integer"
        },
        {
         "name": "SNP_849",
         "rawType": "int64",
         "type": "integer"
        },
        {
         "name": "SNP_850",
         "rawType": "int64",
         "type": "integer"
        },
        {
         "name": "SNP_851",
         "rawType": "int64",
         "type": "integer"
        },
        {
         "name": "SNP_852",
         "rawType": "int64",
         "type": "integer"
        },
        {
         "name": "SNP_853",
         "rawType": "int64",
         "type": "integer"
        },
        {
         "name": "SNP_854",
         "rawType": "int64",
         "type": "integer"
        },
        {
         "name": "SNP_855",
         "rawType": "int64",
         "type": "integer"
        },
        {
         "name": "SNP_856",
         "rawType": "int64",
         "type": "integer"
        },
        {
         "name": "SNP_857",
         "rawType": "int64",
         "type": "integer"
        },
        {
         "name": "SNP_858",
         "rawType": "int64",
         "type": "integer"
        },
        {
         "name": "SNP_859",
         "rawType": "int64",
         "type": "integer"
        },
        {
         "name": "SNP_860",
         "rawType": "int64",
         "type": "integer"
        },
        {
         "name": "SNP_861",
         "rawType": "int64",
         "type": "integer"
        },
        {
         "name": "SNP_862",
         "rawType": "int64",
         "type": "integer"
        },
        {
         "name": "SNP_863",
         "rawType": "int64",
         "type": "integer"
        },
        {
         "name": "SNP_864",
         "rawType": "int64",
         "type": "integer"
        },
        {
         "name": "SNP_865",
         "rawType": "int64",
         "type": "integer"
        },
        {
         "name": "SNP_866",
         "rawType": "int64",
         "type": "integer"
        },
        {
         "name": "SNP_867",
         "rawType": "int64",
         "type": "integer"
        },
        {
         "name": "SNP_868",
         "rawType": "int64",
         "type": "integer"
        },
        {
         "name": "SNP_869",
         "rawType": "int64",
         "type": "integer"
        },
        {
         "name": "SNP_870",
         "rawType": "int64",
         "type": "integer"
        },
        {
         "name": "SNP_871",
         "rawType": "int64",
         "type": "integer"
        },
        {
         "name": "SNP_872",
         "rawType": "int64",
         "type": "integer"
        },
        {
         "name": "SNP_873",
         "rawType": "int64",
         "type": "integer"
        },
        {
         "name": "SNP_874",
         "rawType": "int64",
         "type": "integer"
        },
        {
         "name": "SNP_875",
         "rawType": "int64",
         "type": "integer"
        },
        {
         "name": "SNP_876",
         "rawType": "int64",
         "type": "integer"
        },
        {
         "name": "SNP_877",
         "rawType": "int64",
         "type": "integer"
        },
        {
         "name": "SNP_878",
         "rawType": "int64",
         "type": "integer"
        },
        {
         "name": "SNP_879",
         "rawType": "int64",
         "type": "integer"
        },
        {
         "name": "SNP_880",
         "rawType": "int64",
         "type": "integer"
        },
        {
         "name": "SNP_881",
         "rawType": "int64",
         "type": "integer"
        },
        {
         "name": "SNP_882",
         "rawType": "int64",
         "type": "integer"
        },
        {
         "name": "SNP_883",
         "rawType": "int64",
         "type": "integer"
        },
        {
         "name": "SNP_884",
         "rawType": "int64",
         "type": "integer"
        },
        {
         "name": "SNP_885",
         "rawType": "int64",
         "type": "integer"
        },
        {
         "name": "SNP_886",
         "rawType": "int64",
         "type": "integer"
        },
        {
         "name": "SNP_887",
         "rawType": "int64",
         "type": "integer"
        },
        {
         "name": "SNP_888",
         "rawType": "int64",
         "type": "integer"
        },
        {
         "name": "SNP_889",
         "rawType": "int64",
         "type": "integer"
        },
        {
         "name": "SNP_890",
         "rawType": "int64",
         "type": "integer"
        },
        {
         "name": "SNP_891",
         "rawType": "int64",
         "type": "integer"
        },
        {
         "name": "SNP_892",
         "rawType": "int64",
         "type": "integer"
        },
        {
         "name": "SNP_893",
         "rawType": "int64",
         "type": "integer"
        },
        {
         "name": "SNP_894",
         "rawType": "int64",
         "type": "integer"
        },
        {
         "name": "SNP_895",
         "rawType": "int64",
         "type": "integer"
        },
        {
         "name": "SNP_896",
         "rawType": "int64",
         "type": "integer"
        },
        {
         "name": "SNP_897",
         "rawType": "int64",
         "type": "integer"
        },
        {
         "name": "SNP_898",
         "rawType": "int64",
         "type": "integer"
        },
        {
         "name": "SNP_899",
         "rawType": "int64",
         "type": "integer"
        },
        {
         "name": "SNP_900",
         "rawType": "int64",
         "type": "integer"
        },
        {
         "name": "SNP_901",
         "rawType": "int64",
         "type": "integer"
        },
        {
         "name": "SNP_902",
         "rawType": "int64",
         "type": "integer"
        },
        {
         "name": "SNP_903",
         "rawType": "int64",
         "type": "integer"
        },
        {
         "name": "SNP_904",
         "rawType": "int64",
         "type": "integer"
        },
        {
         "name": "SNP_905",
         "rawType": "int64",
         "type": "integer"
        },
        {
         "name": "SNP_906",
         "rawType": "int64",
         "type": "integer"
        },
        {
         "name": "SNP_907",
         "rawType": "int64",
         "type": "integer"
        },
        {
         "name": "SNP_908",
         "rawType": "int64",
         "type": "integer"
        },
        {
         "name": "SNP_909",
         "rawType": "int64",
         "type": "integer"
        },
        {
         "name": "SNP_910",
         "rawType": "int64",
         "type": "integer"
        },
        {
         "name": "SNP_911",
         "rawType": "int64",
         "type": "integer"
        },
        {
         "name": "SNP_912",
         "rawType": "int64",
         "type": "integer"
        },
        {
         "name": "SNP_913",
         "rawType": "int64",
         "type": "integer"
        },
        {
         "name": "SNP_914",
         "rawType": "int64",
         "type": "integer"
        },
        {
         "name": "SNP_915",
         "rawType": "int64",
         "type": "integer"
        },
        {
         "name": "SNP_916",
         "rawType": "int64",
         "type": "integer"
        },
        {
         "name": "SNP_917",
         "rawType": "int64",
         "type": "integer"
        },
        {
         "name": "SNP_918",
         "rawType": "int64",
         "type": "integer"
        },
        {
         "name": "SNP_919",
         "rawType": "int64",
         "type": "integer"
        },
        {
         "name": "SNP_920",
         "rawType": "int64",
         "type": "integer"
        },
        {
         "name": "SNP_921",
         "rawType": "int64",
         "type": "integer"
        },
        {
         "name": "SNP_922",
         "rawType": "int64",
         "type": "integer"
        },
        {
         "name": "SNP_923",
         "rawType": "int64",
         "type": "integer"
        },
        {
         "name": "SNP_924",
         "rawType": "int64",
         "type": "integer"
        },
        {
         "name": "SNP_925",
         "rawType": "int64",
         "type": "integer"
        },
        {
         "name": "SNP_926",
         "rawType": "int64",
         "type": "integer"
        },
        {
         "name": "SNP_927",
         "rawType": "int64",
         "type": "integer"
        },
        {
         "name": "SNP_928",
         "rawType": "int64",
         "type": "integer"
        },
        {
         "name": "SNP_929",
         "rawType": "int64",
         "type": "integer"
        },
        {
         "name": "SNP_930",
         "rawType": "int64",
         "type": "integer"
        },
        {
         "name": "SNP_931",
         "rawType": "int64",
         "type": "integer"
        },
        {
         "name": "SNP_932",
         "rawType": "int64",
         "type": "integer"
        },
        {
         "name": "SNP_933",
         "rawType": "int64",
         "type": "integer"
        },
        {
         "name": "SNP_934",
         "rawType": "int64",
         "type": "integer"
        },
        {
         "name": "SNP_935",
         "rawType": "int64",
         "type": "integer"
        },
        {
         "name": "SNP_936",
         "rawType": "int64",
         "type": "integer"
        },
        {
         "name": "SNP_937",
         "rawType": "int64",
         "type": "integer"
        },
        {
         "name": "SNP_938",
         "rawType": "int64",
         "type": "integer"
        },
        {
         "name": "SNP_939",
         "rawType": "int64",
         "type": "integer"
        },
        {
         "name": "SNP_940",
         "rawType": "int64",
         "type": "integer"
        },
        {
         "name": "SNP_941",
         "rawType": "int64",
         "type": "integer"
        },
        {
         "name": "SNP_942",
         "rawType": "int64",
         "type": "integer"
        },
        {
         "name": "SNP_943",
         "rawType": "int64",
         "type": "integer"
        },
        {
         "name": "SNP_944",
         "rawType": "int64",
         "type": "integer"
        },
        {
         "name": "SNP_945",
         "rawType": "int64",
         "type": "integer"
        },
        {
         "name": "SNP_946",
         "rawType": "int64",
         "type": "integer"
        },
        {
         "name": "SNP_947",
         "rawType": "int64",
         "type": "integer"
        },
        {
         "name": "SNP_948",
         "rawType": "int64",
         "type": "integer"
        },
        {
         "name": "SNP_949",
         "rawType": "int64",
         "type": "integer"
        },
        {
         "name": "SNP_950",
         "rawType": "int64",
         "type": "integer"
        },
        {
         "name": "SNP_951",
         "rawType": "int64",
         "type": "integer"
        },
        {
         "name": "SNP_952",
         "rawType": "int64",
         "type": "integer"
        },
        {
         "name": "SNP_953",
         "rawType": "int64",
         "type": "integer"
        },
        {
         "name": "SNP_954",
         "rawType": "int64",
         "type": "integer"
        },
        {
         "name": "SNP_955",
         "rawType": "int64",
         "type": "integer"
        },
        {
         "name": "SNP_956",
         "rawType": "int64",
         "type": "integer"
        },
        {
         "name": "SNP_957",
         "rawType": "int64",
         "type": "integer"
        },
        {
         "name": "SNP_958",
         "rawType": "int64",
         "type": "integer"
        },
        {
         "name": "SNP_959",
         "rawType": "int64",
         "type": "integer"
        },
        {
         "name": "SNP_960",
         "rawType": "int64",
         "type": "integer"
        },
        {
         "name": "SNP_961",
         "rawType": "int64",
         "type": "integer"
        },
        {
         "name": "SNP_962",
         "rawType": "int64",
         "type": "integer"
        },
        {
         "name": "SNP_963",
         "rawType": "int64",
         "type": "integer"
        },
        {
         "name": "SNP_964",
         "rawType": "int64",
         "type": "integer"
        },
        {
         "name": "SNP_965",
         "rawType": "int64",
         "type": "integer"
        },
        {
         "name": "SNP_966",
         "rawType": "int64",
         "type": "integer"
        },
        {
         "name": "SNP_967",
         "rawType": "int64",
         "type": "integer"
        },
        {
         "name": "SNP_968",
         "rawType": "int64",
         "type": "integer"
        },
        {
         "name": "SNP_969",
         "rawType": "int64",
         "type": "integer"
        },
        {
         "name": "SNP_970",
         "rawType": "int64",
         "type": "integer"
        },
        {
         "name": "SNP_971",
         "rawType": "int64",
         "type": "integer"
        },
        {
         "name": "SNP_972",
         "rawType": "int64",
         "type": "integer"
        },
        {
         "name": "SNP_973",
         "rawType": "int64",
         "type": "integer"
        },
        {
         "name": "SNP_974",
         "rawType": "int64",
         "type": "integer"
        },
        {
         "name": "SNP_975",
         "rawType": "int64",
         "type": "integer"
        },
        {
         "name": "SNP_976",
         "rawType": "int64",
         "type": "integer"
        },
        {
         "name": "SNP_977",
         "rawType": "int64",
         "type": "integer"
        },
        {
         "name": "SNP_978",
         "rawType": "int64",
         "type": "integer"
        },
        {
         "name": "SNP_979",
         "rawType": "int64",
         "type": "integer"
        },
        {
         "name": "SNP_980",
         "rawType": "int64",
         "type": "integer"
        },
        {
         "name": "SNP_981",
         "rawType": "int64",
         "type": "integer"
        },
        {
         "name": "SNP_982",
         "rawType": "int64",
         "type": "integer"
        },
        {
         "name": "SNP_983",
         "rawType": "int64",
         "type": "integer"
        },
        {
         "name": "SNP_984",
         "rawType": "int64",
         "type": "integer"
        },
        {
         "name": "SNP_985",
         "rawType": "int64",
         "type": "integer"
        },
        {
         "name": "SNP_986",
         "rawType": "int64",
         "type": "integer"
        },
        {
         "name": "SNP_987",
         "rawType": "int64",
         "type": "integer"
        },
        {
         "name": "SNP_988",
         "rawType": "int64",
         "type": "integer"
        },
        {
         "name": "SNP_989",
         "rawType": "int64",
         "type": "integer"
        },
        {
         "name": "SNP_990",
         "rawType": "int64",
         "type": "integer"
        },
        {
         "name": "SNP_991",
         "rawType": "int64",
         "type": "integer"
        },
        {
         "name": "SNP_992",
         "rawType": "int64",
         "type": "integer"
        },
        {
         "name": "SNP_993",
         "rawType": "int64",
         "type": "integer"
        },
        {
         "name": "SNP_994",
         "rawType": "int64",
         "type": "integer"
        },
        {
         "name": "SNP_995",
         "rawType": "int64",
         "type": "integer"
        },
        {
         "name": "SNP_996",
         "rawType": "int64",
         "type": "integer"
        },
        {
         "name": "SNP_997",
         "rawType": "int64",
         "type": "integer"
        },
        {
         "name": "SNP_998",
         "rawType": "int64",
         "type": "integer"
        },
        {
         "name": "SNP_999",
         "rawType": "int64",
         "type": "integer"
        },
        {
         "name": "SNP_1000",
         "rawType": "int64",
         "type": "integer"
        },
        {
         "name": "sex_Female",
         "rawType": "float64",
         "type": "float"
        },
        {
         "name": "sex_Male",
         "rawType": "float64",
         "type": "float"
        }
       ],
       "ref": "270d5e5b-68bf-4ae3-a4f2-cdf248486420",
       "rows": [
        [
         "0",
         "0.8129591733286459",
         "-0.6062794951106792",
         "0.4441870995610804",
         "1.1724683361979815",
         "-1.0390775414849698",
         "0.6793014661237603",
         "0.0903615161120587",
         "-0.336725909485808",
         "-0.5074182712109033",
         "-1.6109348294384698",
         "1.013605442",
         "1",
         "1",
         "1",
         "0",
         "2",
         "2",
         "1",
         "2",
         "1",
         "1",
         "1",
         "1",
         "0",
         "2",
         "0",
         "0",
         "1",
         "1",
         "1",
         "1",
         "0",
         "0",
         "1",
         "2",
         "1",
         "2",
         "0",
         "1",
         "2",
         "0",
         "1",
         "1",
         "0",
         "1",
         "2",
         "0",
         "2",
         "1",
         "2",
         "0",
         "1",
         "0",
         "2",
         "2",
         "0",
         "2",
         "1",
         "0",
         "1",
         "1",
         "1",
         "0",
         "1",
         "1",
         "0",
         "1",
         "1",
         "2",
         "2",
         "0",
         "2",
         "2",
         "2",
         "1",
         "1",
         "1",
         "0",
         "0",
         "0",
         "2",
         "0",
         "0",
         "0",
         "2",
         "0",
         "2",
         "2",
         "2",
         "1",
         "1",
         "2",
         "1",
         "0",
         "2",
         "1",
         "2",
         "0",
         "1",
         "2",
         "0",
         "2",
         "0",
         "0",
         "0",
         "1",
         "2",
         "2",
         "1",
         "0",
         "1",
         "0",
         "1",
         "0",
         "0",
         "1",
         "0",
         "1",
         "0",
         "2",
         "1",
         "1",
         "1",
         "2",
         "1",
         "0",
         "0",
         "1",
         "1",
         "0",
         "1",
         "1",
         "1",
         "1",
         "1",
         "1",
         "1",
         "1",
         "2",
         "0",
         "2",
         "2",
         "1",
         "1",
         "0",
         "0",
         "0",
         "1",
         "1",
         "0",
         "0",
         "2",
         "2",
         "2",
         "2",
         "1",
         "2",
         "2",
         "2",
         "1",
         "2",
         "0",
         "1",
         "1",
         "2",
         "1",
         "0",
         "1",
         "0",
         "2",
         "2",
         "0",
         "1",
         "2",
         "0",
         "1",
         "2",
         "1",
         "2",
         "0",
         "2",
         "1",
         "2",
         "1",
         "1",
         "0",
         "0",
         "0",
         "2",
         "0",
         "2",
         "2",
         "1",
         "0",
         "2",
         "0",
         "1",
         "0",
         "1",
         "1",
         "2",
         "2",
         "0",
         "2",
         "0",
         "0",
         "0",
         "1",
         "1",
         "2",
         "1",
         "1",
         "0",
         "1",
         "2",
         "0",
         "1",
         "1",
         "2",
         "0",
         "2",
         "1",
         "2",
         "1",
         "0",
         "1",
         "0",
         "2",
         "0",
         "2",
         "1",
         "1",
         "0",
         "1",
         "0",
         "2",
         "1",
         "1",
         "1",
         "0",
         "1",
         "1",
         "2",
         "2",
         "1",
         "1",
         "0",
         "1",
         "1",
         "2",
         "1",
         "0",
         "1",
         "2",
         "0",
         "1",
         "2",
         "2",
         "1",
         "2",
         "2",
         "0",
         "2",
         "0",
         "1",
         "0",
         "1",
         "1",
         "0",
         "1",
         "0",
         "2",
         "1",
         "2",
         "0",
         "1",
         "1",
         "1",
         "2",
         "0",
         "0",
         "0",
         "0",
         "1",
         "0",
         "0",
         "2",
         "1",
         "1",
         "0",
         "1",
         "2",
         "1",
         "0",
         "1",
         "1",
         "0",
         "1",
         "2",
         "1",
         "2",
         "0",
         "2",
         "2",
         "0",
         "0",
         "1",
         "2",
         "0",
         "1",
         "1",
         "1",
         "0",
         "2",
         "2",
         "2",
         "1",
         "1",
         "0",
         "1",
         "0",
         "0",
         "1",
         "2",
         "0",
         "0",
         "2",
         "1",
         "1",
         "1",
         "2",
         "0",
         "2",
         "2",
         "2",
         "2",
         "2",
         "1",
         "1",
         "1",
         "0",
         "2",
         "1",
         "0",
         "1",
         "0",
         "2",
         "0",
         "0",
         "2",
         "2",
         "1",
         "2",
         "2",
         "1",
         "2",
         "1",
         "0",
         "1",
         "1",
         "1",
         "0",
         "1",
         "1",
         "2",
         "0",
         "1",
         "1",
         "2",
         "1",
         "1",
         "2",
         "1",
         "2",
         "2",
         "0",
         "1",
         "0",
         "1",
         "2",
         "2",
         "1",
         "1",
         "1",
         "2",
         "1",
         "0",
         "2",
         "1",
         "2",
         "1",
         "2",
         "0",
         "2",
         "2",
         "1",
         "1",
         "0",
         "1",
         "0",
         "0",
         "2",
         "0",
         "0",
         "1",
         "2",
         "2",
         "2",
         "1",
         "1",
         "0",
         "2",
         "2",
         "0",
         "1",
         "0",
         "1",
         "0",
         "1",
         "2",
         "2",
         "1",
         "2",
         "0",
         "2",
         "1",
         "1",
         "2",
         "2",
         "2",
         "2",
         "1",
         "0",
         "0",
         "0",
         "0",
         "1",
         "1",
         "0",
         "1",
         "1",
         "2",
         "1",
         "0",
         "1",
         "2",
         "1",
         "2",
         "2",
         "0",
         "2",
         "0",
         "2",
         "1",
         "0",
         "1",
         "2",
         "2",
         "2",
         "1",
         "2",
         "1",
         "2",
         "0",
         "1",
         "1",
         "1",
         "2",
         "0",
         "2",
         "2",
         "1",
         "1",
         "2",
         "1",
         "1",
         "1",
         "2",
         "0",
         "2",
         "2",
         "0",
         "1",
         "1",
         "1",
         "0",
         "0",
         "1",
         "2",
         "2",
         "1",
         "0",
         "0",
         "0",
         "2",
         "2",
         "0",
         "1",
         "0",
         "2",
         "2",
         "1",
         "2",
         "2",
         "2",
         "2",
         "1",
         "1",
         "1",
         "1",
         "1",
         "2",
         "1",
         "0",
         "1",
         "2",
         "1",
         "1",
         "1",
         "1",
         "0",
         "1",
         "1",
         "2",
         "1",
         "0",
         "2",
         "2",
         "0",
         "1",
         "2",
         "2",
         "0",
         "1",
         "0",
         "1",
         "2",
         "0",
         "0",
         "2",
         "2",
         "2",
         "1",
         "1",
         "0",
         "0",
         "1",
         "0",
         "2",
         "0",
         "2",
         "2",
         "2",
         "1",
         "0",
         "2",
         "2",
         "1",
         "0",
         "1",
         "1",
         "1",
         "0",
         "0",
         "0",
         "2",
         "1",
         "2",
         "0",
         "2",
         "2",
         "2",
         "1",
         "1",
         "2",
         "2",
         "0",
         "1",
         "1",
         "2",
         "0",
         "0",
         "1",
         "0",
         "2",
         "0",
         "0",
         "0",
         "1",
         "1",
         "1",
         "1",
         "1",
         "0",
         "0",
         "2",
         "2",
         "2",
         "2",
         "0",
         "1",
         "1",
         "1",
         "2",
         "1",
         "2",
         "1",
         "0",
         "1",
         "0",
         "1",
         "1",
         "2",
         "1",
         "0",
         "1",
         "1",
         "2",
         "1",
         "0",
         "2",
         "1",
         "2",
         "2",
         "0",
         "0",
         "1",
         "1",
         "1",
         "1",
         "0",
         "1",
         "0",
         "0",
         "1",
         "1",
         "2",
         "1",
         "1",
         "1",
         "0",
         "1",
         "2",
         "2",
         "1",
         "1",
         "0",
         "1",
         "1",
         "0",
         "2",
         "1",
         "1",
         "2",
         "2",
         "1",
         "1",
         "2",
         "0",
         "0",
         "0",
         "1",
         "1",
         "2",
         "1",
         "1",
         "2",
         "1",
         "1",
         "2",
         "1",
         "0",
         "2",
         "1",
         "2",
         "0",
         "0",
         "2",
         "0",
         "0",
         "2",
         "2",
         "1",
         "2",
         "0",
         "1",
         "1",
         "2",
         "2",
         "1",
         "1",
         "2",
         "2",
         "2",
         "0",
         "1",
         "1",
         "2",
         "0",
         "1",
         "0",
         "2",
         "1",
         "2",
         "1",
         "0",
         "2",
         "1",
         "0",
         "1",
         "2",
         "1",
         "1",
         "1",
         "1",
         "0",
         "1",
         "1",
         "2",
         "2",
         "2",
         "1",
         "0",
         "2",
         "1",
         "1",
         "2",
         "1",
         "0",
         "2",
         "2",
         "1",
         "0",
         "1",
         "2",
         "1",
         "0",
         "2",
         "0",
         "0",
         "1",
         "1",
         "1",
         "0",
         "2",
         "2",
         "1",
         "1",
         "0",
         "1",
         "0",
         "1",
         "2",
         "2",
         "1",
         "2",
         "1",
         "1",
         "0",
         "1",
         "0",
         "2",
         "1",
         "1",
         "1",
         "1",
         "1",
         "0",
         "1",
         "2",
         "2",
         "1",
         "1",
         "1",
         "2",
         "1",
         "2",
         "1",
         "0",
         "1",
         "1",
         "0",
         "1",
         "1",
         "0",
         "2",
         "0",
         "2",
         "1",
         "1",
         "1",
         "2",
         "1",
         "0",
         "2",
         "2",
         "0",
         "2",
         "2",
         "1",
         "2",
         "2",
         "0",
         "1",
         "0",
         "1",
         "2",
         "1",
         "2",
         "0",
         "0",
         "1",
         "2",
         "0",
         "1",
         "0",
         "2",
         "2",
         "1",
         "1",
         "2",
         "2",
         "1",
         "2",
         "1",
         "2",
         "0",
         "0",
         "0",
         "0",
         "2",
         "1",
         "2",
         "0",
         "2",
         "1",
         "1",
         "2",
         "2",
         "1",
         "1",
         "2",
         "2",
         "1",
         "1",
         "1",
         "1",
         "0",
         "0",
         "1",
         "1",
         "0",
         "1",
         "1",
         "1",
         "2",
         "1",
         "1",
         "1",
         "1",
         "0",
         "2",
         "2",
         "2",
         "0",
         "2",
         "2",
         "0",
         "2",
         "0",
         "1",
         "1",
         "1",
         "0",
         "1",
         "1",
         "1",
         "2",
         "1",
         "1",
         "1",
         "1",
         "1",
         "1",
         "1",
         "0",
         "0",
         "2",
         "1",
         "1",
         "0",
         "1",
         "2",
         "1",
         "2",
         "0",
         "2",
         "0",
         "1",
         "2",
         "0",
         "1",
         "2",
         "1",
         "1",
         "1",
         "1",
         "2",
         "1",
         "1",
         "1",
         "1",
         "1",
         "1",
         "1",
         "2",
         "0",
         "1",
         "2",
         "2",
         "1",
         "0",
         "2",
         "1",
         "2",
         "1",
         "2",
         "2",
         "1",
         "0",
         "2",
         "2",
         "2",
         "0",
         "2",
         "0",
         "0",
         "0",
         "1",
         "0",
         "1",
         "1",
         "1",
         "2",
         "2",
         "1",
         "2",
         "1",
         "1",
         "1",
         "0",
         "2",
         "0",
         "2",
         "1",
         "2",
         "0",
         "2",
         "2",
         "1",
         "1",
         "2",
         "1",
         "0",
         "1",
         "2",
         "0",
         "0",
         "1",
         "2",
         "1",
         "1",
         "0",
         "1",
         "2",
         "1",
         "2",
         "1",
         "0",
         "1",
         "0",
         "1",
         "1",
         "1",
         "0",
         "0",
         "1",
         "1",
         "1",
         "0",
         "1",
         "0",
         "1",
         "0",
         "1",
         "0",
         "1",
         "0",
         "2",
         "2",
         "1",
         "2",
         "1",
         "1",
         "1",
         "2",
         "2",
         "0",
         "2",
         "1",
         "1",
         "0.0",
         "1.0"
        ],
        [
         "1",
         "1.6805783551094848",
         "1.0952832560384909",
         "-0.3774773745318688",
         "-0.5488040300563408",
         "0.1618573694404274",
         "0.8334779223479457",
         "0.6364770704696741",
         "0.1627589228745762",
         "1.193365711060903",
         "0.222913169922298",
         "1.038240918",
         "1",
         "2",
         "0",
         "1",
         "0",
         "2",
         "0",
         "0",
         "2",
         "1",
         "1",
         "1",
         "1",
         "2",
         "2",
         "2",
         "1",
         "1",
         "2",
         "0",
         "2",
         "0",
         "1",
         "1",
         "0",
         "1",
         "2",
         "1",
         "1",
         "0",
         "0",
         "2",
         "0",
         "1",
         "0",
         "2",
         "1",
         "0",
         "1",
         "2",
         "1",
         "1",
         "0",
         "2",
         "2",
         "0",
         "0",
         "2",
         "2",
         "1",
         "0",
         "2",
         "1",
         "1",
         "1",
         "2",
         "2",
         "2",
         "0",
         "2",
         "0",
         "2",
         "2",
         "0",
         "0",
         "2",
         "1",
         "2",
         "0",
         "2",
         "1",
         "0",
         "2",
         "0",
         "1",
         "2",
         "2",
         "2",
         "1",
         "2",
         "0",
         "1",
         "2",
         "1",
         "1",
         "1",
         "1",
         "1",
         "0",
         "0",
         "1",
         "2",
         "0",
         "2",
         "0",
         "1",
         "2",
         "0",
         "2",
         "1",
         "2",
         "2",
         "1",
         "1",
         "1",
         "0",
         "1",
         "1",
         "1",
         "2",
         "0",
         "0",
         "0",
         "2",
         "1",
         "0",
         "2",
         "0",
         "2",
         "2",
         "1",
         "1",
         "1",
         "1",
         "0",
         "1",
         "0",
         "0",
         "1",
         "1",
         "1",
         "1",
         "1",
         "1",
         "2",
         "0",
         "0",
         "2",
         "2",
         "1",
         "0",
         "1",
         "0",
         "0",
         "0",
         "2",
         "2",
         "1",
         "2",
         "1",
         "2",
         "0",
         "0",
         "1",
         "0",
         "1",
         "2",
         "2",
         "0",
         "1",
         "0",
         "2",
         "2",
         "1",
         "0",
         "2",
         "0",
         "1",
         "0",
         "1",
         "0",
         "1",
         "0",
         "1",
         "2",
         "0",
         "1",
         "2",
         "1",
         "1",
         "2",
         "0",
         "1",
         "1",
         "0",
         "2",
         "2",
         "2",
         "2",
         "0",
         "1",
         "1",
         "2",
         "1",
         "1",
         "2",
         "1",
         "2",
         "0",
         "1",
         "0",
         "1",
         "1",
         "2",
         "0",
         "0",
         "0",
         "0",
         "0",
         "1",
         "0",
         "2",
         "1",
         "2",
         "2",
         "0",
         "0",
         "2",
         "1",
         "2",
         "0",
         "0",
         "0",
         "0",
         "0",
         "2",
         "2",
         "1",
         "1",
         "2",
         "1",
         "2",
         "1",
         "2",
         "0",
         "2",
         "1",
         "2",
         "1",
         "2",
         "1",
         "1",
         "0",
         "0",
         "0",
         "0",
         "0",
         "2",
         "0",
         "1",
         "2",
         "0",
         "1",
         "1",
         "1",
         "2",
         "0",
         "2",
         "1",
         "2",
         "2",
         "2",
         "2",
         "1",
         "0",
         "2",
         "0",
         "2",
         "0",
         "0",
         "1",
         "1",
         "2",
         "0",
         "1",
         "2",
         "0",
         "1",
         "2",
         "1",
         "1",
         "1",
         "0",
         "2",
         "2",
         "1",
         "0",
         "0",
         "2",
         "0",
         "0",
         "1",
         "1",
         "1",
         "0",
         "2",
         "1",
         "1",
         "0",
         "2",
         "2",
         "1",
         "0",
         "1",
         "1",
         "2",
         "0",
         "2",
         "2",
         "1",
         "0",
         "1",
         "2",
         "2",
         "0",
         "2",
         "2",
         "2",
         "0",
         "0",
         "2",
         "1",
         "0",
         "1",
         "2",
         "2",
         "1",
         "0",
         "1",
         "0",
         "1",
         "2",
         "2",
         "0",
         "1",
         "0",
         "0",
         "2",
         "2",
         "1",
         "0",
         "0",
         "2",
         "2",
         "1",
         "1",
         "2",
         "2",
         "0",
         "0",
         "2",
         "1",
         "1",
         "2",
         "0",
         "1",
         "1",
         "2",
         "1",
         "0",
         "0",
         "1",
         "0",
         "0",
         "1",
         "1",
         "0",
         "0",
         "2",
         "1",
         "1",
         "0",
         "0",
         "0",
         "0",
         "2",
         "1",
         "0",
         "0",
         "1",
         "2",
         "0",
         "2",
         "2",
         "1",
         "1",
         "0",
         "2",
         "2",
         "1",
         "2",
         "1",
         "2",
         "0",
         "0",
         "0",
         "0",
         "2",
         "0",
         "2",
         "2",
         "0",
         "1",
         "2",
         "0",
         "0",
         "0",
         "0",
         "0",
         "2",
         "0",
         "2",
         "2",
         "2",
         "2",
         "2",
         "1",
         "0",
         "1",
         "2",
         "2",
         "2",
         "1",
         "1",
         "0",
         "2",
         "2",
         "1",
         "1",
         "1",
         "1",
         "1",
         "1",
         "2",
         "1",
         "1",
         "1",
         "1",
         "1",
         "0",
         "1",
         "0",
         "2",
         "1",
         "2",
         "2",
         "0",
         "1",
         "1",
         "0",
         "2",
         "2",
         "1",
         "0",
         "0",
         "1",
         "2",
         "1",
         "0",
         "1",
         "0",
         "2",
         "0",
         "2",
         "0",
         "0",
         "2",
         "1",
         "1",
         "2",
         "2",
         "0",
         "2",
         "1",
         "1",
         "0",
         "1",
         "1",
         "0",
         "1",
         "1",
         "2",
         "1",
         "2",
         "0",
         "0",
         "2",
         "2",
         "0",
         "1",
         "2",
         "1",
         "0",
         "1",
         "2",
         "0",
         "0",
         "0",
         "0",
         "1",
         "1",
         "2",
         "2",
         "0",
         "1",
         "1",
         "1",
         "0",
         "0",
         "0",
         "2",
         "1",
         "2",
         "0",
         "2",
         "0",
         "2",
         "1",
         "2",
         "0",
         "0",
         "0",
         "2",
         "0",
         "0",
         "2",
         "0",
         "0",
         "2",
         "0",
         "1",
         "1",
         "0",
         "2",
         "0",
         "1",
         "0",
         "1",
         "1",
         "2",
         "2",
         "1",
         "1",
         "2",
         "2",
         "1",
         "1",
         "1",
         "2",
         "2",
         "2",
         "0",
         "1",
         "1",
         "1",
         "0",
         "2",
         "0",
         "1",
         "0",
         "1",
         "0",
         "2",
         "1",
         "0",
         "1",
         "2",
         "1",
         "2",
         "2",
         "2",
         "2",
         "2",
         "1",
         "1",
         "1",
         "1",
         "2",
         "1",
         "2",
         "0",
         "0",
         "1",
         "1",
         "2",
         "2",
         "2",
         "1",
         "0",
         "0",
         "1",
         "1",
         "1",
         "1",
         "0",
         "2",
         "0",
         "0",
         "2",
         "0",
         "2",
         "2",
         "0",
         "1",
         "0",
         "1",
         "0",
         "2",
         "1",
         "1",
         "1",
         "1",
         "2",
         "0",
         "2",
         "1",
         "2",
         "0",
         "2",
         "0",
         "1",
         "0",
         "2",
         "2",
         "2",
         "1",
         "0",
         "0",
         "0",
         "1",
         "0",
         "2",
         "2",
         "1",
         "2",
         "0",
         "2",
         "1",
         "2",
         "0",
         "2",
         "1",
         "2",
         "0",
         "1",
         "1",
         "0",
         "0",
         "0",
         "1",
         "0",
         "1",
         "0",
         "0",
         "1",
         "2",
         "0",
         "2",
         "0",
         "0",
         "1",
         "2",
         "1",
         "0",
         "2",
         "0",
         "0",
         "1",
         "1",
         "1",
         "1",
         "0",
         "0",
         "0",
         "0",
         "2",
         "2",
         "2",
         "1",
         "2",
         "2",
         "1",
         "0",
         "1",
         "2",
         "0",
         "0",
         "2",
         "2",
         "0",
         "2",
         "0",
         "1",
         "2",
         "1",
         "0",
         "0",
         "1",
         "2",
         "0",
         "2",
         "2",
         "0",
         "1",
         "1",
         "0",
         "0",
         "0",
         "2",
         "1",
         "1",
         "2",
         "0",
         "2",
         "1",
         "0",
         "1",
         "0",
         "2",
         "2",
         "0",
         "1",
         "1",
         "2",
         "2",
         "1",
         "0",
         "0",
         "0",
         "2",
         "0",
         "1",
         "0",
         "2",
         "2",
         "1",
         "2",
         "1",
         "0",
         "0",
         "1",
         "2",
         "2",
         "0",
         "2",
         "2",
         "0",
         "1",
         "2",
         "0",
         "1",
         "0",
         "0",
         "0",
         "2",
         "1",
         "0",
         "1",
         "0",
         "1",
         "1",
         "2",
         "0",
         "1",
         "2",
         "2",
         "0",
         "2",
         "2",
         "1",
         "2",
         "2",
         "2",
         "2",
         "2",
         "0",
         "1",
         "0",
         "2",
         "2",
         "0",
         "1",
         "2",
         "2",
         "2",
         "2",
         "1",
         "1",
         "1",
         "2",
         "0",
         "0",
         "0",
         "0",
         "2",
         "0",
         "2",
         "2",
         "0",
         "2",
         "1",
         "0",
         "0",
         "0",
         "0",
         "2",
         "1",
         "0",
         "1",
         "2",
         "1",
         "1",
         "2",
         "1",
         "1",
         "0",
         "1",
         "1",
         "0",
         "2",
         "2",
         "1",
         "2",
         "1",
         "0",
         "0",
         "2",
         "2",
         "1",
         "0",
         "0",
         "2",
         "2",
         "1",
         "2",
         "0",
         "0",
         "2",
         "0",
         "2",
         "0",
         "0",
         "2",
         "2",
         "1",
         "1",
         "1",
         "2",
         "1",
         "0",
         "0",
         "1",
         "0",
         "1",
         "2",
         "0",
         "2",
         "0",
         "1",
         "0",
         "2",
         "0",
         "2",
         "2",
         "0",
         "2",
         "0",
         "0",
         "2",
         "2",
         "1",
         "1",
         "0",
         "2",
         "0",
         "0",
         "0",
         "0",
         "0",
         "1",
         "0",
         "1",
         "2",
         "1",
         "2",
         "1",
         "2",
         "2",
         "1",
         "0",
         "0",
         "0",
         "1",
         "1",
         "2",
         "1",
         "0",
         "0",
         "1",
         "1",
         "1",
         "2",
         "1",
         "0",
         "2",
         "1",
         "0",
         "1",
         "2",
         "2",
         "1",
         "0",
         "1",
         "2",
         "1",
         "1",
         "0",
         "0",
         "2",
         "2",
         "0",
         "1",
         "1",
         "2",
         "2",
         "0",
         "0",
         "0",
         "1",
         "1",
         "1",
         "0",
         "0",
         "2",
         "2",
         "2",
         "0",
         "0",
         "0",
         "1",
         "0",
         "2",
         "0",
         "1",
         "2",
         "2",
         "1",
         "2",
         "1",
         "1",
         "2",
         "0",
         "0",
         "1",
         "2",
         "0",
         "2",
         "1",
         "1",
         "0",
         "2",
         "0",
         "0",
         "2",
         "2",
         "0",
         "0",
         "1",
         "1",
         "1",
         "0",
         "2",
         "2",
         "1",
         "1",
         "2",
         "0",
         "0",
         "2",
         "0",
         "2",
         "2",
         "0",
         "0",
         "0",
         "2",
         "0",
         "1",
         "1",
         "1",
         "1",
         "2",
         "2",
         "0",
         "0",
         "0",
         "1",
         "0",
         "2",
         "0",
         "0.0",
         "1.0"
        ],
        [
         "2",
         "0.1455598027280005",
         "0.1016492298499052",
         "0.1857891105071504",
         "0.9330727084100332",
         "-0.4718073037706888",
         "1.2189190629084077",
         "-0.2290645628518297",
         "-1.004656658916549",
         "0.4669892186323196",
         "-0.3026408298945063",
         "1.005005005",
         "2",
         "0",
         "2",
         "2",
         "2",
         "1",
         "1",
         "1",
         "2",
         "0",
         "2",
         "0",
         "0",
         "1",
         "2",
         "1",
         "2",
         "0",
         "0",
         "0",
         "2",
         "1",
         "2",
         "1",
         "2",
         "2",
         "0",
         "1",
         "2",
         "0",
         "2",
         "1",
         "1",
         "0",
         "1",
         "2",
         "0",
         "2",
         "2",
         "2",
         "1",
         "0",
         "0",
         "1",
         "0",
         "2",
         "0",
         "0",
         "2",
         "0",
         "0",
         "2",
         "1",
         "0",
         "0",
         "2",
         "0",
         "1",
         "2",
         "0",
         "1",
         "0",
         "2",
         "2",
         "2",
         "0",
         "0",
         "1",
         "0",
         "1",
         "0",
         "2",
         "0",
         "2",
         "0",
         "2",
         "2",
         "2",
         "1",
         "0",
         "1",
         "1",
         "0",
         "2",
         "1",
         "1",
         "0",
         "0",
         "0",
         "0",
         "2",
         "0",
         "2",
         "2",
         "2",
         "2",
         "2",
         "0",
         "0",
         "0",
         "2",
         "2",
         "1",
         "1",
         "1",
         "0",
         "2",
         "2",
         "0",
         "2",
         "0",
         "0",
         "0",
         "2",
         "2",
         "1",
         "0",
         "2",
         "1",
         "1",
         "0",
         "1",
         "1",
         "2",
         "1",
         "0",
         "2",
         "0",
         "2",
         "2",
         "0",
         "2",
         "2",
         "0",
         "1",
         "1",
         "1",
         "2",
         "0",
         "1",
         "0",
         "1",
         "1",
         "0",
         "2",
         "1",
         "1",
         "2",
         "0",
         "2",
         "2",
         "1",
         "0",
         "2",
         "2",
         "2",
         "1",
         "0",
         "0",
         "0",
         "2",
         "0",
         "2",
         "1",
         "2",
         "1",
         "1",
         "2",
         "2",
         "2",
         "2",
         "2",
         "0",
         "2",
         "2",
         "2",
         "0",
         "2",
         "1",
         "1",
         "0",
         "1",
         "0",
         "2",
         "0",
         "2",
         "2",
         "2",
         "0",
         "2",
         "0",
         "2",
         "1",
         "1",
         "0",
         "1",
         "1",
         "0",
         "0",
         "2",
         "1",
         "1",
         "2",
         "0",
         "2",
         "2",
         "2",
         "0",
         "0",
         "1",
         "1",
         "1",
         "1",
         "1",
         "2",
         "0",
         "2",
         "2",
         "0",
         "2",
         "1",
         "2",
         "0",
         "0",
         "0",
         "1",
         "2",
         "1",
         "2",
         "0",
         "2",
         "1",
         "2",
         "2",
         "0",
         "2",
         "1",
         "1",
         "2",
         "0",
         "0",
         "1",
         "1",
         "0",
         "1",
         "0",
         "2",
         "1",
         "1",
         "2",
         "0",
         "1",
         "1",
         "2",
         "2",
         "2",
         "2",
         "1",
         "0",
         "1",
         "1",
         "2",
         "0",
         "1",
         "0",
         "2",
         "1",
         "1",
         "0",
         "2",
         "2",
         "2",
         "2",
         "0",
         "0",
         "0",
         "2",
         "1",
         "0",
         "0",
         "1",
         "2",
         "2",
         "1",
         "0",
         "2",
         "2",
         "2",
         "1",
         "0",
         "0",
         "2",
         "1",
         "0",
         "2",
         "0",
         "2",
         "2",
         "2",
         "2",
         "0",
         "0",
         "1",
         "2",
         "1",
         "0",
         "0",
         "1",
         "1",
         "2",
         "0",
         "0",
         "0",
         "1",
         "1",
         "1",
         "0",
         "1",
         "0",
         "2",
         "0",
         "1",
         "1",
         "2",
         "2",
         "1",
         "1",
         "0",
         "1",
         "1",
         "2",
         "1",
         "0",
         "2",
         "2",
         "1",
         "1",
         "2",
         "0",
         "2",
         "1",
         "1",
         "1",
         "0",
         "1",
         "1",
         "0",
         "2",
         "1",
         "2",
         "0",
         "2",
         "1",
         "2",
         "1",
         "1",
         "2",
         "1",
         "1",
         "2",
         "2",
         "1",
         "0",
         "2",
         "2",
         "0",
         "0",
         "1",
         "2",
         "2",
         "0",
         "1",
         "1",
         "2",
         "1",
         "2",
         "1",
         "0",
         "1",
         "1",
         "2",
         "0",
         "2",
         "0",
         "1",
         "0",
         "0",
         "1",
         "0",
         "2",
         "1",
         "2",
         "0",
         "1",
         "0",
         "1",
         "0",
         "2",
         "1",
         "0",
         "2",
         "0",
         "1",
         "2",
         "1",
         "0",
         "1",
         "2",
         "1",
         "2",
         "1",
         "2",
         "2",
         "1",
         "0",
         "2",
         "1",
         "0",
         "0",
         "2",
         "1",
         "2",
         "1",
         "1",
         "2",
         "0",
         "0",
         "0",
         "1",
         "1",
         "1",
         "1",
         "2",
         "0",
         "1",
         "0",
         "2",
         "0",
         "2",
         "2",
         "2",
         "1",
         "1",
         "0",
         "0",
         "2",
         "2",
         "0",
         "2",
         "1",
         "1",
         "2",
         "2",
         "1",
         "2",
         "1",
         "1",
         "2",
         "0",
         "1",
         "2",
         "2",
         "1",
         "2",
         "2",
         "0",
         "1",
         "2",
         "0",
         "2",
         "0",
         "0",
         "0",
         "1",
         "1",
         "2",
         "0",
         "0",
         "0",
         "0",
         "2",
         "0",
         "2",
         "0",
         "1",
         "1",
         "0",
         "1",
         "1",
         "0",
         "2",
         "1",
         "0",
         "1",
         "0",
         "1",
         "0",
         "1",
         "2",
         "1",
         "2",
         "1",
         "1",
         "1",
         "1",
         "0",
         "1",
         "2",
         "0",
         "1",
         "2",
         "1",
         "0",
         "1",
         "2",
         "1",
         "2",
         "0",
         "1",
         "0",
         "2",
         "0",
         "1",
         "2",
         "1",
         "1",
         "1",
         "2",
         "2",
         "1",
         "0",
         "1",
         "0",
         "2",
         "1",
         "2",
         "2",
         "0",
         "2",
         "2",
         "2",
         "2",
         "1",
         "0",
         "2",
         "2",
         "1",
         "2",
         "1",
         "0",
         "2",
         "2",
         "1",
         "2",
         "1",
         "2",
         "2",
         "2",
         "0",
         "2",
         "1",
         "2",
         "2",
         "2",
         "1",
         "0",
         "2",
         "0",
         "1",
         "1",
         "0",
         "2",
         "1",
         "1",
         "2",
         "1",
         "2",
         "1",
         "2",
         "1",
         "0",
         "1",
         "0",
         "2",
         "1",
         "1",
         "1",
         "2",
         "2",
         "2",
         "1",
         "1",
         "0",
         "2",
         "2",
         "0",
         "1",
         "2",
         "2",
         "1",
         "1",
         "1",
         "0",
         "0",
         "1",
         "2",
         "1",
         "2",
         "2",
         "0",
         "1",
         "2",
         "0",
         "2",
         "0",
         "0",
         "0",
         "1",
         "2",
         "1",
         "0",
         "0",
         "1",
         "1",
         "0",
         "1",
         "2",
         "1",
         "1",
         "2",
         "1",
         "0",
         "2",
         "1",
         "2",
         "1",
         "0",
         "1",
         "2",
         "2",
         "1",
         "0",
         "1",
         "1",
         "2",
         "1",
         "0",
         "2",
         "1",
         "2",
         "2",
         "2",
         "2",
         "0",
         "1",
         "1",
         "1",
         "1",
         "2",
         "1",
         "0",
         "1",
         "0",
         "2",
         "0",
         "2",
         "0",
         "2",
         "0",
         "2",
         "0",
         "1",
         "1",
         "0",
         "1",
         "0",
         "1",
         "2",
         "2",
         "2",
         "1",
         "0",
         "0",
         "0",
         "0",
         "1",
         "1",
         "0",
         "2",
         "1",
         "1",
         "0",
         "2",
         "1",
         "2",
         "1",
         "2",
         "0",
         "2",
         "2",
         "1",
         "1",
         "0",
         "0",
         "0",
         "2",
         "0",
         "1",
         "2",
         "1",
         "0",
         "1",
         "2",
         "0",
         "2",
         "1",
         "1",
         "1",
         "2",
         "2",
         "1",
         "1",
         "1",
         "2",
         "1",
         "2",
         "1",
         "0",
         "0",
         "2",
         "1",
         "2",
         "2",
         "2",
         "1",
         "0",
         "2",
         "2",
         "1",
         "2",
         "1",
         "2",
         "1",
         "2",
         "0",
         "0",
         "0",
         "0",
         "1",
         "2",
         "2",
         "1",
         "2",
         "1",
         "0",
         "1",
         "0",
         "1",
         "2",
         "1",
         "2",
         "2",
         "1",
         "1",
         "0",
         "0",
         "1",
         "2",
         "0",
         "0",
         "2",
         "1",
         "2",
         "2",
         "1",
         "2",
         "1",
         "1",
         "2",
         "2",
         "0",
         "2",
         "2",
         "1",
         "2",
         "2",
         "2",
         "2",
         "1",
         "2",
         "1",
         "1",
         "2",
         "1",
         "2",
         "2",
         "2",
         "2",
         "2",
         "0",
         "1",
         "0",
         "0",
         "0",
         "0",
         "1",
         "2",
         "2",
         "0",
         "2",
         "1",
         "2",
         "0",
         "1",
         "1",
         "1",
         "2",
         "2",
         "1",
         "1",
         "0",
         "1",
         "0",
         "2",
         "2",
         "1",
         "0",
         "1",
         "2",
         "0",
         "2",
         "0",
         "2",
         "0",
         "2",
         "2",
         "1",
         "1",
         "0",
         "1",
         "0",
         "1",
         "2",
         "1",
         "2",
         "1",
         "2",
         "2",
         "1",
         "1",
         "1",
         "1",
         "2",
         "2",
         "0",
         "1",
         "1",
         "0",
         "1",
         "2",
         "1",
         "0",
         "0",
         "2",
         "2",
         "2",
         "1",
         "0",
         "2",
         "1",
         "1",
         "2",
         "1",
         "2",
         "1",
         "2",
         "0",
         "0",
         "0",
         "1",
         "2",
         "1",
         "2",
         "0",
         "1",
         "1",
         "1",
         "1",
         "2",
         "0",
         "1",
         "0",
         "2",
         "2",
         "2",
         "0",
         "2",
         "1",
         "1",
         "1",
         "0",
         "2",
         "0",
         "1",
         "2",
         "2",
         "1",
         "2",
         "2",
         "1",
         "2",
         "0",
         "2",
         "0",
         "2",
         "2",
         "1",
         "0",
         "0",
         "1",
         "2",
         "1",
         "0",
         "1",
         "2",
         "0",
         "1",
         "2",
         "1",
         "2",
         "2",
         "1",
         "1",
         "1",
         "2",
         "2",
         "2",
         "1",
         "0",
         "1",
         "2",
         "1",
         "0",
         "0",
         "2",
         "1",
         "2",
         "0",
         "1",
         "2",
         "1",
         "2",
         "0",
         "2",
         "1",
         "1",
         "0",
         "2",
         "2",
         "2",
         "0",
         "2",
         "2",
         "0",
         "1",
         "0",
         "2",
         "1",
         "1",
         "1",
         "2",
         "0",
         "2",
         "0",
         "1",
         "2",
         "1",
         "1",
         "0",
         "0",
         "1",
         "0",
         "1",
         "2",
         "2",
         "0",
         "0",
         "2",
         "1",
         "2",
         "1",
         "1",
         "1",
         "1",
         "1",
         "2",
         "1",
         "1",
         "0",
         "1",
         "0.0",
         "1.0"
        ],
        [
         "3",
         "-0.7887993161129029",
         "0.2747588858720806",
         "-0.4468318432766958",
         "-0.261840052164915",
         "-0.2547074134420315",
         "-1.0166395523422778",
         "-1.5170729457707344",
         "-1.3125895588575736",
         "-0.2948202734269282",
         "-0.9064688296840284",
         "0.971428571",
         "0",
         "0",
         "0",
         "0",
         "2",
         "2",
         "1",
         "0",
         "1",
         "0",
         "1",
         "0",
         "2",
         "1",
         "0",
         "1",
         "2",
         "1",
         "1",
         "1",
         "1",
         "1",
         "2",
         "2",
         "2",
         "0",
         "2",
         "1",
         "1",
         "1",
         "0",
         "0",
         "0",
         "2",
         "1",
         "1",
         "1",
         "2",
         "0",
         "0",
         "1",
         "2",
         "1",
         "2",
         "1",
         "2",
         "0",
         "1",
         "2",
         "2",
         "2",
         "0",
         "1",
         "0",
         "1",
         "2",
         "0",
         "2",
         "2",
         "1",
         "0",
         "0",
         "2",
         "2",
         "0",
         "2",
         "2",
         "1",
         "0",
         "1",
         "2",
         "0",
         "2",
         "1",
         "0",
         "1",
         "0",
         "1",
         "2",
         "1",
         "0",
         "1",
         "1",
         "2",
         "2",
         "2",
         "0",
         "2",
         "1",
         "1",
         "0",
         "1",
         "1",
         "1",
         "0",
         "0",
         "1",
         "2",
         "2",
         "1",
         "2",
         "0",
         "1",
         "1",
         "0",
         "2",
         "0",
         "1",
         "2",
         "1",
         "2",
         "0",
         "2",
         "2",
         "0",
         "0",
         "0",
         "2",
         "0",
         "1",
         "0",
         "2",
         "2",
         "1",
         "1",
         "1",
         "2",
         "1",
         "1",
         "2",
         "2",
         "0",
         "1",
         "1",
         "1",
         "0",
         "0",
         "1",
         "0",
         "0",
         "0",
         "2",
         "0",
         "0",
         "1",
         "2",
         "1",
         "2",
         "1",
         "1",
         "2",
         "0",
         "0",
         "0",
         "1",
         "2",
         "1",
         "2",
         "2",
         "0",
         "1",
         "1",
         "0",
         "0",
         "0",
         "0",
         "2",
         "0",
         "1",
         "1",
         "1",
         "1",
         "0",
         "0",
         "1",
         "2",
         "2",
         "2",
         "0",
         "0",
         "1",
         "2",
         "2",
         "1",
         "1",
         "1",
         "0",
         "1",
         "1",
         "0",
         "0",
         "0",
         "1",
         "0",
         "2",
         "1",
         "1",
         "1",
         "1",
         "1",
         "2",
         "0",
         "2",
         "2",
         "0",
         "1",
         "0",
         "0",
         "1",
         "0",
         "1",
         "1",
         "2",
         "1",
         "0",
         "2",
         "0",
         "2",
         "0",
         "1",
         "1",
         "2",
         "0",
         "0",
         "2",
         "1",
         "2",
         "1",
         "1",
         "1",
         "2",
         "1",
         "1",
         "1",
         "1",
         "0",
         "2",
         "1",
         "0",
         "0",
         "2",
         "1",
         "0",
         "1",
         "2",
         "1",
         "2",
         "1",
         "0",
         "0",
         "1",
         "1",
         "2",
         "2",
         "1",
         "1",
         "2",
         "2",
         "1",
         "1",
         "1",
         "0",
         "1",
         "1",
         "1",
         "1",
         "0",
         "0",
         "1",
         "1",
         "0",
         "2",
         "1",
         "1",
         "1",
         "1",
         "0",
         "0",
         "0",
         "1",
         "1",
         "1",
         "1",
         "1",
         "1",
         "2",
         "0",
         "0",
         "1",
         "1",
         "1",
         "2",
         "0",
         "1",
         "1",
         "0",
         "1",
         "2",
         "2",
         "1",
         "0",
         "2",
         "1",
         "1",
         "1",
         "1",
         "2",
         "2",
         "1",
         "1",
         "0",
         "1",
         "0",
         "1",
         "0",
         "1",
         "1",
         "1",
         "2",
         "1",
         "1",
         "1",
         "1",
         "2",
         "0",
         "0",
         "1",
         "0",
         "2",
         "0",
         "1",
         "1",
         "2",
         "1",
         "0",
         "2",
         "2",
         "2",
         "1",
         "2",
         "0",
         "2",
         "2",
         "0",
         "1",
         "2",
         "2",
         "1",
         "2",
         "1",
         "1",
         "1",
         "0",
         "0",
         "0",
         "2",
         "2",
         "1",
         "2",
         "1",
         "0",
         "0",
         "2",
         "1",
         "1",
         "2",
         "0",
         "1",
         "0",
         "1",
         "1",
         "2",
         "1",
         "0",
         "1",
         "1",
         "0",
         "2",
         "1",
         "1",
         "0",
         "0",
         "2",
         "0",
         "0",
         "0",
         "1",
         "1",
         "0",
         "2",
         "1",
         "1",
         "1",
         "0",
         "0",
         "0",
         "0",
         "1",
         "0",
         "1",
         "0",
         "1",
         "0",
         "1",
         "2",
         "1",
         "0",
         "1",
         "1",
         "0",
         "1",
         "1",
         "2",
         "2",
         "1",
         "0",
         "1",
         "2",
         "2",
         "1",
         "0",
         "0",
         "1",
         "1",
         "2",
         "2",
         "1",
         "0",
         "2",
         "2",
         "1",
         "1",
         "1",
         "1",
         "1",
         "1",
         "0",
         "1",
         "1",
         "1",
         "1",
         "2",
         "0",
         "2",
         "1",
         "0",
         "0",
         "1",
         "0",
         "2",
         "1",
         "1",
         "2",
         "1",
         "0",
         "1",
         "0",
         "0",
         "2",
         "1",
         "2",
         "1",
         "2",
         "1",
         "0",
         "1",
         "2",
         "2",
         "1",
         "1",
         "2",
         "2",
         "0",
         "0",
         "0",
         "0",
         "1",
         "0",
         "2",
         "0",
         "2",
         "0",
         "0",
         "2",
         "2",
         "2",
         "1",
         "1",
         "0",
         "0",
         "0",
         "1",
         "1",
         "1",
         "1",
         "1",
         "1",
         "2",
         "1",
         "1",
         "1",
         "2",
         "1",
         "1",
         "1",
         "2",
         "0",
         "1",
         "0",
         "1",
         "1",
         "0",
         "2",
         "1",
         "1",
         "2",
         "2",
         "2",
         "2",
         "2",
         "2",
         "2",
         "0",
         "0",
         "0",
         "2",
         "2",
         "0",
         "2",
         "1",
         "1",
         "2",
         "2",
         "2",
         "0",
         "0",
         "2",
         "0",
         "1",
         "1",
         "2",
         "2",
         "1",
         "0",
         "1",
         "0",
         "1",
         "2",
         "1",
         "1",
         "1",
         "1",
         "0",
         "0",
         "2",
         "1",
         "2",
         "1",
         "1",
         "1",
         "1",
         "0",
         "1",
         "1",
         "1",
         "2",
         "1",
         "2",
         "1",
         "1",
         "1",
         "2",
         "2",
         "0",
         "0",
         "0",
         "1",
         "1",
         "1",
         "2",
         "1",
         "2",
         "0",
         "0",
         "1",
         "1",
         "1",
         "0",
         "2",
         "1",
         "1",
         "2",
         "2",
         "2",
         "1",
         "1",
         "1",
         "1",
         "0",
         "2",
         "0",
         "2",
         "2",
         "0",
         "2",
         "0",
         "0",
         "1",
         "2",
         "0",
         "2",
         "1",
         "2",
         "0",
         "1",
         "2",
         "0",
         "0",
         "1",
         "0",
         "2",
         "0",
         "1",
         "1",
         "0",
         "1",
         "2",
         "1",
         "1",
         "2",
         "2",
         "2",
         "2",
         "0",
         "1",
         "0",
         "2",
         "1",
         "1",
         "2",
         "1",
         "1",
         "1",
         "2",
         "1",
         "1",
         "2",
         "0",
         "1",
         "1",
         "2",
         "1",
         "0",
         "0",
         "1",
         "2",
         "0",
         "0",
         "1",
         "2",
         "1",
         "0",
         "2",
         "2",
         "2",
         "0",
         "1",
         "2",
         "0",
         "1",
         "0",
         "1",
         "1",
         "1",
         "0",
         "2",
         "1",
         "0",
         "0",
         "1",
         "1",
         "1",
         "1",
         "0",
         "0",
         "0",
         "1",
         "0",
         "1",
         "0",
         "1",
         "2",
         "0",
         "2",
         "0",
         "0",
         "0",
         "2",
         "0",
         "2",
         "1",
         "1",
         "0",
         "1",
         "0",
         "1",
         "2",
         "0",
         "1",
         "0",
         "1",
         "1",
         "1",
         "2",
         "1",
         "2",
         "2",
         "1",
         "0",
         "0",
         "0",
         "2",
         "1",
         "2",
         "1",
         "1",
         "0",
         "0",
         "0",
         "1",
         "2",
         "1",
         "0",
         "1",
         "0",
         "1",
         "2",
         "1",
         "0",
         "1",
         "1",
         "0",
         "0",
         "1",
         "2",
         "1",
         "0",
         "0",
         "0",
         "0",
         "0",
         "0",
         "1",
         "2",
         "1",
         "0",
         "2",
         "0",
         "2",
         "0",
         "2",
         "1",
         "1",
         "0",
         "2",
         "0",
         "1",
         "1",
         "0",
         "0",
         "0",
         "0",
         "1",
         "0",
         "1",
         "2",
         "1",
         "0",
         "0",
         "2",
         "2",
         "1",
         "2",
         "1",
         "2",
         "1",
         "1",
         "0",
         "0",
         "1",
         "1",
         "2",
         "2",
         "1",
         "1",
         "2",
         "0",
         "0",
         "1",
         "2",
         "1",
         "0",
         "1",
         "1",
         "1",
         "2",
         "0",
         "2",
         "2",
         "1",
         "0",
         "2",
         "1",
         "2",
         "0",
         "2",
         "0",
         "1",
         "2",
         "1",
         "1",
         "0",
         "0",
         "1",
         "1",
         "0",
         "2",
         "1",
         "1",
         "2",
         "2",
         "0",
         "1",
         "1",
         "1",
         "0",
         "1",
         "1",
         "0",
         "2",
         "1",
         "2",
         "1",
         "1",
         "1",
         "0",
         "0",
         "0",
         "0",
         "1",
         "0",
         "1",
         "2",
         "0",
         "2",
         "2",
         "2",
         "1",
         "2",
         "2",
         "0",
         "1",
         "0",
         "1",
         "1",
         "1",
         "1",
         "0",
         "0",
         "1",
         "2",
         "1",
         "1",
         "0",
         "1",
         "1",
         "0",
         "1",
         "1",
         "0",
         "0",
         "1",
         "1",
         "2",
         "1",
         "2",
         "2",
         "0",
         "0",
         "1",
         "1",
         "1",
         "1",
         "2",
         "0",
         "1",
         "0",
         "1",
         "2",
         "1",
         "1",
         "2",
         "0",
         "2",
         "0",
         "1",
         "2",
         "1",
         "2",
         "0",
         "0",
         "2",
         "1",
         "1",
         "0",
         "2",
         "2",
         "0",
         "1",
         "1",
         "0",
         "2",
         "0",
         "2",
         "0",
         "0",
         "0",
         "1",
         "1",
         "1",
         "0",
         "0",
         "0",
         "1",
         "1",
         "0",
         "2",
         "1",
         "2",
         "1",
         "1",
         "0",
         "1",
         "1",
         "1",
         "1",
         "1",
         "1",
         "0",
         "1",
         "2",
         "0",
         "1",
         "2",
         "2",
         "2",
         "1",
         "1",
         "1",
         "1",
         "0",
         "0",
         "1",
         "1",
         "1",
         "1",
         "1",
         "1",
         "0",
         "1",
         "2",
         "0",
         "1",
         "0",
         "2",
         "1",
         "2",
         "1",
         "2",
         "1",
         "1",
         "0",
         "2",
         "2",
         "2",
         "0",
         "1",
         "2",
         "2",
         "1",
         "1",
         "1",
         "2",
         "1",
         "1",
         "0",
         "1",
         "0",
         "0",
         "2",
         "1.0",
         "0.0"
        ],
        [
         "4",
         "1.079918921568904",
         "-0.8489380346986833",
         "1.2760095179790256",
         "-1.2877628976503914",
         "2.6165437976757837",
         "1.4501837472446857",
         "1.136224323042209",
         "0.2489223349191894",
         "1.3971054589372145",
         "0.4912811698287526",
         "1.036448598",
         "2",
         "1",
         "1",
         "0",
         "2",
         "1",
         "0",
         "1",
         "2",
         "0",
         "1",
         "0",
         "0",
         "2",
         "1",
         "1",
         "0",
         "1",
         "1",
         "2",
         "1",
         "0",
         "0",
         "1",
         "0",
         "2",
         "2",
         "1",
         "1",
         "0",
         "1",
         "0",
         "0",
         "1",
         "2",
         "0",
         "2",
         "1",
         "1",
         "1",
         "1",
         "2",
         "2",
         "1",
         "2",
         "1",
         "1",
         "0",
         "0",
         "2",
         "1",
         "2",
         "1",
         "1",
         "1",
         "0",
         "1",
         "0",
         "2",
         "2",
         "1",
         "1",
         "0",
         "0",
         "0",
         "2",
         "2",
         "2",
         "2",
         "0",
         "0",
         "2",
         "0",
         "0",
         "0",
         "2",
         "1",
         "2",
         "0",
         "2",
         "0",
         "1",
         "1",
         "0",
         "1",
         "1",
         "2",
         "1",
         "2",
         "1",
         "2",
         "0",
         "2",
         "2",
         "2",
         "2",
         "1",
         "2",
         "2",
         "2",
         "1",
         "2",
         "0",
         "2",
         "2",
         "0",
         "0",
         "0",
         "2",
         "2",
         "2",
         "0",
         "2",
         "0",
         "1",
         "2",
         "2",
         "1",
         "1",
         "1",
         "0",
         "2",
         "1",
         "2",
         "0",
         "2",
         "1",
         "0",
         "2",
         "1",
         "2",
         "2",
         "0",
         "0",
         "1",
         "2",
         "0",
         "0",
         "1",
         "1",
         "2",
         "1",
         "1",
         "1",
         "1",
         "2",
         "1",
         "2",
         "0",
         "0",
         "2",
         "0",
         "2",
         "2",
         "2",
         "2",
         "2",
         "0",
         "2",
         "1",
         "1",
         "2",
         "1",
         "2",
         "2",
         "0",
         "0",
         "1",
         "2",
         "1",
         "2",
         "2",
         "1",
         "1",
         "1",
         "2",
         "0",
         "1",
         "1",
         "1",
         "0",
         "0",
         "1",
         "0",
         "2",
         "2",
         "2",
         "2",
         "2",
         "0",
         "0",
         "0",
         "1",
         "0",
         "0",
         "0",
         "1",
         "0",
         "1",
         "2",
         "2",
         "1",
         "0",
         "0",
         "1",
         "2",
         "1",
         "0",
         "1",
         "1",
         "2",
         "0",
         "0",
         "2",
         "2",
         "2",
         "0",
         "0",
         "1",
         "0",
         "0",
         "2",
         "2",
         "0",
         "0",
         "2",
         "2",
         "2",
         "1",
         "0",
         "1",
         "0",
         "2",
         "2",
         "1",
         "2",
         "0",
         "2",
         "0",
         "2",
         "0",
         "1",
         "0",
         "2",
         "1",
         "1",
         "2",
         "2",
         "2",
         "1",
         "0",
         "2",
         "0",
         "2",
         "2",
         "0",
         "1",
         "0",
         "2",
         "2",
         "2",
         "2",
         "0",
         "1",
         "0",
         "1",
         "0",
         "1",
         "2",
         "0",
         "2",
         "1",
         "1",
         "2",
         "0",
         "0",
         "1",
         "2",
         "0",
         "2",
         "2",
         "1",
         "2",
         "0",
         "2",
         "1",
         "2",
         "2",
         "1",
         "1",
         "1",
         "2",
         "1",
         "0",
         "0",
         "0",
         "2",
         "2",
         "2",
         "1",
         "0",
         "0",
         "0",
         "1",
         "1",
         "2",
         "1",
         "1",
         "2",
         "1",
         "1",
         "1",
         "2",
         "2",
         "2",
         "2",
         "2",
         "1",
         "0",
         "0",
         "0",
         "2",
         "1",
         "1",
         "0",
         "0",
         "2",
         "1",
         "1",
         "0",
         "1",
         "1",
         "1",
         "1",
         "2",
         "1",
         "0",
         "1",
         "0",
         "1",
         "1",
         "1",
         "0",
         "1",
         "2",
         "0",
         "2",
         "1",
         "2",
         "0",
         "0",
         "1",
         "0",
         "1",
         "1",
         "0",
         "0",
         "2",
         "0",
         "0",
         "2",
         "1",
         "0",
         "2",
         "0",
         "0",
         "2",
         "0",
         "0",
         "2",
         "0",
         "0",
         "0",
         "2",
         "0",
         "2",
         "0",
         "2",
         "1",
         "1",
         "1",
         "0",
         "1",
         "0",
         "0",
         "2",
         "2",
         "2",
         "1",
         "2",
         "0",
         "0",
         "0",
         "0",
         "1",
         "2",
         "1",
         "1",
         "0",
         "2",
         "1",
         "0",
         "2",
         "1",
         "0",
         "0",
         "1",
         "2",
         "0",
         "2",
         "0",
         "2",
         "0",
         "0",
         "2",
         "2",
         "1",
         "2",
         "0",
         "2",
         "2",
         "2",
         "2",
         "1",
         "0",
         "2",
         "0",
         "1",
         "1",
         "2",
         "0",
         "1",
         "0",
         "2",
         "1",
         "2",
         "2",
         "0",
         "2",
         "1",
         "1",
         "1",
         "0",
         "2",
         "1",
         "2",
         "1",
         "1",
         "0",
         "1",
         "1",
         "1",
         "0",
         "0",
         "0",
         "2",
         "1",
         "1",
         "1",
         "1",
         "2",
         "1",
         "1",
         "0",
         "1",
         "0",
         "2",
         "2",
         "2",
         "1",
         "2",
         "2",
         "1",
         "2",
         "1",
         "2",
         "0",
         "2",
         "1",
         "0",
         "0",
         "0",
         "0",
         "0",
         "1",
         "1",
         "2",
         "0",
         "0",
         "1",
         "0",
         "1",
         "1",
         "1",
         "2",
         "0",
         "0",
         "2",
         "1",
         "2",
         "1",
         "1",
         "1",
         "1",
         "0",
         "2",
         "0",
         "0",
         "0",
         "1",
         "2",
         "1",
         "1",
         "2",
         "0",
         "0",
         "0",
         "0",
         "0",
         "1",
         "0",
         "2",
         "0",
         "1",
         "2",
         "1",
         "0",
         "2",
         "1",
         "1",
         "2",
         "2",
         "0",
         "0",
         "2",
         "1",
         "0",
         "1",
         "1",
         "2",
         "1",
         "0",
         "1",
         "0",
         "0",
         "2",
         "2",
         "2",
         "1",
         "1",
         "0",
         "0",
         "1",
         "0",
         "2",
         "1",
         "0",
         "1",
         "0",
         "1",
         "1",
         "1",
         "0",
         "2",
         "0",
         "0",
         "1",
         "2",
         "2",
         "2",
         "1",
         "0",
         "1",
         "2",
         "2",
         "1",
         "0",
         "1",
         "1",
         "0",
         "0",
         "0",
         "1",
         "0",
         "2",
         "0",
         "1",
         "0",
         "1",
         "0",
         "2",
         "0",
         "2",
         "2",
         "2",
         "2",
         "2",
         "1",
         "2",
         "1",
         "0",
         "2",
         "0",
         "0",
         "2",
         "0",
         "2",
         "1",
         "2",
         "2",
         "2",
         "2",
         "0",
         "1",
         "2",
         "2",
         "0",
         "1",
         "1",
         "1",
         "0",
         "1",
         "2",
         "0",
         "2",
         "1",
         "1",
         "2",
         "0",
         "1",
         "0",
         "2",
         "2",
         "1",
         "2",
         "0",
         "1",
         "2",
         "2",
         "2",
         "0",
         "2",
         "2",
         "0",
         "0",
         "1",
         "1",
         "2",
         "2",
         "1",
         "2",
         "0",
         "1",
         "0",
         "2",
         "2",
         "2",
         "1",
         "2",
         "0",
         "1",
         "2",
         "0",
         "0",
         "1",
         "1",
         "2",
         "0",
         "1",
         "0",
         "1",
         "1",
         "2",
         "1",
         "1",
         "2",
         "2",
         "0",
         "1",
         "1",
         "1",
         "0",
         "1",
         "0",
         "2",
         "1",
         "2",
         "0",
         "2",
         "1",
         "1",
         "2",
         "0",
         "1",
         "1",
         "1",
         "1",
         "1",
         "0",
         "2",
         "2",
         "1",
         "2",
         "1",
         "1",
         "1",
         "0",
         "1",
         "0",
         "2",
         "2",
         "1",
         "0",
         "1",
         "1",
         "2",
         "0",
         "1",
         "2",
         "1",
         "1",
         "0",
         "1",
         "0",
         "2",
         "2",
         "1",
         "0",
         "1",
         "1",
         "1",
         "2",
         "2",
         "2",
         "2",
         "0",
         "1",
         "0",
         "0",
         "2",
         "2",
         "1",
         "0",
         "1",
         "1",
         "0",
         "2",
         "0",
         "2",
         "1",
         "1",
         "0",
         "2",
         "2",
         "1",
         "1",
         "1",
         "1",
         "0",
         "1",
         "1",
         "2",
         "1",
         "1",
         "1",
         "0",
         "1",
         "2",
         "2",
         "2",
         "1",
         "2",
         "2",
         "2",
         "1",
         "0",
         "2",
         "2",
         "2",
         "1",
         "2",
         "2",
         "1",
         "2",
         "1",
         "0",
         "2",
         "0",
         "2",
         "0",
         "0",
         "1",
         "1",
         "0",
         "0",
         "0",
         "1",
         "2",
         "1",
         "1",
         "2",
         "0",
         "0",
         "0",
         "0",
         "2",
         "0",
         "2",
         "0",
         "1",
         "1",
         "0",
         "1",
         "1",
         "0",
         "1",
         "0",
         "1",
         "0",
         "2",
         "1",
         "0",
         "0",
         "1",
         "2",
         "0",
         "2",
         "1",
         "0",
         "1",
         "2",
         "1",
         "2",
         "0",
         "2",
         "1",
         "2",
         "0",
         "2",
         "1",
         "1",
         "1",
         "0",
         "2",
         "0",
         "2",
         "0",
         "2",
         "2",
         "2",
         "0",
         "0",
         "0",
         "2",
         "1",
         "1",
         "0",
         "2",
         "2",
         "2",
         "2",
         "2",
         "1",
         "1",
         "1",
         "1",
         "1",
         "2",
         "0",
         "1",
         "0",
         "0",
         "0",
         "2",
         "0",
         "0",
         "0",
         "0",
         "0",
         "1",
         "2",
         "0",
         "2",
         "0",
         "0",
         "0",
         "1",
         "0",
         "0",
         "0",
         "1",
         "1",
         "1",
         "2",
         "2",
         "2",
         "1",
         "0",
         "0",
         "2",
         "2",
         "2",
         "2",
         "1",
         "2",
         "1",
         "1",
         "2",
         "2",
         "1",
         "2",
         "0",
         "2",
         "1",
         "2",
         "0",
         "2",
         "1",
         "2",
         "2",
         "2",
         "2",
         "2",
         "0",
         "1",
         "2",
         "1",
         "2",
         "0",
         "1",
         "1",
         "2",
         "1",
         "0",
         "1",
         "2",
         "0",
         "0",
         "2",
         "0",
         "0",
         "0",
         "0",
         "1",
         "2",
         "1",
         "2",
         "0",
         "1",
         "0",
         "2",
         "1",
         "1",
         "1",
         "1",
         "1",
         "1",
         "2",
         "1",
         "0",
         "2",
         "0",
         "2",
         "0",
         "2",
         "0",
         "0",
         "0",
         "1",
         "1",
         "1",
         "1",
         "1",
         "1",
         "1",
         "1",
         "1",
         "1",
         "0",
         "1",
         "0",
         "2",
         "1",
         "0",
         "0",
         "1",
         "1",
         "1",
         "2",
         "2",
         "2",
         "1",
         "1",
         "1",
         "1",
         "2",
         "1",
         "1",
         "1",
         "0",
         "0.0",
         "1.0"
        ]
       ],
       "shape": {
        "columns": 1013,
        "rows": 5
       }
      },
      "text/html": [
       "<div>\n",
       "<style scoped>\n",
       "    .dataframe tbody tr th:only-of-type {\n",
       "        vertical-align: middle;\n",
       "    }\n",
       "\n",
       "    .dataframe tbody tr th {\n",
       "        vertical-align: top;\n",
       "    }\n",
       "\n",
       "    .dataframe thead th {\n",
       "        text-align: right;\n",
       "    }\n",
       "</style>\n",
       "<table border=\"1\" class=\"dataframe\">\n",
       "  <thead>\n",
       "    <tr style=\"text-align: right;\">\n",
       "      <th></th>\n",
       "      <th>age</th>\n",
       "      <th>systolic_BP</th>\n",
       "      <th>diastolic_BP</th>\n",
       "      <th>LDL_cholesterol</th>\n",
       "      <th>HDL_cholesterol</th>\n",
       "      <th>height</th>\n",
       "      <th>weight</th>\n",
       "      <th>BMI</th>\n",
       "      <th>waist_circumference</th>\n",
       "      <th>hip_circumference</th>\n",
       "      <th>...</th>\n",
       "      <th>SNP_993</th>\n",
       "      <th>SNP_994</th>\n",
       "      <th>SNP_995</th>\n",
       "      <th>SNP_996</th>\n",
       "      <th>SNP_997</th>\n",
       "      <th>SNP_998</th>\n",
       "      <th>SNP_999</th>\n",
       "      <th>SNP_1000</th>\n",
       "      <th>sex_Female</th>\n",
       "      <th>sex_Male</th>\n",
       "    </tr>\n",
       "  </thead>\n",
       "  <tbody>\n",
       "    <tr>\n",
       "      <th>0</th>\n",
       "      <td>0.812959</td>\n",
       "      <td>-0.606279</td>\n",
       "      <td>0.444187</td>\n",
       "      <td>1.172468</td>\n",
       "      <td>-1.039078</td>\n",
       "      <td>0.679301</td>\n",
       "      <td>0.090362</td>\n",
       "      <td>-0.336726</td>\n",
       "      <td>-0.507418</td>\n",
       "      <td>-1.610935</td>\n",
       "      <td>...</td>\n",
       "      <td>1</td>\n",
       "      <td>1</td>\n",
       "      <td>2</td>\n",
       "      <td>2</td>\n",
       "      <td>0</td>\n",
       "      <td>2</td>\n",
       "      <td>1</td>\n",
       "      <td>1</td>\n",
       "      <td>0.0</td>\n",
       "      <td>1.0</td>\n",
       "    </tr>\n",
       "    <tr>\n",
       "      <th>1</th>\n",
       "      <td>1.680578</td>\n",
       "      <td>1.095283</td>\n",
       "      <td>-0.377477</td>\n",
       "      <td>-0.548804</td>\n",
       "      <td>0.161857</td>\n",
       "      <td>0.833478</td>\n",
       "      <td>0.636477</td>\n",
       "      <td>0.162759</td>\n",
       "      <td>1.193366</td>\n",
       "      <td>0.222913</td>\n",
       "      <td>...</td>\n",
       "      <td>2</td>\n",
       "      <td>0</td>\n",
       "      <td>0</td>\n",
       "      <td>0</td>\n",
       "      <td>1</td>\n",
       "      <td>0</td>\n",
       "      <td>2</td>\n",
       "      <td>0</td>\n",
       "      <td>0.0</td>\n",
       "      <td>1.0</td>\n",
       "    </tr>\n",
       "    <tr>\n",
       "      <th>2</th>\n",
       "      <td>0.145560</td>\n",
       "      <td>0.101649</td>\n",
       "      <td>0.185789</td>\n",
       "      <td>0.933073</td>\n",
       "      <td>-0.471807</td>\n",
       "      <td>1.218919</td>\n",
       "      <td>-0.229065</td>\n",
       "      <td>-1.004657</td>\n",
       "      <td>0.466989</td>\n",
       "      <td>-0.302641</td>\n",
       "      <td>...</td>\n",
       "      <td>1</td>\n",
       "      <td>1</td>\n",
       "      <td>1</td>\n",
       "      <td>2</td>\n",
       "      <td>1</td>\n",
       "      <td>1</td>\n",
       "      <td>0</td>\n",
       "      <td>1</td>\n",
       "      <td>0.0</td>\n",
       "      <td>1.0</td>\n",
       "    </tr>\n",
       "    <tr>\n",
       "      <th>3</th>\n",
       "      <td>-0.788799</td>\n",
       "      <td>0.274759</td>\n",
       "      <td>-0.446832</td>\n",
       "      <td>-0.261840</td>\n",
       "      <td>-0.254707</td>\n",
       "      <td>-1.016640</td>\n",
       "      <td>-1.517073</td>\n",
       "      <td>-1.312590</td>\n",
       "      <td>-0.294820</td>\n",
       "      <td>-0.906469</td>\n",
       "      <td>...</td>\n",
       "      <td>2</td>\n",
       "      <td>1</td>\n",
       "      <td>1</td>\n",
       "      <td>0</td>\n",
       "      <td>1</td>\n",
       "      <td>0</td>\n",
       "      <td>0</td>\n",
       "      <td>2</td>\n",
       "      <td>1.0</td>\n",
       "      <td>0.0</td>\n",
       "    </tr>\n",
       "    <tr>\n",
       "      <th>4</th>\n",
       "      <td>1.079919</td>\n",
       "      <td>-0.848938</td>\n",
       "      <td>1.276010</td>\n",
       "      <td>-1.287763</td>\n",
       "      <td>2.616544</td>\n",
       "      <td>1.450184</td>\n",
       "      <td>1.136224</td>\n",
       "      <td>0.248922</td>\n",
       "      <td>1.397105</td>\n",
       "      <td>0.491281</td>\n",
       "      <td>...</td>\n",
       "      <td>1</td>\n",
       "      <td>1</td>\n",
       "      <td>1</td>\n",
       "      <td>2</td>\n",
       "      <td>1</td>\n",
       "      <td>1</td>\n",
       "      <td>1</td>\n",
       "      <td>0</td>\n",
       "      <td>0.0</td>\n",
       "      <td>1.0</td>\n",
       "    </tr>\n",
       "  </tbody>\n",
       "</table>\n",
       "<p>5 rows × 1013 columns</p>\n",
       "</div>"
      ],
      "text/plain": [
       "        age  systolic_BP  diastolic_BP  LDL_cholesterol  HDL_cholesterol  \\\n",
       "0  0.812959    -0.606279      0.444187         1.172468        -1.039078   \n",
       "1  1.680578     1.095283     -0.377477        -0.548804         0.161857   \n",
       "2  0.145560     0.101649      0.185789         0.933073        -0.471807   \n",
       "3 -0.788799     0.274759     -0.446832        -0.261840        -0.254707   \n",
       "4  1.079919    -0.848938      1.276010        -1.287763         2.616544   \n",
       "\n",
       "     height    weight       BMI  waist_circumference  hip_circumference  ...  \\\n",
       "0  0.679301  0.090362 -0.336726            -0.507418          -1.610935  ...   \n",
       "1  0.833478  0.636477  0.162759             1.193366           0.222913  ...   \n",
       "2  1.218919 -0.229065 -1.004657             0.466989          -0.302641  ...   \n",
       "3 -1.016640 -1.517073 -1.312590            -0.294820          -0.906469  ...   \n",
       "4  1.450184  1.136224  0.248922             1.397105           0.491281  ...   \n",
       "\n",
       "   SNP_993  SNP_994  SNP_995  SNP_996  SNP_997  SNP_998  SNP_999  SNP_1000  \\\n",
       "0        1        1        2        2        0        2        1         1   \n",
       "1        2        0        0        0        1        0        2         0   \n",
       "2        1        1        1        2        1        1        0         1   \n",
       "3        2        1        1        0        1        0        0         2   \n",
       "4        1        1        1        2        1        1        1         0   \n",
       "\n",
       "   sex_Female  sex_Male  \n",
       "0         0.0       1.0  \n",
       "1         0.0       1.0  \n",
       "2         0.0       1.0  \n",
       "3         1.0       0.0  \n",
       "4         0.0       1.0  \n",
       "\n",
       "[5 rows x 1013 columns]"
      ]
     },
     "execution_count": 4,
     "metadata": {},
     "output_type": "execute_result"
    }
   ],
   "source": [
    "bio_data2 = pd.read_csv(r'C:\\Users\\ryanj\\Desktop\\CSA2025\\data\\bio_data2.csv')\n",
    "bio_data2.head()"
   ]
  },
  {
   "cell_type": "markdown",
   "id": "4c61b235",
   "metadata": {},
   "source": [
    "## setting the X variables and Y Target  "
   ]
  },
  {
   "cell_type": "code",
   "execution_count": 5,
   "id": "d7dd3cd9",
   "metadata": {},
   "outputs": [],
   "source": [
    "X = bio_data2.drop(['BMI'], axis=1)\n",
    "Y = bio_data2['BMI']"
   ]
  },
  {
   "cell_type": "code",
   "execution_count": 6,
   "id": "222880e7",
   "metadata": {},
   "outputs": [],
   "source": [
    "from sklearn.model_selection import train_test_split"
   ]
  },
  {
   "cell_type": "code",
   "execution_count": 7,
   "id": "3ca29b1d",
   "metadata": {},
   "outputs": [],
   "source": [
    "X_train, X_test, Y_train, Y_test = train_test_split(X, Y , test_size=0.2, random_state=7)"
   ]
  },
  {
   "cell_type": "code",
   "execution_count": 8,
   "id": "0417331c",
   "metadata": {},
   "outputs": [
    {
     "data": {
      "text/plain": [
       "(800, 1012)"
      ]
     },
     "execution_count": 8,
     "metadata": {},
     "output_type": "execute_result"
    }
   ],
   "source": [
    "X_train.shape"
   ]
  },
  {
   "cell_type": "code",
   "execution_count": 9,
   "id": "5c313f1a",
   "metadata": {},
   "outputs": [
    {
     "data": {
      "text/plain": [
       "(800,)"
      ]
     },
     "execution_count": 9,
     "metadata": {},
     "output_type": "execute_result"
    }
   ],
   "source": [
    "Y_train.shape"
   ]
  },
  {
   "cell_type": "markdown",
   "id": "acef964f",
   "metadata": {},
   "source": [
    "## Import Model training modules"
   ]
  },
  {
   "cell_type": "code",
   "execution_count": 10,
   "id": "ce41f83e",
   "metadata": {},
   "outputs": [],
   "source": [
    "from sklearn.ensemble import RandomForestRegressor\n",
    "from sklearn.model_selection import GridSearchCV, RandomizedSearchCV"
   ]
  },
  {
   "cell_type": "code",
   "execution_count": 11,
   "id": "b43cf82d",
   "metadata": {},
   "outputs": [
    {
     "data": {
      "text/html": [
       "<style>#sk-container-id-1 {\n",
       "  /* Definition of color scheme common for light and dark mode */\n",
       "  --sklearn-color-text: #000;\n",
       "  --sklearn-color-text-muted: #666;\n",
       "  --sklearn-color-line: gray;\n",
       "  /* Definition of color scheme for unfitted estimators */\n",
       "  --sklearn-color-unfitted-level-0: #fff5e6;\n",
       "  --sklearn-color-unfitted-level-1: #f6e4d2;\n",
       "  --sklearn-color-unfitted-level-2: #ffe0b3;\n",
       "  --sklearn-color-unfitted-level-3: chocolate;\n",
       "  /* Definition of color scheme for fitted estimators */\n",
       "  --sklearn-color-fitted-level-0: #f0f8ff;\n",
       "  --sklearn-color-fitted-level-1: #d4ebff;\n",
       "  --sklearn-color-fitted-level-2: #b3dbfd;\n",
       "  --sklearn-color-fitted-level-3: cornflowerblue;\n",
       "\n",
       "  /* Specific color for light theme */\n",
       "  --sklearn-color-text-on-default-background: var(--sg-text-color, var(--theme-code-foreground, var(--jp-content-font-color1, black)));\n",
       "  --sklearn-color-background: var(--sg-background-color, var(--theme-background, var(--jp-layout-color0, white)));\n",
       "  --sklearn-color-border-box: var(--sg-text-color, var(--theme-code-foreground, var(--jp-content-font-color1, black)));\n",
       "  --sklearn-color-icon: #696969;\n",
       "\n",
       "  @media (prefers-color-scheme: dark) {\n",
       "    /* Redefinition of color scheme for dark theme */\n",
       "    --sklearn-color-text-on-default-background: var(--sg-text-color, var(--theme-code-foreground, var(--jp-content-font-color1, white)));\n",
       "    --sklearn-color-background: var(--sg-background-color, var(--theme-background, var(--jp-layout-color0, #111)));\n",
       "    --sklearn-color-border-box: var(--sg-text-color, var(--theme-code-foreground, var(--jp-content-font-color1, white)));\n",
       "    --sklearn-color-icon: #878787;\n",
       "  }\n",
       "}\n",
       "\n",
       "#sk-container-id-1 {\n",
       "  color: var(--sklearn-color-text);\n",
       "}\n",
       "\n",
       "#sk-container-id-1 pre {\n",
       "  padding: 0;\n",
       "}\n",
       "\n",
       "#sk-container-id-1 input.sk-hidden--visually {\n",
       "  border: 0;\n",
       "  clip: rect(1px 1px 1px 1px);\n",
       "  clip: rect(1px, 1px, 1px, 1px);\n",
       "  height: 1px;\n",
       "  margin: -1px;\n",
       "  overflow: hidden;\n",
       "  padding: 0;\n",
       "  position: absolute;\n",
       "  width: 1px;\n",
       "}\n",
       "\n",
       "#sk-container-id-1 div.sk-dashed-wrapped {\n",
       "  border: 1px dashed var(--sklearn-color-line);\n",
       "  margin: 0 0.4em 0.5em 0.4em;\n",
       "  box-sizing: border-box;\n",
       "  padding-bottom: 0.4em;\n",
       "  background-color: var(--sklearn-color-background);\n",
       "}\n",
       "\n",
       "#sk-container-id-1 div.sk-container {\n",
       "  /* jupyter's `normalize.less` sets `[hidden] { display: none; }`\n",
       "     but bootstrap.min.css set `[hidden] { display: none !important; }`\n",
       "     so we also need the `!important` here to be able to override the\n",
       "     default hidden behavior on the sphinx rendered scikit-learn.org.\n",
       "     See: https://github.com/scikit-learn/scikit-learn/issues/21755 */\n",
       "  display: inline-block !important;\n",
       "  position: relative;\n",
       "}\n",
       "\n",
       "#sk-container-id-1 div.sk-text-repr-fallback {\n",
       "  display: none;\n",
       "}\n",
       "\n",
       "div.sk-parallel-item,\n",
       "div.sk-serial,\n",
       "div.sk-item {\n",
       "  /* draw centered vertical line to link estimators */\n",
       "  background-image: linear-gradient(var(--sklearn-color-text-on-default-background), var(--sklearn-color-text-on-default-background));\n",
       "  background-size: 2px 100%;\n",
       "  background-repeat: no-repeat;\n",
       "  background-position: center center;\n",
       "}\n",
       "\n",
       "/* Parallel-specific style estimator block */\n",
       "\n",
       "#sk-container-id-1 div.sk-parallel-item::after {\n",
       "  content: \"\";\n",
       "  width: 100%;\n",
       "  border-bottom: 2px solid var(--sklearn-color-text-on-default-background);\n",
       "  flex-grow: 1;\n",
       "}\n",
       "\n",
       "#sk-container-id-1 div.sk-parallel {\n",
       "  display: flex;\n",
       "  align-items: stretch;\n",
       "  justify-content: center;\n",
       "  background-color: var(--sklearn-color-background);\n",
       "  position: relative;\n",
       "}\n",
       "\n",
       "#sk-container-id-1 div.sk-parallel-item {\n",
       "  display: flex;\n",
       "  flex-direction: column;\n",
       "}\n",
       "\n",
       "#sk-container-id-1 div.sk-parallel-item:first-child::after {\n",
       "  align-self: flex-end;\n",
       "  width: 50%;\n",
       "}\n",
       "\n",
       "#sk-container-id-1 div.sk-parallel-item:last-child::after {\n",
       "  align-self: flex-start;\n",
       "  width: 50%;\n",
       "}\n",
       "\n",
       "#sk-container-id-1 div.sk-parallel-item:only-child::after {\n",
       "  width: 0;\n",
       "}\n",
       "\n",
       "/* Serial-specific style estimator block */\n",
       "\n",
       "#sk-container-id-1 div.sk-serial {\n",
       "  display: flex;\n",
       "  flex-direction: column;\n",
       "  align-items: center;\n",
       "  background-color: var(--sklearn-color-background);\n",
       "  padding-right: 1em;\n",
       "  padding-left: 1em;\n",
       "}\n",
       "\n",
       "\n",
       "/* Toggleable style: style used for estimator/Pipeline/ColumnTransformer box that is\n",
       "clickable and can be expanded/collapsed.\n",
       "- Pipeline and ColumnTransformer use this feature and define the default style\n",
       "- Estimators will overwrite some part of the style using the `sk-estimator` class\n",
       "*/\n",
       "\n",
       "/* Pipeline and ColumnTransformer style (default) */\n",
       "\n",
       "#sk-container-id-1 div.sk-toggleable {\n",
       "  /* Default theme specific background. It is overwritten whether we have a\n",
       "  specific estimator or a Pipeline/ColumnTransformer */\n",
       "  background-color: var(--sklearn-color-background);\n",
       "}\n",
       "\n",
       "/* Toggleable label */\n",
       "#sk-container-id-1 label.sk-toggleable__label {\n",
       "  cursor: pointer;\n",
       "  display: flex;\n",
       "  width: 100%;\n",
       "  margin-bottom: 0;\n",
       "  padding: 0.5em;\n",
       "  box-sizing: border-box;\n",
       "  text-align: center;\n",
       "  align-items: start;\n",
       "  justify-content: space-between;\n",
       "  gap: 0.5em;\n",
       "}\n",
       "\n",
       "#sk-container-id-1 label.sk-toggleable__label .caption {\n",
       "  font-size: 0.6rem;\n",
       "  font-weight: lighter;\n",
       "  color: var(--sklearn-color-text-muted);\n",
       "}\n",
       "\n",
       "#sk-container-id-1 label.sk-toggleable__label-arrow:before {\n",
       "  /* Arrow on the left of the label */\n",
       "  content: \"▸\";\n",
       "  float: left;\n",
       "  margin-right: 0.25em;\n",
       "  color: var(--sklearn-color-icon);\n",
       "}\n",
       "\n",
       "#sk-container-id-1 label.sk-toggleable__label-arrow:hover:before {\n",
       "  color: var(--sklearn-color-text);\n",
       "}\n",
       "\n",
       "/* Toggleable content - dropdown */\n",
       "\n",
       "#sk-container-id-1 div.sk-toggleable__content {\n",
       "  max-height: 0;\n",
       "  max-width: 0;\n",
       "  overflow: hidden;\n",
       "  text-align: left;\n",
       "  /* unfitted */\n",
       "  background-color: var(--sklearn-color-unfitted-level-0);\n",
       "}\n",
       "\n",
       "#sk-container-id-1 div.sk-toggleable__content.fitted {\n",
       "  /* fitted */\n",
       "  background-color: var(--sklearn-color-fitted-level-0);\n",
       "}\n",
       "\n",
       "#sk-container-id-1 div.sk-toggleable__content pre {\n",
       "  margin: 0.2em;\n",
       "  border-radius: 0.25em;\n",
       "  color: var(--sklearn-color-text);\n",
       "  /* unfitted */\n",
       "  background-color: var(--sklearn-color-unfitted-level-0);\n",
       "}\n",
       "\n",
       "#sk-container-id-1 div.sk-toggleable__content.fitted pre {\n",
       "  /* unfitted */\n",
       "  background-color: var(--sklearn-color-fitted-level-0);\n",
       "}\n",
       "\n",
       "#sk-container-id-1 input.sk-toggleable__control:checked~div.sk-toggleable__content {\n",
       "  /* Expand drop-down */\n",
       "  max-height: 200px;\n",
       "  max-width: 100%;\n",
       "  overflow: auto;\n",
       "}\n",
       "\n",
       "#sk-container-id-1 input.sk-toggleable__control:checked~label.sk-toggleable__label-arrow:before {\n",
       "  content: \"▾\";\n",
       "}\n",
       "\n",
       "/* Pipeline/ColumnTransformer-specific style */\n",
       "\n",
       "#sk-container-id-1 div.sk-label input.sk-toggleable__control:checked~label.sk-toggleable__label {\n",
       "  color: var(--sklearn-color-text);\n",
       "  background-color: var(--sklearn-color-unfitted-level-2);\n",
       "}\n",
       "\n",
       "#sk-container-id-1 div.sk-label.fitted input.sk-toggleable__control:checked~label.sk-toggleable__label {\n",
       "  background-color: var(--sklearn-color-fitted-level-2);\n",
       "}\n",
       "\n",
       "/* Estimator-specific style */\n",
       "\n",
       "/* Colorize estimator box */\n",
       "#sk-container-id-1 div.sk-estimator input.sk-toggleable__control:checked~label.sk-toggleable__label {\n",
       "  /* unfitted */\n",
       "  background-color: var(--sklearn-color-unfitted-level-2);\n",
       "}\n",
       "\n",
       "#sk-container-id-1 div.sk-estimator.fitted input.sk-toggleable__control:checked~label.sk-toggleable__label {\n",
       "  /* fitted */\n",
       "  background-color: var(--sklearn-color-fitted-level-2);\n",
       "}\n",
       "\n",
       "#sk-container-id-1 div.sk-label label.sk-toggleable__label,\n",
       "#sk-container-id-1 div.sk-label label {\n",
       "  /* The background is the default theme color */\n",
       "  color: var(--sklearn-color-text-on-default-background);\n",
       "}\n",
       "\n",
       "/* On hover, darken the color of the background */\n",
       "#sk-container-id-1 div.sk-label:hover label.sk-toggleable__label {\n",
       "  color: var(--sklearn-color-text);\n",
       "  background-color: var(--sklearn-color-unfitted-level-2);\n",
       "}\n",
       "\n",
       "/* Label box, darken color on hover, fitted */\n",
       "#sk-container-id-1 div.sk-label.fitted:hover label.sk-toggleable__label.fitted {\n",
       "  color: var(--sklearn-color-text);\n",
       "  background-color: var(--sklearn-color-fitted-level-2);\n",
       "}\n",
       "\n",
       "/* Estimator label */\n",
       "\n",
       "#sk-container-id-1 div.sk-label label {\n",
       "  font-family: monospace;\n",
       "  font-weight: bold;\n",
       "  display: inline-block;\n",
       "  line-height: 1.2em;\n",
       "}\n",
       "\n",
       "#sk-container-id-1 div.sk-label-container {\n",
       "  text-align: center;\n",
       "}\n",
       "\n",
       "/* Estimator-specific */\n",
       "#sk-container-id-1 div.sk-estimator {\n",
       "  font-family: monospace;\n",
       "  border: 1px dotted var(--sklearn-color-border-box);\n",
       "  border-radius: 0.25em;\n",
       "  box-sizing: border-box;\n",
       "  margin-bottom: 0.5em;\n",
       "  /* unfitted */\n",
       "  background-color: var(--sklearn-color-unfitted-level-0);\n",
       "}\n",
       "\n",
       "#sk-container-id-1 div.sk-estimator.fitted {\n",
       "  /* fitted */\n",
       "  background-color: var(--sklearn-color-fitted-level-0);\n",
       "}\n",
       "\n",
       "/* on hover */\n",
       "#sk-container-id-1 div.sk-estimator:hover {\n",
       "  /* unfitted */\n",
       "  background-color: var(--sklearn-color-unfitted-level-2);\n",
       "}\n",
       "\n",
       "#sk-container-id-1 div.sk-estimator.fitted:hover {\n",
       "  /* fitted */\n",
       "  background-color: var(--sklearn-color-fitted-level-2);\n",
       "}\n",
       "\n",
       "/* Specification for estimator info (e.g. \"i\" and \"?\") */\n",
       "\n",
       "/* Common style for \"i\" and \"?\" */\n",
       "\n",
       ".sk-estimator-doc-link,\n",
       "a:link.sk-estimator-doc-link,\n",
       "a:visited.sk-estimator-doc-link {\n",
       "  float: right;\n",
       "  font-size: smaller;\n",
       "  line-height: 1em;\n",
       "  font-family: monospace;\n",
       "  background-color: var(--sklearn-color-background);\n",
       "  border-radius: 1em;\n",
       "  height: 1em;\n",
       "  width: 1em;\n",
       "  text-decoration: none !important;\n",
       "  margin-left: 0.5em;\n",
       "  text-align: center;\n",
       "  /* unfitted */\n",
       "  border: var(--sklearn-color-unfitted-level-1) 1pt solid;\n",
       "  color: var(--sklearn-color-unfitted-level-1);\n",
       "}\n",
       "\n",
       ".sk-estimator-doc-link.fitted,\n",
       "a:link.sk-estimator-doc-link.fitted,\n",
       "a:visited.sk-estimator-doc-link.fitted {\n",
       "  /* fitted */\n",
       "  border: var(--sklearn-color-fitted-level-1) 1pt solid;\n",
       "  color: var(--sklearn-color-fitted-level-1);\n",
       "}\n",
       "\n",
       "/* On hover */\n",
       "div.sk-estimator:hover .sk-estimator-doc-link:hover,\n",
       ".sk-estimator-doc-link:hover,\n",
       "div.sk-label-container:hover .sk-estimator-doc-link:hover,\n",
       ".sk-estimator-doc-link:hover {\n",
       "  /* unfitted */\n",
       "  background-color: var(--sklearn-color-unfitted-level-3);\n",
       "  color: var(--sklearn-color-background);\n",
       "  text-decoration: none;\n",
       "}\n",
       "\n",
       "div.sk-estimator.fitted:hover .sk-estimator-doc-link.fitted:hover,\n",
       ".sk-estimator-doc-link.fitted:hover,\n",
       "div.sk-label-container:hover .sk-estimator-doc-link.fitted:hover,\n",
       ".sk-estimator-doc-link.fitted:hover {\n",
       "  /* fitted */\n",
       "  background-color: var(--sklearn-color-fitted-level-3);\n",
       "  color: var(--sklearn-color-background);\n",
       "  text-decoration: none;\n",
       "}\n",
       "\n",
       "/* Span, style for the box shown on hovering the info icon */\n",
       ".sk-estimator-doc-link span {\n",
       "  display: none;\n",
       "  z-index: 9999;\n",
       "  position: relative;\n",
       "  font-weight: normal;\n",
       "  right: .2ex;\n",
       "  padding: .5ex;\n",
       "  margin: .5ex;\n",
       "  width: min-content;\n",
       "  min-width: 20ex;\n",
       "  max-width: 50ex;\n",
       "  color: var(--sklearn-color-text);\n",
       "  box-shadow: 2pt 2pt 4pt #999;\n",
       "  /* unfitted */\n",
       "  background: var(--sklearn-color-unfitted-level-0);\n",
       "  border: .5pt solid var(--sklearn-color-unfitted-level-3);\n",
       "}\n",
       "\n",
       ".sk-estimator-doc-link.fitted span {\n",
       "  /* fitted */\n",
       "  background: var(--sklearn-color-fitted-level-0);\n",
       "  border: var(--sklearn-color-fitted-level-3);\n",
       "}\n",
       "\n",
       ".sk-estimator-doc-link:hover span {\n",
       "  display: block;\n",
       "}\n",
       "\n",
       "/* \"?\"-specific style due to the `<a>` HTML tag */\n",
       "\n",
       "#sk-container-id-1 a.estimator_doc_link {\n",
       "  float: right;\n",
       "  font-size: 1rem;\n",
       "  line-height: 1em;\n",
       "  font-family: monospace;\n",
       "  background-color: var(--sklearn-color-background);\n",
       "  border-radius: 1rem;\n",
       "  height: 1rem;\n",
       "  width: 1rem;\n",
       "  text-decoration: none;\n",
       "  /* unfitted */\n",
       "  color: var(--sklearn-color-unfitted-level-1);\n",
       "  border: var(--sklearn-color-unfitted-level-1) 1pt solid;\n",
       "}\n",
       "\n",
       "#sk-container-id-1 a.estimator_doc_link.fitted {\n",
       "  /* fitted */\n",
       "  border: var(--sklearn-color-fitted-level-1) 1pt solid;\n",
       "  color: var(--sklearn-color-fitted-level-1);\n",
       "}\n",
       "\n",
       "/* On hover */\n",
       "#sk-container-id-1 a.estimator_doc_link:hover {\n",
       "  /* unfitted */\n",
       "  background-color: var(--sklearn-color-unfitted-level-3);\n",
       "  color: var(--sklearn-color-background);\n",
       "  text-decoration: none;\n",
       "}\n",
       "\n",
       "#sk-container-id-1 a.estimator_doc_link.fitted:hover {\n",
       "  /* fitted */\n",
       "  background-color: var(--sklearn-color-fitted-level-3);\n",
       "}\n",
       "</style><div id=\"sk-container-id-1\" class=\"sk-top-container\"><div class=\"sk-text-repr-fallback\"><pre>RandomForestRegressor()</pre><b>In a Jupyter environment, please rerun this cell to show the HTML representation or trust the notebook. <br />On GitHub, the HTML representation is unable to render, please try loading this page with nbviewer.org.</b></div><div class=\"sk-container\" hidden><div class=\"sk-item\"><div class=\"sk-estimator fitted sk-toggleable\"><input class=\"sk-toggleable__control sk-hidden--visually\" id=\"sk-estimator-id-1\" type=\"checkbox\" checked><label for=\"sk-estimator-id-1\" class=\"sk-toggleable__label fitted sk-toggleable__label-arrow\"><div><div>RandomForestRegressor</div></div><div><a class=\"sk-estimator-doc-link fitted\" rel=\"noreferrer\" target=\"_blank\" href=\"https://scikit-learn.org/1.6/modules/generated/sklearn.ensemble.RandomForestRegressor.html\">?<span>Documentation for RandomForestRegressor</span></a><span class=\"sk-estimator-doc-link fitted\">i<span>Fitted</span></span></div></label><div class=\"sk-toggleable__content fitted\"><pre>RandomForestRegressor()</pre></div> </div></div></div></div>"
      ],
      "text/plain": [
       "RandomForestRegressor()"
      ]
     },
     "execution_count": 11,
     "metadata": {},
     "output_type": "execute_result"
    }
   ],
   "source": [
    "rfr_model = RandomForestRegressor(\n",
    "    n_estimators=100,\n",
    "    \n",
    ")\n",
    "rfr_model.fit(X_train, Y_train)"
   ]
  },
  {
   "cell_type": "code",
   "execution_count": 12,
   "id": "f8d035ba",
   "metadata": {},
   "outputs": [],
   "source": [
    "Y_pred = rfr_model.predict(X_test)"
   ]
  },
  {
   "cell_type": "markdown",
   "id": "16067f84",
   "metadata": {},
   "source": [
    "## Import performance assessment modules"
   ]
  },
  {
   "cell_type": "code",
   "execution_count": 13,
   "id": "f96ea84b",
   "metadata": {},
   "outputs": [],
   "source": [
    "from sklearn.metrics import mean_squared_error, r2_score"
   ]
  },
  {
   "cell_type": "code",
   "execution_count": 14,
   "id": "1ee98cfa",
   "metadata": {},
   "outputs": [
    {
     "name": "stdout",
     "output_type": "stream",
     "text": [
      "Mean squared error: 0.01694\n",
      "Coefficient of determination: 0.98231\n"
     ]
    }
   ],
   "source": [
    "print(\"Mean squared error: %.5f\" % mean_squared_error(Y_test, Y_pred))\n",
    "print(\"Coefficient of determination: %.5f\" % r2_score(Y_test, Y_pred))"
   ]
  },
  {
   "cell_type": "markdown",
   "id": "52d4c4e6",
   "metadata": {},
   "source": [
    "## Hyperparameter Tuning"
   ]
  },
  {
   "cell_type": "code",
   "execution_count": 15,
   "id": "730406b7",
   "metadata": {},
   "outputs": [],
   "source": [
    "param_grid = {\n",
    "    'n_estimators': [100, 200, 300],  # Number of trees in the forest\n",
    "    'max_depth': [ 10, 20, 30],  # Maximum depth of the tree\n",
    "    'min_samples_split': [2, 5, 10],  # Minimum number of samples required to split an internal node\n",
    "    'min_samples_leaf': [1, 2, 4],  # Minimum number of samples required to be at a leaf node\n",
    "}"
   ]
  },
  {
   "cell_type": "code",
   "execution_count": 16,
   "id": "12d1bf86",
   "metadata": {},
   "outputs": [],
   "source": [
    "from sklearn.model_selection import GridSearchCV"
   ]
  },
  {
   "cell_type": "code",
   "execution_count": 17,
   "id": "829df53c",
   "metadata": {},
   "outputs": [],
   "source": [
    "rfr_modelCV = GridSearchCV(estimator=rfr_model, param_grid = param_grid, cv = 3, scoring='neg_mean_squared_error', n_jobs=-1)"
   ]
  },
  {
   "cell_type": "code",
   "execution_count": 18,
   "id": "332a627a",
   "metadata": {},
   "outputs": [
    {
     "data": {
      "text/html": [
       "<style>#sk-container-id-2 {\n",
       "  /* Definition of color scheme common for light and dark mode */\n",
       "  --sklearn-color-text: #000;\n",
       "  --sklearn-color-text-muted: #666;\n",
       "  --sklearn-color-line: gray;\n",
       "  /* Definition of color scheme for unfitted estimators */\n",
       "  --sklearn-color-unfitted-level-0: #fff5e6;\n",
       "  --sklearn-color-unfitted-level-1: #f6e4d2;\n",
       "  --sklearn-color-unfitted-level-2: #ffe0b3;\n",
       "  --sklearn-color-unfitted-level-3: chocolate;\n",
       "  /* Definition of color scheme for fitted estimators */\n",
       "  --sklearn-color-fitted-level-0: #f0f8ff;\n",
       "  --sklearn-color-fitted-level-1: #d4ebff;\n",
       "  --sklearn-color-fitted-level-2: #b3dbfd;\n",
       "  --sklearn-color-fitted-level-3: cornflowerblue;\n",
       "\n",
       "  /* Specific color for light theme */\n",
       "  --sklearn-color-text-on-default-background: var(--sg-text-color, var(--theme-code-foreground, var(--jp-content-font-color1, black)));\n",
       "  --sklearn-color-background: var(--sg-background-color, var(--theme-background, var(--jp-layout-color0, white)));\n",
       "  --sklearn-color-border-box: var(--sg-text-color, var(--theme-code-foreground, var(--jp-content-font-color1, black)));\n",
       "  --sklearn-color-icon: #696969;\n",
       "\n",
       "  @media (prefers-color-scheme: dark) {\n",
       "    /* Redefinition of color scheme for dark theme */\n",
       "    --sklearn-color-text-on-default-background: var(--sg-text-color, var(--theme-code-foreground, var(--jp-content-font-color1, white)));\n",
       "    --sklearn-color-background: var(--sg-background-color, var(--theme-background, var(--jp-layout-color0, #111)));\n",
       "    --sklearn-color-border-box: var(--sg-text-color, var(--theme-code-foreground, var(--jp-content-font-color1, white)));\n",
       "    --sklearn-color-icon: #878787;\n",
       "  }\n",
       "}\n",
       "\n",
       "#sk-container-id-2 {\n",
       "  color: var(--sklearn-color-text);\n",
       "}\n",
       "\n",
       "#sk-container-id-2 pre {\n",
       "  padding: 0;\n",
       "}\n",
       "\n",
       "#sk-container-id-2 input.sk-hidden--visually {\n",
       "  border: 0;\n",
       "  clip: rect(1px 1px 1px 1px);\n",
       "  clip: rect(1px, 1px, 1px, 1px);\n",
       "  height: 1px;\n",
       "  margin: -1px;\n",
       "  overflow: hidden;\n",
       "  padding: 0;\n",
       "  position: absolute;\n",
       "  width: 1px;\n",
       "}\n",
       "\n",
       "#sk-container-id-2 div.sk-dashed-wrapped {\n",
       "  border: 1px dashed var(--sklearn-color-line);\n",
       "  margin: 0 0.4em 0.5em 0.4em;\n",
       "  box-sizing: border-box;\n",
       "  padding-bottom: 0.4em;\n",
       "  background-color: var(--sklearn-color-background);\n",
       "}\n",
       "\n",
       "#sk-container-id-2 div.sk-container {\n",
       "  /* jupyter's `normalize.less` sets `[hidden] { display: none; }`\n",
       "     but bootstrap.min.css set `[hidden] { display: none !important; }`\n",
       "     so we also need the `!important` here to be able to override the\n",
       "     default hidden behavior on the sphinx rendered scikit-learn.org.\n",
       "     See: https://github.com/scikit-learn/scikit-learn/issues/21755 */\n",
       "  display: inline-block !important;\n",
       "  position: relative;\n",
       "}\n",
       "\n",
       "#sk-container-id-2 div.sk-text-repr-fallback {\n",
       "  display: none;\n",
       "}\n",
       "\n",
       "div.sk-parallel-item,\n",
       "div.sk-serial,\n",
       "div.sk-item {\n",
       "  /* draw centered vertical line to link estimators */\n",
       "  background-image: linear-gradient(var(--sklearn-color-text-on-default-background), var(--sklearn-color-text-on-default-background));\n",
       "  background-size: 2px 100%;\n",
       "  background-repeat: no-repeat;\n",
       "  background-position: center center;\n",
       "}\n",
       "\n",
       "/* Parallel-specific style estimator block */\n",
       "\n",
       "#sk-container-id-2 div.sk-parallel-item::after {\n",
       "  content: \"\";\n",
       "  width: 100%;\n",
       "  border-bottom: 2px solid var(--sklearn-color-text-on-default-background);\n",
       "  flex-grow: 1;\n",
       "}\n",
       "\n",
       "#sk-container-id-2 div.sk-parallel {\n",
       "  display: flex;\n",
       "  align-items: stretch;\n",
       "  justify-content: center;\n",
       "  background-color: var(--sklearn-color-background);\n",
       "  position: relative;\n",
       "}\n",
       "\n",
       "#sk-container-id-2 div.sk-parallel-item {\n",
       "  display: flex;\n",
       "  flex-direction: column;\n",
       "}\n",
       "\n",
       "#sk-container-id-2 div.sk-parallel-item:first-child::after {\n",
       "  align-self: flex-end;\n",
       "  width: 50%;\n",
       "}\n",
       "\n",
       "#sk-container-id-2 div.sk-parallel-item:last-child::after {\n",
       "  align-self: flex-start;\n",
       "  width: 50%;\n",
       "}\n",
       "\n",
       "#sk-container-id-2 div.sk-parallel-item:only-child::after {\n",
       "  width: 0;\n",
       "}\n",
       "\n",
       "/* Serial-specific style estimator block */\n",
       "\n",
       "#sk-container-id-2 div.sk-serial {\n",
       "  display: flex;\n",
       "  flex-direction: column;\n",
       "  align-items: center;\n",
       "  background-color: var(--sklearn-color-background);\n",
       "  padding-right: 1em;\n",
       "  padding-left: 1em;\n",
       "}\n",
       "\n",
       "\n",
       "/* Toggleable style: style used for estimator/Pipeline/ColumnTransformer box that is\n",
       "clickable and can be expanded/collapsed.\n",
       "- Pipeline and ColumnTransformer use this feature and define the default style\n",
       "- Estimators will overwrite some part of the style using the `sk-estimator` class\n",
       "*/\n",
       "\n",
       "/* Pipeline and ColumnTransformer style (default) */\n",
       "\n",
       "#sk-container-id-2 div.sk-toggleable {\n",
       "  /* Default theme specific background. It is overwritten whether we have a\n",
       "  specific estimator or a Pipeline/ColumnTransformer */\n",
       "  background-color: var(--sklearn-color-background);\n",
       "}\n",
       "\n",
       "/* Toggleable label */\n",
       "#sk-container-id-2 label.sk-toggleable__label {\n",
       "  cursor: pointer;\n",
       "  display: flex;\n",
       "  width: 100%;\n",
       "  margin-bottom: 0;\n",
       "  padding: 0.5em;\n",
       "  box-sizing: border-box;\n",
       "  text-align: center;\n",
       "  align-items: start;\n",
       "  justify-content: space-between;\n",
       "  gap: 0.5em;\n",
       "}\n",
       "\n",
       "#sk-container-id-2 label.sk-toggleable__label .caption {\n",
       "  font-size: 0.6rem;\n",
       "  font-weight: lighter;\n",
       "  color: var(--sklearn-color-text-muted);\n",
       "}\n",
       "\n",
       "#sk-container-id-2 label.sk-toggleable__label-arrow:before {\n",
       "  /* Arrow on the left of the label */\n",
       "  content: \"▸\";\n",
       "  float: left;\n",
       "  margin-right: 0.25em;\n",
       "  color: var(--sklearn-color-icon);\n",
       "}\n",
       "\n",
       "#sk-container-id-2 label.sk-toggleable__label-arrow:hover:before {\n",
       "  color: var(--sklearn-color-text);\n",
       "}\n",
       "\n",
       "/* Toggleable content - dropdown */\n",
       "\n",
       "#sk-container-id-2 div.sk-toggleable__content {\n",
       "  max-height: 0;\n",
       "  max-width: 0;\n",
       "  overflow: hidden;\n",
       "  text-align: left;\n",
       "  /* unfitted */\n",
       "  background-color: var(--sklearn-color-unfitted-level-0);\n",
       "}\n",
       "\n",
       "#sk-container-id-2 div.sk-toggleable__content.fitted {\n",
       "  /* fitted */\n",
       "  background-color: var(--sklearn-color-fitted-level-0);\n",
       "}\n",
       "\n",
       "#sk-container-id-2 div.sk-toggleable__content pre {\n",
       "  margin: 0.2em;\n",
       "  border-radius: 0.25em;\n",
       "  color: var(--sklearn-color-text);\n",
       "  /* unfitted */\n",
       "  background-color: var(--sklearn-color-unfitted-level-0);\n",
       "}\n",
       "\n",
       "#sk-container-id-2 div.sk-toggleable__content.fitted pre {\n",
       "  /* unfitted */\n",
       "  background-color: var(--sklearn-color-fitted-level-0);\n",
       "}\n",
       "\n",
       "#sk-container-id-2 input.sk-toggleable__control:checked~div.sk-toggleable__content {\n",
       "  /* Expand drop-down */\n",
       "  max-height: 200px;\n",
       "  max-width: 100%;\n",
       "  overflow: auto;\n",
       "}\n",
       "\n",
       "#sk-container-id-2 input.sk-toggleable__control:checked~label.sk-toggleable__label-arrow:before {\n",
       "  content: \"▾\";\n",
       "}\n",
       "\n",
       "/* Pipeline/ColumnTransformer-specific style */\n",
       "\n",
       "#sk-container-id-2 div.sk-label input.sk-toggleable__control:checked~label.sk-toggleable__label {\n",
       "  color: var(--sklearn-color-text);\n",
       "  background-color: var(--sklearn-color-unfitted-level-2);\n",
       "}\n",
       "\n",
       "#sk-container-id-2 div.sk-label.fitted input.sk-toggleable__control:checked~label.sk-toggleable__label {\n",
       "  background-color: var(--sklearn-color-fitted-level-2);\n",
       "}\n",
       "\n",
       "/* Estimator-specific style */\n",
       "\n",
       "/* Colorize estimator box */\n",
       "#sk-container-id-2 div.sk-estimator input.sk-toggleable__control:checked~label.sk-toggleable__label {\n",
       "  /* unfitted */\n",
       "  background-color: var(--sklearn-color-unfitted-level-2);\n",
       "}\n",
       "\n",
       "#sk-container-id-2 div.sk-estimator.fitted input.sk-toggleable__control:checked~label.sk-toggleable__label {\n",
       "  /* fitted */\n",
       "  background-color: var(--sklearn-color-fitted-level-2);\n",
       "}\n",
       "\n",
       "#sk-container-id-2 div.sk-label label.sk-toggleable__label,\n",
       "#sk-container-id-2 div.sk-label label {\n",
       "  /* The background is the default theme color */\n",
       "  color: var(--sklearn-color-text-on-default-background);\n",
       "}\n",
       "\n",
       "/* On hover, darken the color of the background */\n",
       "#sk-container-id-2 div.sk-label:hover label.sk-toggleable__label {\n",
       "  color: var(--sklearn-color-text);\n",
       "  background-color: var(--sklearn-color-unfitted-level-2);\n",
       "}\n",
       "\n",
       "/* Label box, darken color on hover, fitted */\n",
       "#sk-container-id-2 div.sk-label.fitted:hover label.sk-toggleable__label.fitted {\n",
       "  color: var(--sklearn-color-text);\n",
       "  background-color: var(--sklearn-color-fitted-level-2);\n",
       "}\n",
       "\n",
       "/* Estimator label */\n",
       "\n",
       "#sk-container-id-2 div.sk-label label {\n",
       "  font-family: monospace;\n",
       "  font-weight: bold;\n",
       "  display: inline-block;\n",
       "  line-height: 1.2em;\n",
       "}\n",
       "\n",
       "#sk-container-id-2 div.sk-label-container {\n",
       "  text-align: center;\n",
       "}\n",
       "\n",
       "/* Estimator-specific */\n",
       "#sk-container-id-2 div.sk-estimator {\n",
       "  font-family: monospace;\n",
       "  border: 1px dotted var(--sklearn-color-border-box);\n",
       "  border-radius: 0.25em;\n",
       "  box-sizing: border-box;\n",
       "  margin-bottom: 0.5em;\n",
       "  /* unfitted */\n",
       "  background-color: var(--sklearn-color-unfitted-level-0);\n",
       "}\n",
       "\n",
       "#sk-container-id-2 div.sk-estimator.fitted {\n",
       "  /* fitted */\n",
       "  background-color: var(--sklearn-color-fitted-level-0);\n",
       "}\n",
       "\n",
       "/* on hover */\n",
       "#sk-container-id-2 div.sk-estimator:hover {\n",
       "  /* unfitted */\n",
       "  background-color: var(--sklearn-color-unfitted-level-2);\n",
       "}\n",
       "\n",
       "#sk-container-id-2 div.sk-estimator.fitted:hover {\n",
       "  /* fitted */\n",
       "  background-color: var(--sklearn-color-fitted-level-2);\n",
       "}\n",
       "\n",
       "/* Specification for estimator info (e.g. \"i\" and \"?\") */\n",
       "\n",
       "/* Common style for \"i\" and \"?\" */\n",
       "\n",
       ".sk-estimator-doc-link,\n",
       "a:link.sk-estimator-doc-link,\n",
       "a:visited.sk-estimator-doc-link {\n",
       "  float: right;\n",
       "  font-size: smaller;\n",
       "  line-height: 1em;\n",
       "  font-family: monospace;\n",
       "  background-color: var(--sklearn-color-background);\n",
       "  border-radius: 1em;\n",
       "  height: 1em;\n",
       "  width: 1em;\n",
       "  text-decoration: none !important;\n",
       "  margin-left: 0.5em;\n",
       "  text-align: center;\n",
       "  /* unfitted */\n",
       "  border: var(--sklearn-color-unfitted-level-1) 1pt solid;\n",
       "  color: var(--sklearn-color-unfitted-level-1);\n",
       "}\n",
       "\n",
       ".sk-estimator-doc-link.fitted,\n",
       "a:link.sk-estimator-doc-link.fitted,\n",
       "a:visited.sk-estimator-doc-link.fitted {\n",
       "  /* fitted */\n",
       "  border: var(--sklearn-color-fitted-level-1) 1pt solid;\n",
       "  color: var(--sklearn-color-fitted-level-1);\n",
       "}\n",
       "\n",
       "/* On hover */\n",
       "div.sk-estimator:hover .sk-estimator-doc-link:hover,\n",
       ".sk-estimator-doc-link:hover,\n",
       "div.sk-label-container:hover .sk-estimator-doc-link:hover,\n",
       ".sk-estimator-doc-link:hover {\n",
       "  /* unfitted */\n",
       "  background-color: var(--sklearn-color-unfitted-level-3);\n",
       "  color: var(--sklearn-color-background);\n",
       "  text-decoration: none;\n",
       "}\n",
       "\n",
       "div.sk-estimator.fitted:hover .sk-estimator-doc-link.fitted:hover,\n",
       ".sk-estimator-doc-link.fitted:hover,\n",
       "div.sk-label-container:hover .sk-estimator-doc-link.fitted:hover,\n",
       ".sk-estimator-doc-link.fitted:hover {\n",
       "  /* fitted */\n",
       "  background-color: var(--sklearn-color-fitted-level-3);\n",
       "  color: var(--sklearn-color-background);\n",
       "  text-decoration: none;\n",
       "}\n",
       "\n",
       "/* Span, style for the box shown on hovering the info icon */\n",
       ".sk-estimator-doc-link span {\n",
       "  display: none;\n",
       "  z-index: 9999;\n",
       "  position: relative;\n",
       "  font-weight: normal;\n",
       "  right: .2ex;\n",
       "  padding: .5ex;\n",
       "  margin: .5ex;\n",
       "  width: min-content;\n",
       "  min-width: 20ex;\n",
       "  max-width: 50ex;\n",
       "  color: var(--sklearn-color-text);\n",
       "  box-shadow: 2pt 2pt 4pt #999;\n",
       "  /* unfitted */\n",
       "  background: var(--sklearn-color-unfitted-level-0);\n",
       "  border: .5pt solid var(--sklearn-color-unfitted-level-3);\n",
       "}\n",
       "\n",
       ".sk-estimator-doc-link.fitted span {\n",
       "  /* fitted */\n",
       "  background: var(--sklearn-color-fitted-level-0);\n",
       "  border: var(--sklearn-color-fitted-level-3);\n",
       "}\n",
       "\n",
       ".sk-estimator-doc-link:hover span {\n",
       "  display: block;\n",
       "}\n",
       "\n",
       "/* \"?\"-specific style due to the `<a>` HTML tag */\n",
       "\n",
       "#sk-container-id-2 a.estimator_doc_link {\n",
       "  float: right;\n",
       "  font-size: 1rem;\n",
       "  line-height: 1em;\n",
       "  font-family: monospace;\n",
       "  background-color: var(--sklearn-color-background);\n",
       "  border-radius: 1rem;\n",
       "  height: 1rem;\n",
       "  width: 1rem;\n",
       "  text-decoration: none;\n",
       "  /* unfitted */\n",
       "  color: var(--sklearn-color-unfitted-level-1);\n",
       "  border: var(--sklearn-color-unfitted-level-1) 1pt solid;\n",
       "}\n",
       "\n",
       "#sk-container-id-2 a.estimator_doc_link.fitted {\n",
       "  /* fitted */\n",
       "  border: var(--sklearn-color-fitted-level-1) 1pt solid;\n",
       "  color: var(--sklearn-color-fitted-level-1);\n",
       "}\n",
       "\n",
       "/* On hover */\n",
       "#sk-container-id-2 a.estimator_doc_link:hover {\n",
       "  /* unfitted */\n",
       "  background-color: var(--sklearn-color-unfitted-level-3);\n",
       "  color: var(--sklearn-color-background);\n",
       "  text-decoration: none;\n",
       "}\n",
       "\n",
       "#sk-container-id-2 a.estimator_doc_link.fitted:hover {\n",
       "  /* fitted */\n",
       "  background-color: var(--sklearn-color-fitted-level-3);\n",
       "}\n",
       "</style><div id=\"sk-container-id-2\" class=\"sk-top-container\"><div class=\"sk-text-repr-fallback\"><pre>GridSearchCV(cv=3, estimator=RandomForestRegressor(), n_jobs=-1,\n",
       "             param_grid={&#x27;max_depth&#x27;: [10, 20, 30],\n",
       "                         &#x27;min_samples_leaf&#x27;: [1, 2, 4],\n",
       "                         &#x27;min_samples_split&#x27;: [2, 5, 10],\n",
       "                         &#x27;n_estimators&#x27;: [100, 200, 300]},\n",
       "             scoring=&#x27;neg_mean_squared_error&#x27;)</pre><b>In a Jupyter environment, please rerun this cell to show the HTML representation or trust the notebook. <br />On GitHub, the HTML representation is unable to render, please try loading this page with nbviewer.org.</b></div><div class=\"sk-container\" hidden><div class=\"sk-item sk-dashed-wrapped\"><div class=\"sk-label-container\"><div class=\"sk-label fitted sk-toggleable\"><input class=\"sk-toggleable__control sk-hidden--visually\" id=\"sk-estimator-id-2\" type=\"checkbox\" ><label for=\"sk-estimator-id-2\" class=\"sk-toggleable__label fitted sk-toggleable__label-arrow\"><div><div>GridSearchCV</div></div><div><a class=\"sk-estimator-doc-link fitted\" rel=\"noreferrer\" target=\"_blank\" href=\"https://scikit-learn.org/1.6/modules/generated/sklearn.model_selection.GridSearchCV.html\">?<span>Documentation for GridSearchCV</span></a><span class=\"sk-estimator-doc-link fitted\">i<span>Fitted</span></span></div></label><div class=\"sk-toggleable__content fitted\"><pre>GridSearchCV(cv=3, estimator=RandomForestRegressor(), n_jobs=-1,\n",
       "             param_grid={&#x27;max_depth&#x27;: [10, 20, 30],\n",
       "                         &#x27;min_samples_leaf&#x27;: [1, 2, 4],\n",
       "                         &#x27;min_samples_split&#x27;: [2, 5, 10],\n",
       "                         &#x27;n_estimators&#x27;: [100, 200, 300]},\n",
       "             scoring=&#x27;neg_mean_squared_error&#x27;)</pre></div> </div></div><div class=\"sk-parallel\"><div class=\"sk-parallel-item\"><div class=\"sk-item\"><div class=\"sk-label-container\"><div class=\"sk-label fitted sk-toggleable\"><input class=\"sk-toggleable__control sk-hidden--visually\" id=\"sk-estimator-id-3\" type=\"checkbox\" ><label for=\"sk-estimator-id-3\" class=\"sk-toggleable__label fitted sk-toggleable__label-arrow\"><div><div>best_estimator_: RandomForestRegressor</div></div></label><div class=\"sk-toggleable__content fitted\"><pre>RandomForestRegressor(max_depth=20)</pre></div> </div></div><div class=\"sk-serial\"><div class=\"sk-item\"><div class=\"sk-estimator fitted sk-toggleable\"><input class=\"sk-toggleable__control sk-hidden--visually\" id=\"sk-estimator-id-4\" type=\"checkbox\" ><label for=\"sk-estimator-id-4\" class=\"sk-toggleable__label fitted sk-toggleable__label-arrow\"><div><div>RandomForestRegressor</div></div><div><a class=\"sk-estimator-doc-link fitted\" rel=\"noreferrer\" target=\"_blank\" href=\"https://scikit-learn.org/1.6/modules/generated/sklearn.ensemble.RandomForestRegressor.html\">?<span>Documentation for RandomForestRegressor</span></a></div></label><div class=\"sk-toggleable__content fitted\"><pre>RandomForestRegressor(max_depth=20)</pre></div> </div></div></div></div></div></div></div></div></div>"
      ],
      "text/plain": [
       "GridSearchCV(cv=3, estimator=RandomForestRegressor(), n_jobs=-1,\n",
       "             param_grid={'max_depth': [10, 20, 30],\n",
       "                         'min_samples_leaf': [1, 2, 4],\n",
       "                         'min_samples_split': [2, 5, 10],\n",
       "                         'n_estimators': [100, 200, 300]},\n",
       "             scoring='neg_mean_squared_error')"
      ]
     },
     "execution_count": 18,
     "metadata": {},
     "output_type": "execute_result"
    }
   ],
   "source": [
    "rfr_modelCV.fit(X_train, Y_train)"
   ]
  },
  {
   "cell_type": "code",
   "execution_count": 36,
   "id": "658104f1",
   "metadata": {},
   "outputs": [
    {
     "data": {
      "application/vnd.microsoft.datawrangler.viewer.v0+json": {
       "columns": [
        {
         "name": "index",
         "rawType": "int64",
         "type": "integer"
        },
        {
         "name": "BMI",
         "rawType": "float64",
         "type": "float"
        }
       ],
       "ref": "822408b1-b0da-4603-a7d7-153cbc638a5b",
       "rows": [
        [
         "778",
         "-1.715581435773326"
        ],
        [
         "334",
         "-0.7742231275828686"
        ],
        [
         "271",
         "-0.1255910871552659"
        ],
        [
         "802",
         "-0.4384934241414997"
        ],
        [
         "216",
         "0.3867910371093356"
        ],
        [
         "408",
         "0.5992647619194716"
        ],
        [
         "812",
         "0.0302089077580326"
        ],
        [
         "94",
         "-0.3678102167323892"
        ],
        [
         "487",
         "0.3671780867308232"
        ],
        [
         "170",
         "-1.5866106280846606"
        ],
        [
         "24",
         "0.261460683327964"
        ],
        [
         "242",
         "-0.2358566963081636"
        ],
        [
         "542",
         "2.0497466485211726"
        ],
        [
         "930",
         "0.1531715575588221"
        ],
        [
         "886",
         "1.0883035627405468"
        ],
        [
         "426",
         "0.4816096183982392"
        ],
        [
         "125",
         "-0.6256692366496548"
        ],
        [
         "453",
         "-0.2638418065082775"
        ],
        [
         "650",
         "-0.1314792022497616"
        ],
        [
         "913",
         "0.8786769799490706"
        ],
        [
         "168",
         "1.4067101542917495"
        ],
        [
         "776",
         "0.4963403078524773"
        ],
        [
         "572",
         "0.1529635040569011"
        ],
        [
         "848",
         "-0.9937382163370976"
        ],
        [
         "875",
         "-0.4213457785528066"
        ],
        [
         "590",
         "-0.930674041488482"
        ],
        [
         "25",
         "1.3218128862980982"
        ],
        [
         "484",
         "0.2418228044302179"
        ],
        [
         "705",
         "-0.7675581990184815"
        ],
        [
         "889",
         "0.4018899404896895"
        ],
        [
         "681",
         "1.7782957281947442"
        ],
        [
         "13",
         "0.7013832570329027"
        ],
        [
         "879",
         "-0.473452930287136"
        ],
        [
         "277",
         "1.899643020285824"
        ],
        [
         "316",
         "-0.4956522446846692"
        ],
        [
         "299",
         "-1.5482010707714735"
        ],
        [
         "113",
         "-0.9958334944612086"
        ],
        [
         "962",
         "-0.8172686237968292"
        ],
        [
         "569",
         "-1.5398763733344532"
        ],
        [
         "60",
         "-1.1546048490387653"
        ],
        [
         "713",
         "-1.2633642094120232"
        ],
        [
         "907",
         "0.4819652120581097"
        ],
        [
         "715",
         "-0.110939664381629"
        ],
        [
         "725",
         "-0.8279295654729287"
        ],
        [
         "707",
         "0.067565341849784"
        ],
        [
         "758",
         "-2.0692593170233238"
        ],
        [
         "339",
         "-1.137608018790116"
        ],
        [
         "733",
         "-1.080950245595753"
        ],
        [
         "979",
         "0.056794092959574"
        ],
        [
         "99",
         "-0.6166196271380052"
        ]
       ],
       "shape": {
        "columns": 1,
        "rows": 200
       }
      },
      "text/plain": [
       "778   -1.715581\n",
       "334   -0.774223\n",
       "271   -0.125591\n",
       "802   -0.438493\n",
       "216    0.386791\n",
       "         ...   \n",
       "371   -0.877678\n",
       "411    0.634275\n",
       "644   -0.169328\n",
       "981    1.095105\n",
       "365    0.805798\n",
       "Name: BMI, Length: 200, dtype: float64"
      ]
     },
     "execution_count": 36,
     "metadata": {},
     "output_type": "execute_result"
    }
   ],
   "source": [
    "Y_test"
   ]
  },
  {
   "cell_type": "code",
   "execution_count": null,
   "id": "481b3262",
   "metadata": {},
   "outputs": [
    {
     "data": {
      "text/plain": [
       "array([-1.66807146, -0.84605326, -0.11099898, -0.51454871,  0.28402293,\n",
       "        0.64920033,  0.09585329, -0.35321353,  0.41289454, -1.69529096,\n",
       "        0.27162177, -0.28294496,  1.98838862,  0.13763396,  0.91224446,\n",
       "        0.51447566, -0.76867405, -0.24122011, -0.18550268,  1.15042874,\n",
       "        1.43436685,  0.48625659,  0.21871627, -0.91126611, -0.50631163,\n",
       "       -0.95030834,  1.43419841,  0.19211592, -0.78297707,  0.3826892 ,\n",
       "        1.59271668,  0.62024273, -0.28684585,  1.51127598, -0.60541789,\n",
       "       -1.64768591, -0.93137279, -0.74671898, -1.7780027 , -1.21840287,\n",
       "       -1.2158784 ,  0.52653324, -0.17071167, -0.83882122,  0.15899215,\n",
       "       -1.62425037, -1.34993247, -1.04152054,  0.17150263, -0.49662561,\n",
       "       -1.2803041 , -0.10032146,  0.553681  ,  0.60544674,  0.93984441,\n",
       "        0.05573298,  0.98972757,  0.60461295, -1.49624971,  1.58575724,\n",
       "        2.06938773,  1.15461873,  1.53370858,  0.61773682, -0.20386917,\n",
       "       -0.50583922,  0.20894229, -0.77807286,  0.34527292, -0.94782168,\n",
       "        0.13985866, -0.72722233,  1.47939274, -0.45305646, -1.22373856,\n",
       "       -0.13168357,  2.07611119,  1.57506698,  0.07507926, -2.73559363,\n",
       "       -0.33665817, -1.44780528,  0.47571946,  1.47544754, -0.19807981,\n",
       "        0.46481914, -0.13670421, -2.64520974,  1.5036049 ,  0.24417057,\n",
       "        0.72809305, -0.27525089,  0.55190427,  0.66648616, -0.70993231,\n",
       "        0.13738373,  1.22824156,  1.22412265, -0.31519631, -0.58505094,\n",
       "        1.04927789, -0.90408995,  0.34354898,  2.0530693 ,  0.40165829,\n",
       "       -1.15503974, -0.32060059,  0.5884377 ,  0.17492033, -0.76635541,\n",
       "       -0.93372242, -0.81369849, -0.62144699, -0.20786384, -0.94565141,\n",
       "        0.2778726 ,  0.49097178,  1.52621329,  0.67944681, -0.67985345,\n",
       "        0.6885795 , -1.4953582 ,  0.23236773,  0.7792396 ,  0.66222932,\n",
       "        1.62573665, -0.76279767, -0.46914034, -0.03053161,  1.51683982,\n",
       "       -1.26617436,  1.09518957, -0.79335843, -0.62990303, -0.70007736,\n",
       "       -0.59269754,  0.60520675, -1.67879878, -0.47440696, -0.77449399,\n",
       "        1.12248413,  0.18231118,  1.04459484, -1.2915252 ,  0.47104175,\n",
       "       -1.20753604, -0.59097623,  1.01162616,  0.55711233,  1.00149271,\n",
       "        0.97738926,  1.1667136 ,  0.69394299,  0.58276119, -0.1424623 ,\n",
       "       -0.73328911, -0.60138488, -0.529583  ,  0.93964377, -1.98546202,\n",
       "        1.40587695, -0.76532112,  2.0191473 , -0.24109735,  0.41709648,\n",
       "       -0.96397088, -0.1720225 ,  0.05775233,  1.51756477,  1.51286129,\n",
       "       -1.55357402, -0.78695204, -0.92367608,  0.55325304,  1.38243908,\n",
       "        0.41062037,  0.45528808,  0.07444076, -0.35712949,  1.47977572,\n",
       "       -1.38602383,  0.33263928, -0.23199073, -0.61923381, -1.23058474,\n",
       "       -0.67736047, -0.77754679, -1.33985378, -0.77286304,  0.8527302 ,\n",
       "        1.4008868 ,  0.47098341,  0.55296179,  0.18299815,  0.20235482,\n",
       "       -0.85585691,  0.62531908, -0.16316481,  1.11226404,  0.82856848])"
      ]
     },
     "execution_count": 35,
     "metadata": {},
     "output_type": "execute_result"
    }
   ],
   "source": [
    "Y_predCV = rfr_modelCV.predict(X_test)\n"
   ]
  },
  {
   "cell_type": "code",
   "execution_count": 20,
   "id": "e460d505",
   "metadata": {},
   "outputs": [
    {
     "name": "stdout",
     "output_type": "stream",
     "text": [
      "Mean squared error: 0.01602\n",
      "Coefficient of determination: 0.98327\n"
     ]
    }
   ],
   "source": [
    "print(\"Mean squared error: %.5f\" % mean_squared_error(Y_test, Y_predCV))\n",
    "print(\"Coefficient of determination: %.5f\" % r2_score(Y_test, Y_predCV))"
   ]
  },
  {
   "cell_type": "markdown",
   "id": "e671c8ee",
   "metadata": {},
   "source": [
    "## Predicted vs Actual Plot"
   ]
  },
  {
   "cell_type": "code",
   "execution_count": 21,
   "id": "0a684fa2",
   "metadata": {},
   "outputs": [
    {
     "data": {
      "image/png": "[encoded data removed]",
      "text/plain": [
       "<Figure size 1200x800 with 1 Axes>"
      ]
     },
     "metadata": {},
     "output_type": "display_data"
    }
   ],
   "source": [
    "fig, ax = plt.subplots(figsize=(12, 8))\n",
    "\n",
    "sns.scatterplot(x=Y_test, y=Y_predCV, ax=ax, color='blue', label='Predicted')\n",
    "plt.plot([Y_test.min(), Y_test.max()], [Y_test.min(), Y_test.max()], 'r--', lw=2, label='Actual')\n",
    "plt.xlabel('Actual')\n",
    "plt.ylabel('Predicted')\n",
    "plt.title(f'Actual vs Predicted (R²: {r2_score(Y_test, Y_pred):.2f})')\n",
    "plt.grid(True)\n",
    "plt.tight_layout()"
   ]
  },
  {
   "cell_type": "markdown",
   "id": "5c8a4a7c",
   "metadata": {},
   "source": [
    "## Residual plot"
   ]
  },
  {
   "cell_type": "code",
   "execution_count": 27,
   "id": "d7cc325a",
   "metadata": {},
   "outputs": [
    {
     "data": {
      "image/png": "[encoded data removed]",
      "text/plain": [
       "<Figure size 1200x800 with 1 Axes>"
      ]
     },
     "metadata": {},
     "output_type": "display_data"
    }
   ],
   "source": [
    "residuals = Y_test - Y_predCV\n",
    "\n",
    "fig, ax = plt.subplots(figsize=(12, 8))\n",
    "sns.scatterplot(x=Y_predCV, y=residuals, ax=ax, color='blue')\n",
    "plt.axhline(0, color='red', linestyle='--', lw=2)\n",
    "plt.xlabel('Predicted Values')  \n",
    "plt.grid(True)"
   ]
  },
  {
   "cell_type": "markdown",
   "id": "e4918dbe",
   "metadata": {},
   "source": [
    "## Feature Importance"
   ]
  },
  {
   "cell_type": "code",
   "execution_count": 23,
   "id": "34bebed0",
   "metadata": {},
   "outputs": [
    {
     "data": {
      "image/png": "[encoded data removed]",
      "text/plain": [
       "<Figure size 1000x600 with 1 Axes>"
      ]
     },
     "metadata": {},
     "output_type": "display_data"
    }
   ],
   "source": [
    "feature_importance = pd.Series(rfr_model.feature_importances_, index=X.columns)\n",
    "top_features = feature_importance.sort_values(ascending=False).head(20)\n",
    "\n",
    "plt.figure(figsize=(10, 6))\n",
    "sns.barplot(x=top_features.values, y=top_features.index)\n",
    "plt.title(\"Top 20 Feature Importances\")\n",
    "plt.xlabel(\"Importance Score\")\n",
    "plt.tight_layout()\n",
    "plt.show()"
   ]
  },
  {
   "cell_type": "code",
   "execution_count": null,
   "id": "69edd090",
   "metadata": {},
   "outputs": [],
   "source": []
  },
  {
   "cell_type": "code",
   "execution_count": 34,
   "id": "8659db4a",
   "metadata": {},
   "outputs": [
    {
     "data": {
      "text/plain": [
       "['features.pkl']"
      ]
     },
     "execution_count": 34,
     "metadata": {},
     "output_type": "execute_result"
    }
   ],
   "source": [
    "import joblib\n",
    "\n",
    "# Save the model\n",
    "joblib.dump(rfr_model, 'bmi_rf_model.pkl')\n",
    "\n",
    "joblib.dump(X_train.columns.tolist(), \"training_columns.pkl\")\n",
    "# Save the scaler\n",
    "\n",
    "\n",
    "# Save feature names to ensure consistency\n",
    "joblib.dump(list(X.columns), 'features.pkl')"
   ]
  },
  {
   "cell_type": "code",
   "execution_count": 38,
   "id": "fcbf93a8",
   "metadata": {},
   "outputs": [],
   "source": [
    "from sklearn.preprocessing import StandardScaler\n",
    "scaler = StandardScaler()"
   ]
  },
  {
   "cell_type": "code",
   "execution_count": null,
   "id": "a9170828",
   "metadata": {},
   "outputs": [],
   "source": []
  }
 ],
 "metadata": {
  "kernelspec": {
   "display_name": "ds_env",
   "language": "python",
   "name": "python3"
  },
  "language_info": {
   "codemirror_mode": {
    "name": "ipython",
    "version": 3
   },
   "file_extension": ".py",
   "mimetype": "text/x-python",
   "name": "python",
   "nbconvert_exporter": "python",
   "pygments_lexer": "ipython3",
   "version": "3.10.18"
  }
 },
 "nbformat": 4,
 "nbformat_minor": 5
}
